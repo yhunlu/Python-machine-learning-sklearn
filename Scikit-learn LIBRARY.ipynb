{
 "cells": [
  {
   "cell_type": "markdown",
   "id": "eed62e47",
   "metadata": {},
   "source": [
    "## Scikit-learn LIBRARY FOR MACHINE LEARNING MODELING\n",
    "### AKA sklearn"
   ]
  },
  {
   "cell_type": "code",
   "execution_count": 1,
   "id": "a2974ac7",
   "metadata": {},
   "outputs": [],
   "source": [
    "# list of contents\n",
    "workflow = [\n",
    "    \"An end-to-end Scikit-Learn workflow\",\n",
    "    \"Getting the data ready\",\n",
    "    \"Choose the right estimator/algorithm for our problems\",\n",
    "    \"Fit the model/algorithm and use it to make predictions on our data\",\n",
    "    \"Evaluating a model\",\n",
    "    \"Improve a model\",\n",
    "    \"Save and load a trained model\",\n",
    "    \"Putting it all together\",\n",
    "]"
   ]
  },
  {
   "cell_type": "code",
   "execution_count": 2,
   "id": "d6c1304d",
   "metadata": {},
   "outputs": [
    {
     "data": {
      "text/plain": [
       "['An end-to-end Scikit-Learn workflow',\n",
       " 'Getting the data ready',\n",
       " 'Choose the right estimator/algorithm for our problems',\n",
       " 'Fit the model/algorithm and use it to make predictions on our data',\n",
       " 'Evaluating a model',\n",
       " 'Improve a model',\n",
       " 'Save and load a trained model',\n",
       " 'Putting it all together']"
      ]
     },
     "execution_count": 2,
     "metadata": {},
     "output_type": "execute_result"
    }
   ],
   "source": [
    "workflow"
   ]
  },
  {
   "cell_type": "code",
   "execution_count": 3,
   "id": "73fbdb42",
   "metadata": {},
   "outputs": [],
   "source": [
    "# standart imports\n",
    "import numpy as np\n",
    "import pandas as pd\n",
    "import matplotlib.pyplot as plt\n",
    "%matplotlib inline"
   ]
  },
  {
   "cell_type": "markdown",
   "id": "f1d1e427",
   "metadata": {},
   "source": [
    "### Getting our data ready to be used with machine learning\n",
    "\n",
    "Logics:\n",
    "* Split the data into features and labels \"usually 'X' and 'y'\".\n",
    "* Filling \"also called imputing\" or disregarding missing values.\n",
    "* Converting non-numerical values to numerical values \"also called feature encoding\"."
   ]
  },
  {
   "cell_type": "code",
   "execution_count": 4,
   "id": "edba7846",
   "metadata": {},
   "outputs": [
    {
     "data": {
      "text/html": [
       "<div>\n",
       "<style scoped>\n",
       "    .dataframe tbody tr th:only-of-type {\n",
       "        vertical-align: middle;\n",
       "    }\n",
       "\n",
       "    .dataframe tbody tr th {\n",
       "        vertical-align: top;\n",
       "    }\n",
       "\n",
       "    .dataframe thead th {\n",
       "        text-align: right;\n",
       "    }\n",
       "</style>\n",
       "<table border=\"1\" class=\"dataframe\">\n",
       "  <thead>\n",
       "    <tr style=\"text-align: right;\">\n",
       "      <th></th>\n",
       "      <th>age</th>\n",
       "      <th>sex</th>\n",
       "      <th>cp</th>\n",
       "      <th>trestbps</th>\n",
       "      <th>chol</th>\n",
       "      <th>fbs</th>\n",
       "      <th>restecg</th>\n",
       "      <th>thalach</th>\n",
       "      <th>exang</th>\n",
       "      <th>oldpeak</th>\n",
       "      <th>slope</th>\n",
       "      <th>ca</th>\n",
       "      <th>thal</th>\n",
       "      <th>target</th>\n",
       "    </tr>\n",
       "  </thead>\n",
       "  <tbody>\n",
       "    <tr>\n",
       "      <th>0</th>\n",
       "      <td>63</td>\n",
       "      <td>1</td>\n",
       "      <td>3</td>\n",
       "      <td>145</td>\n",
       "      <td>233</td>\n",
       "      <td>1</td>\n",
       "      <td>0</td>\n",
       "      <td>150</td>\n",
       "      <td>0</td>\n",
       "      <td>2.3</td>\n",
       "      <td>0</td>\n",
       "      <td>0</td>\n",
       "      <td>1</td>\n",
       "      <td>1</td>\n",
       "    </tr>\n",
       "    <tr>\n",
       "      <th>1</th>\n",
       "      <td>37</td>\n",
       "      <td>1</td>\n",
       "      <td>2</td>\n",
       "      <td>130</td>\n",
       "      <td>250</td>\n",
       "      <td>0</td>\n",
       "      <td>1</td>\n",
       "      <td>187</td>\n",
       "      <td>0</td>\n",
       "      <td>3.5</td>\n",
       "      <td>0</td>\n",
       "      <td>0</td>\n",
       "      <td>2</td>\n",
       "      <td>1</td>\n",
       "    </tr>\n",
       "    <tr>\n",
       "      <th>2</th>\n",
       "      <td>41</td>\n",
       "      <td>0</td>\n",
       "      <td>1</td>\n",
       "      <td>130</td>\n",
       "      <td>204</td>\n",
       "      <td>0</td>\n",
       "      <td>0</td>\n",
       "      <td>172</td>\n",
       "      <td>0</td>\n",
       "      <td>1.4</td>\n",
       "      <td>2</td>\n",
       "      <td>0</td>\n",
       "      <td>2</td>\n",
       "      <td>1</td>\n",
       "    </tr>\n",
       "    <tr>\n",
       "      <th>3</th>\n",
       "      <td>56</td>\n",
       "      <td>1</td>\n",
       "      <td>1</td>\n",
       "      <td>120</td>\n",
       "      <td>236</td>\n",
       "      <td>0</td>\n",
       "      <td>1</td>\n",
       "      <td>178</td>\n",
       "      <td>0</td>\n",
       "      <td>0.8</td>\n",
       "      <td>2</td>\n",
       "      <td>0</td>\n",
       "      <td>2</td>\n",
       "      <td>1</td>\n",
       "    </tr>\n",
       "    <tr>\n",
       "      <th>4</th>\n",
       "      <td>57</td>\n",
       "      <td>0</td>\n",
       "      <td>0</td>\n",
       "      <td>120</td>\n",
       "      <td>354</td>\n",
       "      <td>0</td>\n",
       "      <td>1</td>\n",
       "      <td>163</td>\n",
       "      <td>1</td>\n",
       "      <td>0.6</td>\n",
       "      <td>2</td>\n",
       "      <td>0</td>\n",
       "      <td>2</td>\n",
       "      <td>1</td>\n",
       "    </tr>\n",
       "  </tbody>\n",
       "</table>\n",
       "</div>"
      ],
      "text/plain": [
       "   age  sex  cp  trestbps  chol  fbs  restecg  thalach  exang  oldpeak  slope  \\\n",
       "0   63    1   3       145   233    1        0      150      0      2.3      0   \n",
       "1   37    1   2       130   250    0        1      187      0      3.5      0   \n",
       "2   41    0   1       130   204    0        0      172      0      1.4      2   \n",
       "3   56    1   1       120   236    0        1      178      0      0.8      2   \n",
       "4   57    0   0       120   354    0        1      163      1      0.6      2   \n",
       "\n",
       "   ca  thal  target  \n",
       "0   0     1       1  \n",
       "1   0     2       1  \n",
       "2   0     2       1  \n",
       "3   0     2       1  \n",
       "4   0     2       1  "
      ]
     },
     "execution_count": 4,
     "metadata": {},
     "output_type": "execute_result"
    }
   ],
   "source": [
    "heart_disease = pd.read_csv('data/heart-disease.csv')\n",
    "heart_disease.head()"
   ]
  },
  {
   "cell_type": "code",
   "execution_count": 5,
   "id": "917e260e",
   "metadata": {},
   "outputs": [
    {
     "data": {
      "text/html": [
       "<div>\n",
       "<style scoped>\n",
       "    .dataframe tbody tr th:only-of-type {\n",
       "        vertical-align: middle;\n",
       "    }\n",
       "\n",
       "    .dataframe tbody tr th {\n",
       "        vertical-align: top;\n",
       "    }\n",
       "\n",
       "    .dataframe thead th {\n",
       "        text-align: right;\n",
       "    }\n",
       "</style>\n",
       "<table border=\"1\" class=\"dataframe\">\n",
       "  <thead>\n",
       "    <tr style=\"text-align: right;\">\n",
       "      <th></th>\n",
       "      <th>age</th>\n",
       "      <th>sex</th>\n",
       "      <th>cp</th>\n",
       "      <th>trestbps</th>\n",
       "      <th>chol</th>\n",
       "      <th>fbs</th>\n",
       "      <th>restecg</th>\n",
       "      <th>thalach</th>\n",
       "      <th>exang</th>\n",
       "      <th>oldpeak</th>\n",
       "      <th>slope</th>\n",
       "      <th>ca</th>\n",
       "      <th>thal</th>\n",
       "    </tr>\n",
       "  </thead>\n",
       "  <tbody>\n",
       "    <tr>\n",
       "      <th>0</th>\n",
       "      <td>63</td>\n",
       "      <td>1</td>\n",
       "      <td>3</td>\n",
       "      <td>145</td>\n",
       "      <td>233</td>\n",
       "      <td>1</td>\n",
       "      <td>0</td>\n",
       "      <td>150</td>\n",
       "      <td>0</td>\n",
       "      <td>2.3</td>\n",
       "      <td>0</td>\n",
       "      <td>0</td>\n",
       "      <td>1</td>\n",
       "    </tr>\n",
       "    <tr>\n",
       "      <th>1</th>\n",
       "      <td>37</td>\n",
       "      <td>1</td>\n",
       "      <td>2</td>\n",
       "      <td>130</td>\n",
       "      <td>250</td>\n",
       "      <td>0</td>\n",
       "      <td>1</td>\n",
       "      <td>187</td>\n",
       "      <td>0</td>\n",
       "      <td>3.5</td>\n",
       "      <td>0</td>\n",
       "      <td>0</td>\n",
       "      <td>2</td>\n",
       "    </tr>\n",
       "    <tr>\n",
       "      <th>2</th>\n",
       "      <td>41</td>\n",
       "      <td>0</td>\n",
       "      <td>1</td>\n",
       "      <td>130</td>\n",
       "      <td>204</td>\n",
       "      <td>0</td>\n",
       "      <td>0</td>\n",
       "      <td>172</td>\n",
       "      <td>0</td>\n",
       "      <td>1.4</td>\n",
       "      <td>2</td>\n",
       "      <td>0</td>\n",
       "      <td>2</td>\n",
       "    </tr>\n",
       "    <tr>\n",
       "      <th>3</th>\n",
       "      <td>56</td>\n",
       "      <td>1</td>\n",
       "      <td>1</td>\n",
       "      <td>120</td>\n",
       "      <td>236</td>\n",
       "      <td>0</td>\n",
       "      <td>1</td>\n",
       "      <td>178</td>\n",
       "      <td>0</td>\n",
       "      <td>0.8</td>\n",
       "      <td>2</td>\n",
       "      <td>0</td>\n",
       "      <td>2</td>\n",
       "    </tr>\n",
       "    <tr>\n",
       "      <th>4</th>\n",
       "      <td>57</td>\n",
       "      <td>0</td>\n",
       "      <td>0</td>\n",
       "      <td>120</td>\n",
       "      <td>354</td>\n",
       "      <td>0</td>\n",
       "      <td>1</td>\n",
       "      <td>163</td>\n",
       "      <td>1</td>\n",
       "      <td>0.6</td>\n",
       "      <td>2</td>\n",
       "      <td>0</td>\n",
       "      <td>2</td>\n",
       "    </tr>\n",
       "  </tbody>\n",
       "</table>\n",
       "</div>"
      ],
      "text/plain": [
       "   age  sex  cp  trestbps  chol  fbs  restecg  thalach  exang  oldpeak  slope  \\\n",
       "0   63    1   3       145   233    1        0      150      0      2.3      0   \n",
       "1   37    1   2       130   250    0        1      187      0      3.5      0   \n",
       "2   41    0   1       130   204    0        0      172      0      1.4      2   \n",
       "3   56    1   1       120   236    0        1      178      0      0.8      2   \n",
       "4   57    0   0       120   354    0        1      163      1      0.6      2   \n",
       "\n",
       "   ca  thal  \n",
       "0   0     1  \n",
       "1   0     2  \n",
       "2   0     2  \n",
       "3   0     2  \n",
       "4   0     2  "
      ]
     },
     "execution_count": 5,
     "metadata": {},
     "output_type": "execute_result"
    }
   ],
   "source": [
    "# axis=1 is column\n",
    "# axis=0 is row\n",
    "\n",
    "X = heart_disease.drop(\"target\", axis=1)\n",
    "X.head()"
   ]
  },
  {
   "cell_type": "code",
   "execution_count": 6,
   "id": "4107147d",
   "metadata": {},
   "outputs": [
    {
     "data": {
      "text/plain": [
       "0    1\n",
       "1    1\n",
       "2    1\n",
       "3    1\n",
       "4    1\n",
       "Name: target, dtype: int64"
      ]
     },
     "execution_count": 6,
     "metadata": {},
     "output_type": "execute_result"
    }
   ],
   "source": [
    "y = heart_disease[\"target\"]\n",
    "y.head()"
   ]
  },
  {
   "cell_type": "code",
   "execution_count": 7,
   "id": "eed2b336",
   "metadata": {},
   "outputs": [],
   "source": [
    "# Split the data into training and test sets\n",
    "from sklearn.model_selection import train_test_split\n",
    "X_train, X_test, y_train, y_test = train_test_split(X, y, test_size=0.2)"
   ]
  },
  {
   "cell_type": "code",
   "execution_count": 8,
   "id": "0babac98",
   "metadata": {},
   "outputs": [
    {
     "data": {
      "text/plain": [
       "((242, 13), (61, 13), (242,), (61,))"
      ]
     },
     "execution_count": 8,
     "metadata": {},
     "output_type": "execute_result"
    }
   ],
   "source": [
    "X_train.shape, X_test.shape, y_train.shape, y_test.shape"
   ]
  },
  {
   "cell_type": "code",
   "execution_count": 9,
   "id": "631bd152",
   "metadata": {},
   "outputs": [
    {
     "data": {
      "text/plain": [
       "(303, 13)"
      ]
     },
     "execution_count": 9,
     "metadata": {},
     "output_type": "execute_result"
    }
   ],
   "source": [
    "X.shape"
   ]
  },
  {
   "cell_type": "code",
   "execution_count": 10,
   "id": "b338accb",
   "metadata": {},
   "outputs": [
    {
     "data": {
      "text/plain": [
       "242.4"
      ]
     },
     "execution_count": 10,
     "metadata": {},
     "output_type": "execute_result"
    }
   ],
   "source": [
    "X.shape[0] * 0.8"
   ]
  },
  {
   "cell_type": "code",
   "execution_count": 11,
   "id": "d59194dd",
   "metadata": {},
   "outputs": [
    {
     "data": {
      "text/plain": [
       "303"
      ]
     },
     "execution_count": 11,
     "metadata": {},
     "output_type": "execute_result"
    }
   ],
   "source": [
    "len(heart_disease)"
   ]
  },
  {
   "cell_type": "markdown",
   "id": "ba5237dc",
   "metadata": {},
   "source": [
    "### Convert Data To Numbers"
   ]
  },
  {
   "cell_type": "code",
   "execution_count": 12,
   "id": "3f6b3b4a",
   "metadata": {
    "scrolled": true
   },
   "outputs": [
    {
     "data": {
      "text/html": [
       "<div>\n",
       "<style scoped>\n",
       "    .dataframe tbody tr th:only-of-type {\n",
       "        vertical-align: middle;\n",
       "    }\n",
       "\n",
       "    .dataframe tbody tr th {\n",
       "        vertical-align: top;\n",
       "    }\n",
       "\n",
       "    .dataframe thead th {\n",
       "        text-align: right;\n",
       "    }\n",
       "</style>\n",
       "<table border=\"1\" class=\"dataframe\">\n",
       "  <thead>\n",
       "    <tr style=\"text-align: right;\">\n",
       "      <th></th>\n",
       "      <th>Make</th>\n",
       "      <th>Colour</th>\n",
       "      <th>Odometer (KM)</th>\n",
       "      <th>Doors</th>\n",
       "      <th>Price</th>\n",
       "    </tr>\n",
       "  </thead>\n",
       "  <tbody>\n",
       "    <tr>\n",
       "      <th>0</th>\n",
       "      <td>Honda</td>\n",
       "      <td>White</td>\n",
       "      <td>35431</td>\n",
       "      <td>4</td>\n",
       "      <td>15323</td>\n",
       "    </tr>\n",
       "    <tr>\n",
       "      <th>1</th>\n",
       "      <td>BMW</td>\n",
       "      <td>Blue</td>\n",
       "      <td>192714</td>\n",
       "      <td>5</td>\n",
       "      <td>19943</td>\n",
       "    </tr>\n",
       "    <tr>\n",
       "      <th>2</th>\n",
       "      <td>Honda</td>\n",
       "      <td>White</td>\n",
       "      <td>84714</td>\n",
       "      <td>4</td>\n",
       "      <td>28343</td>\n",
       "    </tr>\n",
       "    <tr>\n",
       "      <th>3</th>\n",
       "      <td>Toyota</td>\n",
       "      <td>White</td>\n",
       "      <td>154365</td>\n",
       "      <td>4</td>\n",
       "      <td>13434</td>\n",
       "    </tr>\n",
       "    <tr>\n",
       "      <th>4</th>\n",
       "      <td>Nissan</td>\n",
       "      <td>Blue</td>\n",
       "      <td>181577</td>\n",
       "      <td>3</td>\n",
       "      <td>14043</td>\n",
       "    </tr>\n",
       "  </tbody>\n",
       "</table>\n",
       "</div>"
      ],
      "text/plain": [
       "     Make Colour  Odometer (KM)  Doors  Price\n",
       "0   Honda  White          35431      4  15323\n",
       "1     BMW   Blue         192714      5  19943\n",
       "2   Honda  White          84714      4  28343\n",
       "3  Toyota  White         154365      4  13434\n",
       "4  Nissan   Blue         181577      3  14043"
      ]
     },
     "execution_count": 12,
     "metadata": {},
     "output_type": "execute_result"
    }
   ],
   "source": [
    "car_sales = pd.read_csv(\"data/car-sales-extended.csv\")\n",
    "car_sales.head()"
   ]
  },
  {
   "cell_type": "code",
   "execution_count": 13,
   "id": "a0672ed5",
   "metadata": {},
   "outputs": [
    {
     "data": {
      "text/plain": [
       "1000"
      ]
     },
     "execution_count": 13,
     "metadata": {},
     "output_type": "execute_result"
    }
   ],
   "source": [
    "len(car_sales)"
   ]
  },
  {
   "cell_type": "code",
   "execution_count": 14,
   "id": "dac7f553",
   "metadata": {},
   "outputs": [
    {
     "data": {
      "text/plain": [
       "Make             object\n",
       "Colour           object\n",
       "Odometer (KM)     int64\n",
       "Doors             int64\n",
       "Price             int64\n",
       "dtype: object"
      ]
     },
     "execution_count": 14,
     "metadata": {},
     "output_type": "execute_result"
    }
   ],
   "source": [
    "car_sales.dtypes"
   ]
  },
  {
   "cell_type": "code",
   "execution_count": 15,
   "id": "77b38eb5",
   "metadata": {},
   "outputs": [],
   "source": [
    "# Split into X/y\n",
    "X = car_sales.drop(\"Price\", axis=1)\n",
    "y = car_sales[\"Price\"]\n",
    "\n",
    "# Split into training and test\n",
    "X_train, X_test, y_train, y_test = train_test_split(X, y, test_size=0.2)"
   ]
  },
  {
   "cell_type": "code",
   "execution_count": 16,
   "id": "73a8a826",
   "metadata": {},
   "outputs": [
    {
     "data": {
      "text/plain": [
       "array([[0.00000e+00, 1.00000e+00, 0.00000e+00, ..., 1.00000e+00,\n",
       "        0.00000e+00, 3.54310e+04],\n",
       "       [1.00000e+00, 0.00000e+00, 0.00000e+00, ..., 0.00000e+00,\n",
       "        1.00000e+00, 1.92714e+05],\n",
       "       [0.00000e+00, 1.00000e+00, 0.00000e+00, ..., 1.00000e+00,\n",
       "        0.00000e+00, 8.47140e+04],\n",
       "       ...,\n",
       "       [0.00000e+00, 0.00000e+00, 1.00000e+00, ..., 1.00000e+00,\n",
       "        0.00000e+00, 6.66040e+04],\n",
       "       [0.00000e+00, 1.00000e+00, 0.00000e+00, ..., 1.00000e+00,\n",
       "        0.00000e+00, 2.15883e+05],\n",
       "       [0.00000e+00, 0.00000e+00, 0.00000e+00, ..., 1.00000e+00,\n",
       "        0.00000e+00, 2.48360e+05]])"
      ]
     },
     "execution_count": 16,
     "metadata": {},
     "output_type": "execute_result"
    }
   ],
   "source": [
    "# Turn the categories into numbers\n",
    "from sklearn.preprocessing import OneHotEncoder\n",
    "from sklearn.compose import ColumnTransformer\n",
    "\n",
    "categorical_features = [\"Make\", \"Colour\", \"Doors\"]\n",
    "one_hot = OneHotEncoder()\n",
    "transformer = ColumnTransformer([(\"one_hot\", one_hot, categorical_features)], remainder=\"passthrough\")\n",
    "\n",
    "transformed_X = transformer.fit_transform(X)\n",
    "transformed_X"
   ]
  },
  {
   "cell_type": "code",
   "execution_count": 17,
   "id": "dc664205",
   "metadata": {},
   "outputs": [
    {
     "data": {
      "text/html": [
       "<div>\n",
       "<style scoped>\n",
       "    .dataframe tbody tr th:only-of-type {\n",
       "        vertical-align: middle;\n",
       "    }\n",
       "\n",
       "    .dataframe tbody tr th {\n",
       "        vertical-align: top;\n",
       "    }\n",
       "\n",
       "    .dataframe thead th {\n",
       "        text-align: right;\n",
       "    }\n",
       "</style>\n",
       "<table border=\"1\" class=\"dataframe\">\n",
       "  <thead>\n",
       "    <tr style=\"text-align: right;\">\n",
       "      <th></th>\n",
       "      <th>Make</th>\n",
       "      <th>Colour</th>\n",
       "      <th>Odometer (KM)</th>\n",
       "      <th>Doors</th>\n",
       "    </tr>\n",
       "  </thead>\n",
       "  <tbody>\n",
       "    <tr>\n",
       "      <th>0</th>\n",
       "      <td>Honda</td>\n",
       "      <td>White</td>\n",
       "      <td>35431</td>\n",
       "      <td>4</td>\n",
       "    </tr>\n",
       "    <tr>\n",
       "      <th>1</th>\n",
       "      <td>BMW</td>\n",
       "      <td>Blue</td>\n",
       "      <td>192714</td>\n",
       "      <td>5</td>\n",
       "    </tr>\n",
       "    <tr>\n",
       "      <th>2</th>\n",
       "      <td>Honda</td>\n",
       "      <td>White</td>\n",
       "      <td>84714</td>\n",
       "      <td>4</td>\n",
       "    </tr>\n",
       "    <tr>\n",
       "      <th>3</th>\n",
       "      <td>Toyota</td>\n",
       "      <td>White</td>\n",
       "      <td>154365</td>\n",
       "      <td>4</td>\n",
       "    </tr>\n",
       "    <tr>\n",
       "      <th>4</th>\n",
       "      <td>Nissan</td>\n",
       "      <td>Blue</td>\n",
       "      <td>181577</td>\n",
       "      <td>3</td>\n",
       "    </tr>\n",
       "  </tbody>\n",
       "</table>\n",
       "</div>"
      ],
      "text/plain": [
       "     Make Colour  Odometer (KM)  Doors\n",
       "0   Honda  White          35431      4\n",
       "1     BMW   Blue         192714      5\n",
       "2   Honda  White          84714      4\n",
       "3  Toyota  White         154365      4\n",
       "4  Nissan   Blue         181577      3"
      ]
     },
     "execution_count": 17,
     "metadata": {},
     "output_type": "execute_result"
    }
   ],
   "source": [
    "X.head()"
   ]
  },
  {
   "cell_type": "code",
   "execution_count": 18,
   "id": "589aecbe",
   "metadata": {},
   "outputs": [
    {
     "data": {
      "text/html": [
       "<div>\n",
       "<style scoped>\n",
       "    .dataframe tbody tr th:only-of-type {\n",
       "        vertical-align: middle;\n",
       "    }\n",
       "\n",
       "    .dataframe tbody tr th {\n",
       "        vertical-align: top;\n",
       "    }\n",
       "\n",
       "    .dataframe thead th {\n",
       "        text-align: right;\n",
       "    }\n",
       "</style>\n",
       "<table border=\"1\" class=\"dataframe\">\n",
       "  <thead>\n",
       "    <tr style=\"text-align: right;\">\n",
       "      <th></th>\n",
       "      <th>0</th>\n",
       "      <th>1</th>\n",
       "      <th>2</th>\n",
       "      <th>3</th>\n",
       "      <th>4</th>\n",
       "      <th>5</th>\n",
       "      <th>6</th>\n",
       "      <th>7</th>\n",
       "      <th>8</th>\n",
       "      <th>9</th>\n",
       "      <th>10</th>\n",
       "      <th>11</th>\n",
       "      <th>12</th>\n",
       "    </tr>\n",
       "  </thead>\n",
       "  <tbody>\n",
       "    <tr>\n",
       "      <th>0</th>\n",
       "      <td>0.0</td>\n",
       "      <td>1.0</td>\n",
       "      <td>0.0</td>\n",
       "      <td>0.0</td>\n",
       "      <td>0.0</td>\n",
       "      <td>0.0</td>\n",
       "      <td>0.0</td>\n",
       "      <td>0.0</td>\n",
       "      <td>1.0</td>\n",
       "      <td>0.0</td>\n",
       "      <td>1.0</td>\n",
       "      <td>0.0</td>\n",
       "      <td>35431.0</td>\n",
       "    </tr>\n",
       "    <tr>\n",
       "      <th>1</th>\n",
       "      <td>1.0</td>\n",
       "      <td>0.0</td>\n",
       "      <td>0.0</td>\n",
       "      <td>0.0</td>\n",
       "      <td>0.0</td>\n",
       "      <td>1.0</td>\n",
       "      <td>0.0</td>\n",
       "      <td>0.0</td>\n",
       "      <td>0.0</td>\n",
       "      <td>0.0</td>\n",
       "      <td>0.0</td>\n",
       "      <td>1.0</td>\n",
       "      <td>192714.0</td>\n",
       "    </tr>\n",
       "    <tr>\n",
       "      <th>2</th>\n",
       "      <td>0.0</td>\n",
       "      <td>1.0</td>\n",
       "      <td>0.0</td>\n",
       "      <td>0.0</td>\n",
       "      <td>0.0</td>\n",
       "      <td>0.0</td>\n",
       "      <td>0.0</td>\n",
       "      <td>0.0</td>\n",
       "      <td>1.0</td>\n",
       "      <td>0.0</td>\n",
       "      <td>1.0</td>\n",
       "      <td>0.0</td>\n",
       "      <td>84714.0</td>\n",
       "    </tr>\n",
       "    <tr>\n",
       "      <th>3</th>\n",
       "      <td>0.0</td>\n",
       "      <td>0.0</td>\n",
       "      <td>0.0</td>\n",
       "      <td>1.0</td>\n",
       "      <td>0.0</td>\n",
       "      <td>0.0</td>\n",
       "      <td>0.0</td>\n",
       "      <td>0.0</td>\n",
       "      <td>1.0</td>\n",
       "      <td>0.0</td>\n",
       "      <td>1.0</td>\n",
       "      <td>0.0</td>\n",
       "      <td>154365.0</td>\n",
       "    </tr>\n",
       "    <tr>\n",
       "      <th>4</th>\n",
       "      <td>0.0</td>\n",
       "      <td>0.0</td>\n",
       "      <td>1.0</td>\n",
       "      <td>0.0</td>\n",
       "      <td>0.0</td>\n",
       "      <td>1.0</td>\n",
       "      <td>0.0</td>\n",
       "      <td>0.0</td>\n",
       "      <td>0.0</td>\n",
       "      <td>1.0</td>\n",
       "      <td>0.0</td>\n",
       "      <td>0.0</td>\n",
       "      <td>181577.0</td>\n",
       "    </tr>\n",
       "    <tr>\n",
       "      <th>...</th>\n",
       "      <td>...</td>\n",
       "      <td>...</td>\n",
       "      <td>...</td>\n",
       "      <td>...</td>\n",
       "      <td>...</td>\n",
       "      <td>...</td>\n",
       "      <td>...</td>\n",
       "      <td>...</td>\n",
       "      <td>...</td>\n",
       "      <td>...</td>\n",
       "      <td>...</td>\n",
       "      <td>...</td>\n",
       "      <td>...</td>\n",
       "    </tr>\n",
       "    <tr>\n",
       "      <th>995</th>\n",
       "      <td>0.0</td>\n",
       "      <td>0.0</td>\n",
       "      <td>0.0</td>\n",
       "      <td>1.0</td>\n",
       "      <td>1.0</td>\n",
       "      <td>0.0</td>\n",
       "      <td>0.0</td>\n",
       "      <td>0.0</td>\n",
       "      <td>0.0</td>\n",
       "      <td>0.0</td>\n",
       "      <td>1.0</td>\n",
       "      <td>0.0</td>\n",
       "      <td>35820.0</td>\n",
       "    </tr>\n",
       "    <tr>\n",
       "      <th>996</th>\n",
       "      <td>0.0</td>\n",
       "      <td>0.0</td>\n",
       "      <td>1.0</td>\n",
       "      <td>0.0</td>\n",
       "      <td>0.0</td>\n",
       "      <td>0.0</td>\n",
       "      <td>0.0</td>\n",
       "      <td>0.0</td>\n",
       "      <td>1.0</td>\n",
       "      <td>1.0</td>\n",
       "      <td>0.0</td>\n",
       "      <td>0.0</td>\n",
       "      <td>155144.0</td>\n",
       "    </tr>\n",
       "    <tr>\n",
       "      <th>997</th>\n",
       "      <td>0.0</td>\n",
       "      <td>0.0</td>\n",
       "      <td>1.0</td>\n",
       "      <td>0.0</td>\n",
       "      <td>0.0</td>\n",
       "      <td>1.0</td>\n",
       "      <td>0.0</td>\n",
       "      <td>0.0</td>\n",
       "      <td>0.0</td>\n",
       "      <td>0.0</td>\n",
       "      <td>1.0</td>\n",
       "      <td>0.0</td>\n",
       "      <td>66604.0</td>\n",
       "    </tr>\n",
       "    <tr>\n",
       "      <th>998</th>\n",
       "      <td>0.0</td>\n",
       "      <td>1.0</td>\n",
       "      <td>0.0</td>\n",
       "      <td>0.0</td>\n",
       "      <td>0.0</td>\n",
       "      <td>0.0</td>\n",
       "      <td>0.0</td>\n",
       "      <td>0.0</td>\n",
       "      <td>1.0</td>\n",
       "      <td>0.0</td>\n",
       "      <td>1.0</td>\n",
       "      <td>0.0</td>\n",
       "      <td>215883.0</td>\n",
       "    </tr>\n",
       "    <tr>\n",
       "      <th>999</th>\n",
       "      <td>0.0</td>\n",
       "      <td>0.0</td>\n",
       "      <td>0.0</td>\n",
       "      <td>1.0</td>\n",
       "      <td>0.0</td>\n",
       "      <td>1.0</td>\n",
       "      <td>0.0</td>\n",
       "      <td>0.0</td>\n",
       "      <td>0.0</td>\n",
       "      <td>0.0</td>\n",
       "      <td>1.0</td>\n",
       "      <td>0.0</td>\n",
       "      <td>248360.0</td>\n",
       "    </tr>\n",
       "  </tbody>\n",
       "</table>\n",
       "<p>1000 rows × 13 columns</p>\n",
       "</div>"
      ],
      "text/plain": [
       "      0    1    2    3    4    5    6    7    8    9    10   11        12\n",
       "0    0.0  1.0  0.0  0.0  0.0  0.0  0.0  0.0  1.0  0.0  1.0  0.0   35431.0\n",
       "1    1.0  0.0  0.0  0.0  0.0  1.0  0.0  0.0  0.0  0.0  0.0  1.0  192714.0\n",
       "2    0.0  1.0  0.0  0.0  0.0  0.0  0.0  0.0  1.0  0.0  1.0  0.0   84714.0\n",
       "3    0.0  0.0  0.0  1.0  0.0  0.0  0.0  0.0  1.0  0.0  1.0  0.0  154365.0\n",
       "4    0.0  0.0  1.0  0.0  0.0  1.0  0.0  0.0  0.0  1.0  0.0  0.0  181577.0\n",
       "..   ...  ...  ...  ...  ...  ...  ...  ...  ...  ...  ...  ...       ...\n",
       "995  0.0  0.0  0.0  1.0  1.0  0.0  0.0  0.0  0.0  0.0  1.0  0.0   35820.0\n",
       "996  0.0  0.0  1.0  0.0  0.0  0.0  0.0  0.0  1.0  1.0  0.0  0.0  155144.0\n",
       "997  0.0  0.0  1.0  0.0  0.0  1.0  0.0  0.0  0.0  0.0  1.0  0.0   66604.0\n",
       "998  0.0  1.0  0.0  0.0  0.0  0.0  0.0  0.0  1.0  0.0  1.0  0.0  215883.0\n",
       "999  0.0  0.0  0.0  1.0  0.0  1.0  0.0  0.0  0.0  0.0  1.0  0.0  248360.0\n",
       "\n",
       "[1000 rows x 13 columns]"
      ]
     },
     "execution_count": 18,
     "metadata": {},
     "output_type": "execute_result"
    }
   ],
   "source": [
    "pd.DataFrame(transformed_X)"
   ]
  },
  {
   "cell_type": "code",
   "execution_count": 19,
   "id": "53171efd",
   "metadata": {},
   "outputs": [
    {
     "data": {
      "text/html": [
       "<div>\n",
       "<style scoped>\n",
       "    .dataframe tbody tr th:only-of-type {\n",
       "        vertical-align: middle;\n",
       "    }\n",
       "\n",
       "    .dataframe tbody tr th {\n",
       "        vertical-align: top;\n",
       "    }\n",
       "\n",
       "    .dataframe thead th {\n",
       "        text-align: right;\n",
       "    }\n",
       "</style>\n",
       "<table border=\"1\" class=\"dataframe\">\n",
       "  <thead>\n",
       "    <tr style=\"text-align: right;\">\n",
       "      <th></th>\n",
       "      <th>Doors</th>\n",
       "      <th>Make_BMW</th>\n",
       "      <th>Make_Honda</th>\n",
       "      <th>Make_Nissan</th>\n",
       "      <th>Make_Toyota</th>\n",
       "      <th>Colour_Black</th>\n",
       "      <th>Colour_Blue</th>\n",
       "      <th>Colour_Green</th>\n",
       "      <th>Colour_Red</th>\n",
       "      <th>Colour_White</th>\n",
       "    </tr>\n",
       "  </thead>\n",
       "  <tbody>\n",
       "    <tr>\n",
       "      <th>0</th>\n",
       "      <td>4</td>\n",
       "      <td>0</td>\n",
       "      <td>1</td>\n",
       "      <td>0</td>\n",
       "      <td>0</td>\n",
       "      <td>0</td>\n",
       "      <td>0</td>\n",
       "      <td>0</td>\n",
       "      <td>0</td>\n",
       "      <td>1</td>\n",
       "    </tr>\n",
       "    <tr>\n",
       "      <th>1</th>\n",
       "      <td>5</td>\n",
       "      <td>1</td>\n",
       "      <td>0</td>\n",
       "      <td>0</td>\n",
       "      <td>0</td>\n",
       "      <td>0</td>\n",
       "      <td>1</td>\n",
       "      <td>0</td>\n",
       "      <td>0</td>\n",
       "      <td>0</td>\n",
       "    </tr>\n",
       "    <tr>\n",
       "      <th>2</th>\n",
       "      <td>4</td>\n",
       "      <td>0</td>\n",
       "      <td>1</td>\n",
       "      <td>0</td>\n",
       "      <td>0</td>\n",
       "      <td>0</td>\n",
       "      <td>0</td>\n",
       "      <td>0</td>\n",
       "      <td>0</td>\n",
       "      <td>1</td>\n",
       "    </tr>\n",
       "    <tr>\n",
       "      <th>3</th>\n",
       "      <td>4</td>\n",
       "      <td>0</td>\n",
       "      <td>0</td>\n",
       "      <td>0</td>\n",
       "      <td>1</td>\n",
       "      <td>0</td>\n",
       "      <td>0</td>\n",
       "      <td>0</td>\n",
       "      <td>0</td>\n",
       "      <td>1</td>\n",
       "    </tr>\n",
       "    <tr>\n",
       "      <th>4</th>\n",
       "      <td>3</td>\n",
       "      <td>0</td>\n",
       "      <td>0</td>\n",
       "      <td>1</td>\n",
       "      <td>0</td>\n",
       "      <td>0</td>\n",
       "      <td>1</td>\n",
       "      <td>0</td>\n",
       "      <td>0</td>\n",
       "      <td>0</td>\n",
       "    </tr>\n",
       "    <tr>\n",
       "      <th>...</th>\n",
       "      <td>...</td>\n",
       "      <td>...</td>\n",
       "      <td>...</td>\n",
       "      <td>...</td>\n",
       "      <td>...</td>\n",
       "      <td>...</td>\n",
       "      <td>...</td>\n",
       "      <td>...</td>\n",
       "      <td>...</td>\n",
       "      <td>...</td>\n",
       "    </tr>\n",
       "    <tr>\n",
       "      <th>995</th>\n",
       "      <td>4</td>\n",
       "      <td>0</td>\n",
       "      <td>0</td>\n",
       "      <td>0</td>\n",
       "      <td>1</td>\n",
       "      <td>1</td>\n",
       "      <td>0</td>\n",
       "      <td>0</td>\n",
       "      <td>0</td>\n",
       "      <td>0</td>\n",
       "    </tr>\n",
       "    <tr>\n",
       "      <th>996</th>\n",
       "      <td>3</td>\n",
       "      <td>0</td>\n",
       "      <td>0</td>\n",
       "      <td>1</td>\n",
       "      <td>0</td>\n",
       "      <td>0</td>\n",
       "      <td>0</td>\n",
       "      <td>0</td>\n",
       "      <td>0</td>\n",
       "      <td>1</td>\n",
       "    </tr>\n",
       "    <tr>\n",
       "      <th>997</th>\n",
       "      <td>4</td>\n",
       "      <td>0</td>\n",
       "      <td>0</td>\n",
       "      <td>1</td>\n",
       "      <td>0</td>\n",
       "      <td>0</td>\n",
       "      <td>1</td>\n",
       "      <td>0</td>\n",
       "      <td>0</td>\n",
       "      <td>0</td>\n",
       "    </tr>\n",
       "    <tr>\n",
       "      <th>998</th>\n",
       "      <td>4</td>\n",
       "      <td>0</td>\n",
       "      <td>1</td>\n",
       "      <td>0</td>\n",
       "      <td>0</td>\n",
       "      <td>0</td>\n",
       "      <td>0</td>\n",
       "      <td>0</td>\n",
       "      <td>0</td>\n",
       "      <td>1</td>\n",
       "    </tr>\n",
       "    <tr>\n",
       "      <th>999</th>\n",
       "      <td>4</td>\n",
       "      <td>0</td>\n",
       "      <td>0</td>\n",
       "      <td>0</td>\n",
       "      <td>1</td>\n",
       "      <td>0</td>\n",
       "      <td>1</td>\n",
       "      <td>0</td>\n",
       "      <td>0</td>\n",
       "      <td>0</td>\n",
       "    </tr>\n",
       "  </tbody>\n",
       "</table>\n",
       "<p>1000 rows × 10 columns</p>\n",
       "</div>"
      ],
      "text/plain": [
       "     Doors  Make_BMW  Make_Honda  Make_Nissan  Make_Toyota  Colour_Black  \\\n",
       "0        4         0           1            0            0             0   \n",
       "1        5         1           0            0            0             0   \n",
       "2        4         0           1            0            0             0   \n",
       "3        4         0           0            0            1             0   \n",
       "4        3         0           0            1            0             0   \n",
       "..     ...       ...         ...          ...          ...           ...   \n",
       "995      4         0           0            0            1             1   \n",
       "996      3         0           0            1            0             0   \n",
       "997      4         0           0            1            0             0   \n",
       "998      4         0           1            0            0             0   \n",
       "999      4         0           0            0            1             0   \n",
       "\n",
       "     Colour_Blue  Colour_Green  Colour_Red  Colour_White  \n",
       "0              0             0           0             1  \n",
       "1              1             0           0             0  \n",
       "2              0             0           0             1  \n",
       "3              0             0           0             1  \n",
       "4              1             0           0             0  \n",
       "..           ...           ...         ...           ...  \n",
       "995            0             0           0             0  \n",
       "996            0             0           0             1  \n",
       "997            1             0           0             0  \n",
       "998            0             0           0             1  \n",
       "999            1             0           0             0  \n",
       "\n",
       "[1000 rows x 10 columns]"
      ]
     },
     "execution_count": 19,
     "metadata": {},
     "output_type": "execute_result"
    }
   ],
   "source": [
    "dummies = pd.get_dummies(car_sales[[\"Make\", \"Colour\", \"Doors\"]])\n",
    "dummies"
   ]
  },
  {
   "cell_type": "code",
   "execution_count": 20,
   "id": "5f73979d",
   "metadata": {},
   "outputs": [],
   "source": [
    "# refit the model\n",
    "np.random.seed(42)\n",
    "X_train, X_test, y_train, y_test = train_test_split(transformed_X, y, test_size=0.2)\n",
    "\n",
    "# model.fit(X_train, y_train)"
   ]
  },
  {
   "cell_type": "code",
   "execution_count": 21,
   "id": "932153ff",
   "metadata": {},
   "outputs": [],
   "source": [
    "# model.score(X_test, y_test)"
   ]
  },
  {
   "cell_type": "code",
   "execution_count": 22,
   "id": "eb0de00b",
   "metadata": {
    "scrolled": false
   },
   "outputs": [
    {
     "data": {
      "text/plain": [
       "0.3235867221569877"
      ]
     },
     "execution_count": 22,
     "metadata": {},
     "output_type": "execute_result"
    }
   ],
   "source": [
    "# Build machine learning model\n",
    "from sklearn.ensemble import RandomForestRegressor\n",
    "\n",
    "model = RandomForestRegressor()\n",
    "model.fit(X_train, y_train)\n",
    "model.score(X_test, y_test)"
   ]
  },
  {
   "cell_type": "markdown",
   "id": "128901f6",
   "metadata": {},
   "source": [
    "### Handling Missing Values With Pandas\n",
    "\n",
    "* Fill them with some value \"also known as imputation\".\n",
    "* Remove the samples with missing data altogether."
   ]
  },
  {
   "cell_type": "code",
   "execution_count": 23,
   "id": "ac4690e5",
   "metadata": {},
   "outputs": [
    {
     "data": {
      "text/html": [
       "<div>\n",
       "<style scoped>\n",
       "    .dataframe tbody tr th:only-of-type {\n",
       "        vertical-align: middle;\n",
       "    }\n",
       "\n",
       "    .dataframe tbody tr th {\n",
       "        vertical-align: top;\n",
       "    }\n",
       "\n",
       "    .dataframe thead th {\n",
       "        text-align: right;\n",
       "    }\n",
       "</style>\n",
       "<table border=\"1\" class=\"dataframe\">\n",
       "  <thead>\n",
       "    <tr style=\"text-align: right;\">\n",
       "      <th></th>\n",
       "      <th>Make</th>\n",
       "      <th>Colour</th>\n",
       "      <th>Odometer (KM)</th>\n",
       "      <th>Doors</th>\n",
       "      <th>Price</th>\n",
       "    </tr>\n",
       "  </thead>\n",
       "  <tbody>\n",
       "    <tr>\n",
       "      <th>0</th>\n",
       "      <td>Honda</td>\n",
       "      <td>White</td>\n",
       "      <td>35431.0</td>\n",
       "      <td>4.0</td>\n",
       "      <td>15323.0</td>\n",
       "    </tr>\n",
       "    <tr>\n",
       "      <th>1</th>\n",
       "      <td>BMW</td>\n",
       "      <td>Blue</td>\n",
       "      <td>192714.0</td>\n",
       "      <td>5.0</td>\n",
       "      <td>19943.0</td>\n",
       "    </tr>\n",
       "    <tr>\n",
       "      <th>2</th>\n",
       "      <td>Honda</td>\n",
       "      <td>White</td>\n",
       "      <td>84714.0</td>\n",
       "      <td>4.0</td>\n",
       "      <td>28343.0</td>\n",
       "    </tr>\n",
       "    <tr>\n",
       "      <th>3</th>\n",
       "      <td>Toyota</td>\n",
       "      <td>White</td>\n",
       "      <td>154365.0</td>\n",
       "      <td>4.0</td>\n",
       "      <td>13434.0</td>\n",
       "    </tr>\n",
       "    <tr>\n",
       "      <th>4</th>\n",
       "      <td>Nissan</td>\n",
       "      <td>Blue</td>\n",
       "      <td>181577.0</td>\n",
       "      <td>3.0</td>\n",
       "      <td>14043.0</td>\n",
       "    </tr>\n",
       "  </tbody>\n",
       "</table>\n",
       "</div>"
      ],
      "text/plain": [
       "     Make Colour  Odometer (KM)  Doors    Price\n",
       "0   Honda  White        35431.0    4.0  15323.0\n",
       "1     BMW   Blue       192714.0    5.0  19943.0\n",
       "2   Honda  White        84714.0    4.0  28343.0\n",
       "3  Toyota  White       154365.0    4.0  13434.0\n",
       "4  Nissan   Blue       181577.0    3.0  14043.0"
      ]
     },
     "execution_count": 23,
     "metadata": {},
     "output_type": "execute_result"
    }
   ],
   "source": [
    "car_sales_missing = pd.read_csv(\"data/car-sales-extended-missing-data.csv\")\n",
    "car_sales_missing.head()"
   ]
  },
  {
   "cell_type": "code",
   "execution_count": 24,
   "id": "6fb45003",
   "metadata": {},
   "outputs": [
    {
     "data": {
      "text/plain": [
       "Make             49\n",
       "Colour           50\n",
       "Odometer (KM)    50\n",
       "Doors            50\n",
       "Price            50\n",
       "dtype: int64"
      ]
     },
     "execution_count": 24,
     "metadata": {},
     "output_type": "execute_result"
    }
   ],
   "source": [
    "# show how many missing values\n",
    "car_sales_missing.isna().sum()"
   ]
  },
  {
   "cell_type": "markdown",
   "id": "e2ca599a",
   "metadata": {},
   "source": [
    "### Option 1: Fill missing data with Pandas"
   ]
  },
  {
   "cell_type": "code",
   "execution_count": 25,
   "id": "a91ca682",
   "metadata": {},
   "outputs": [
    {
     "data": {
      "text/plain": [
       "4.0    811\n",
       "5.0     75\n",
       "3.0     64\n",
       "Name: Doors, dtype: int64"
      ]
     },
     "execution_count": 25,
     "metadata": {},
     "output_type": "execute_result"
    }
   ],
   "source": [
    "car_sales_missing[\"Doors\"].value_counts()"
   ]
  },
  {
   "cell_type": "code",
   "execution_count": 26,
   "id": "220c27eb",
   "metadata": {},
   "outputs": [],
   "source": [
    "# fill the \"Make\" column\n",
    "car_sales_missing[\"Make\"].fillna(\"missing\", inplace=True)\n",
    "\n",
    "# fill the \"Colour\" column\n",
    "car_sales_missing[\"Colour\"].fillna(\"missing\", inplace=True)\n",
    "\n",
    "# fill the \"Odometer (KM)\" column\n",
    "car_sales_missing[\"Odometer (KM)\"].fillna(car_sales_missing[\"Odometer (KM)\"].mean(), inplace=True)\n",
    "\n",
    "# fill the \"Doors\" column\n",
    "car_sales_missing[\"Doors\"].fillna(4, inplace=True)"
   ]
  },
  {
   "cell_type": "code",
   "execution_count": 27,
   "id": "afcf3c7c",
   "metadata": {},
   "outputs": [
    {
     "data": {
      "text/plain": [
       "Make              0\n",
       "Colour            0\n",
       "Odometer (KM)     0\n",
       "Doors             0\n",
       "Price            50\n",
       "dtype: int64"
      ]
     },
     "execution_count": 27,
     "metadata": {},
     "output_type": "execute_result"
    }
   ],
   "source": [
    "# check our dataframe again\n",
    "car_sales_missing.isna().sum()"
   ]
  },
  {
   "cell_type": "code",
   "execution_count": 28,
   "id": "69dafe94",
   "metadata": {},
   "outputs": [],
   "source": [
    "# remove rows with missing Price value\n",
    "car_sales_missing.dropna(inplace=True)"
   ]
  },
  {
   "cell_type": "code",
   "execution_count": 29,
   "id": "bf994993",
   "metadata": {},
   "outputs": [
    {
     "data": {
      "text/plain": [
       "Make             0\n",
       "Colour           0\n",
       "Odometer (KM)    0\n",
       "Doors            0\n",
       "Price            0\n",
       "dtype: int64"
      ]
     },
     "execution_count": 29,
     "metadata": {},
     "output_type": "execute_result"
    }
   ],
   "source": [
    "car_sales_missing.isna().sum()"
   ]
  },
  {
   "cell_type": "code",
   "execution_count": 30,
   "id": "8ea8c368",
   "metadata": {},
   "outputs": [],
   "source": [
    "# get data ready\n",
    "X = car_sales_missing.drop(\"Price\", axis=1)\n",
    "y = car_sales_missing[\"Price\"]"
   ]
  },
  {
   "cell_type": "code",
   "execution_count": 31,
   "id": "e7d00beb",
   "metadata": {},
   "outputs": [
    {
     "data": {
      "text/plain": [
       "array([[0.00000e+00, 1.00000e+00, 0.00000e+00, ..., 0.00000e+00,\n",
       "        3.54310e+04, 1.53230e+04],\n",
       "       [1.00000e+00, 0.00000e+00, 0.00000e+00, ..., 1.00000e+00,\n",
       "        1.92714e+05, 1.99430e+04],\n",
       "       [0.00000e+00, 1.00000e+00, 0.00000e+00, ..., 0.00000e+00,\n",
       "        8.47140e+04, 2.83430e+04],\n",
       "       ...,\n",
       "       [0.00000e+00, 0.00000e+00, 1.00000e+00, ..., 0.00000e+00,\n",
       "        6.66040e+04, 3.15700e+04],\n",
       "       [0.00000e+00, 1.00000e+00, 0.00000e+00, ..., 0.00000e+00,\n",
       "        2.15883e+05, 4.00100e+03],\n",
       "       [0.00000e+00, 0.00000e+00, 0.00000e+00, ..., 0.00000e+00,\n",
       "        2.48360e+05, 1.27320e+04]])"
      ]
     },
     "execution_count": 31,
     "metadata": {},
     "output_type": "execute_result"
    }
   ],
   "source": [
    "# Turn the categories into numbers\n",
    "from sklearn.preprocessing import OneHotEncoder\n",
    "from sklearn.compose import ColumnTransformer\n",
    "\n",
    "categorical_features = [\"Make\", \"Colour\", \"Doors\"]\n",
    "one_hot = OneHotEncoder()\n",
    "transformer = ColumnTransformer([(\"one_hot\", one_hot, categorical_features)], remainder=\"passthrough\")\n",
    "\n",
    "transformed_X = transformer.fit_transform(car_sales_missing)\n",
    "transformed_X"
   ]
  },
  {
   "cell_type": "markdown",
   "id": "75d9905d",
   "metadata": {},
   "source": [
    "### Handling Missing Values With Scikit-learn\n",
    "#### Option 2: Fill missing values with sklearn"
   ]
  },
  {
   "cell_type": "code",
   "execution_count": 32,
   "id": "ad37bb38",
   "metadata": {},
   "outputs": [
    {
     "data": {
      "text/plain": [
       "Make             49\n",
       "Colour           50\n",
       "Odometer (KM)    50\n",
       "Doors            50\n",
       "Price            50\n",
       "dtype: int64"
      ]
     },
     "execution_count": 32,
     "metadata": {},
     "output_type": "execute_result"
    }
   ],
   "source": [
    "car_sales_missing = pd.read_csv(\"data/car-sales-extended-missing-data.csv\")\n",
    "car_sales_missing.isna().sum()"
   ]
  },
  {
   "cell_type": "code",
   "execution_count": 33,
   "id": "2743339c",
   "metadata": {},
   "outputs": [
    {
     "data": {
      "text/plain": [
       "Make             47\n",
       "Colour           46\n",
       "Odometer (KM)    48\n",
       "Doors            47\n",
       "Price             0\n",
       "dtype: int64"
      ]
     },
     "execution_count": 33,
     "metadata": {},
     "output_type": "execute_result"
    }
   ],
   "source": [
    "# drop the rows with no prices\n",
    "car_sales_missing.dropna(subset=[\"Price\"], inplace=True)\n",
    "car_sales_missing.isna().sum()"
   ]
  },
  {
   "cell_type": "code",
   "execution_count": 34,
   "id": "f2bb975f",
   "metadata": {},
   "outputs": [],
   "source": [
    "# Split into X and y\n",
    "X = car_sales_missing.drop(\"Price\", axis=1)\n",
    "y = car_sales_missing[\"Price\"]"
   ]
  },
  {
   "cell_type": "code",
   "execution_count": 35,
   "id": "26d9a1b3",
   "metadata": {},
   "outputs": [
    {
     "data": {
      "text/plain": [
       "array([['Honda', 'White', 4.0, 35431.0],\n",
       "       ['BMW', 'Blue', 5.0, 192714.0],\n",
       "       ['Honda', 'White', 4.0, 84714.0],\n",
       "       ...,\n",
       "       ['Nissan', 'Blue', 4.0, 66604.0],\n",
       "       ['Honda', 'White', 4.0, 215883.0],\n",
       "       ['Toyota', 'Blue', 4.0, 248360.0]], dtype=object)"
      ]
     },
     "execution_count": 35,
     "metadata": {},
     "output_type": "execute_result"
    }
   ],
   "source": [
    "# fill missing values with Scikit-Learn\n",
    "from sklearn.impute import SimpleImputer\n",
    "from sklearn.compose import ColumnTransformer\n",
    "\n",
    "# fill categorical values with 'missing' and numerical values with mean()\n",
    "cat_imputer = SimpleImputer(strategy=\"constant\", fill_value=\"missing\")\n",
    "door_imputer = SimpleImputer(strategy=\"constant\", fill_value=4)\n",
    "num_imputer = SimpleImputer(strategy=\"mean\")\n",
    "\n",
    "# define columns\n",
    "cat_features = [\"Make\", \"Colour\"]\n",
    "door_feature = [\"Doors\"]\n",
    "num_feature =[\"Odometer (KM)\"]\n",
    "\n",
    "# create an imputer \"something that fills missing data\"\n",
    "imputer = ColumnTransformer([\n",
    "    (\"cat_imputer\", cat_imputer, cat_features),\n",
    "    (\"door_imputer\", door_imputer, door_feature),\n",
    "    (\"num_imputer\", num_imputer, num_feature)\n",
    "])\n",
    "\n",
    "# Transform the data\n",
    "filled_X = imputer.fit_transform(X)\n",
    "filled_X"
   ]
  },
  {
   "cell_type": "code",
   "execution_count": 36,
   "id": "0dd8715e",
   "metadata": {},
   "outputs": [
    {
     "data": {
      "text/html": [
       "<div>\n",
       "<style scoped>\n",
       "    .dataframe tbody tr th:only-of-type {\n",
       "        vertical-align: middle;\n",
       "    }\n",
       "\n",
       "    .dataframe tbody tr th {\n",
       "        vertical-align: top;\n",
       "    }\n",
       "\n",
       "    .dataframe thead th {\n",
       "        text-align: right;\n",
       "    }\n",
       "</style>\n",
       "<table border=\"1\" class=\"dataframe\">\n",
       "  <thead>\n",
       "    <tr style=\"text-align: right;\">\n",
       "      <th></th>\n",
       "      <th>0</th>\n",
       "      <th>1</th>\n",
       "      <th>2</th>\n",
       "      <th>3</th>\n",
       "    </tr>\n",
       "  </thead>\n",
       "  <tbody>\n",
       "    <tr>\n",
       "      <th>0</th>\n",
       "      <td>Honda</td>\n",
       "      <td>White</td>\n",
       "      <td>4.0</td>\n",
       "      <td>35431.0</td>\n",
       "    </tr>\n",
       "    <tr>\n",
       "      <th>1</th>\n",
       "      <td>BMW</td>\n",
       "      <td>Blue</td>\n",
       "      <td>5.0</td>\n",
       "      <td>192714.0</td>\n",
       "    </tr>\n",
       "    <tr>\n",
       "      <th>2</th>\n",
       "      <td>Honda</td>\n",
       "      <td>White</td>\n",
       "      <td>4.0</td>\n",
       "      <td>84714.0</td>\n",
       "    </tr>\n",
       "    <tr>\n",
       "      <th>3</th>\n",
       "      <td>Toyota</td>\n",
       "      <td>White</td>\n",
       "      <td>4.0</td>\n",
       "      <td>154365.0</td>\n",
       "    </tr>\n",
       "    <tr>\n",
       "      <th>4</th>\n",
       "      <td>Nissan</td>\n",
       "      <td>Blue</td>\n",
       "      <td>3.0</td>\n",
       "      <td>181577.0</td>\n",
       "    </tr>\n",
       "    <tr>\n",
       "      <th>...</th>\n",
       "      <td>...</td>\n",
       "      <td>...</td>\n",
       "      <td>...</td>\n",
       "      <td>...</td>\n",
       "    </tr>\n",
       "    <tr>\n",
       "      <th>945</th>\n",
       "      <td>Toyota</td>\n",
       "      <td>Black</td>\n",
       "      <td>4.0</td>\n",
       "      <td>35820.0</td>\n",
       "    </tr>\n",
       "    <tr>\n",
       "      <th>946</th>\n",
       "      <td>missing</td>\n",
       "      <td>White</td>\n",
       "      <td>3.0</td>\n",
       "      <td>155144.0</td>\n",
       "    </tr>\n",
       "    <tr>\n",
       "      <th>947</th>\n",
       "      <td>Nissan</td>\n",
       "      <td>Blue</td>\n",
       "      <td>4.0</td>\n",
       "      <td>66604.0</td>\n",
       "    </tr>\n",
       "    <tr>\n",
       "      <th>948</th>\n",
       "      <td>Honda</td>\n",
       "      <td>White</td>\n",
       "      <td>4.0</td>\n",
       "      <td>215883.0</td>\n",
       "    </tr>\n",
       "    <tr>\n",
       "      <th>949</th>\n",
       "      <td>Toyota</td>\n",
       "      <td>Blue</td>\n",
       "      <td>4.0</td>\n",
       "      <td>248360.0</td>\n",
       "    </tr>\n",
       "  </tbody>\n",
       "</table>\n",
       "<p>950 rows × 4 columns</p>\n",
       "</div>"
      ],
      "text/plain": [
       "           0      1    2         3\n",
       "0      Honda  White  4.0   35431.0\n",
       "1        BMW   Blue  5.0  192714.0\n",
       "2      Honda  White  4.0   84714.0\n",
       "3     Toyota  White  4.0  154365.0\n",
       "4     Nissan   Blue  3.0  181577.0\n",
       "..       ...    ...  ...       ...\n",
       "945   Toyota  Black  4.0   35820.0\n",
       "946  missing  White  3.0  155144.0\n",
       "947   Nissan   Blue  4.0   66604.0\n",
       "948    Honda  White  4.0  215883.0\n",
       "949   Toyota   Blue  4.0  248360.0\n",
       "\n",
       "[950 rows x 4 columns]"
      ]
     },
     "execution_count": 36,
     "metadata": {},
     "output_type": "execute_result"
    }
   ],
   "source": [
    "pd.DataFrame(filled_X)"
   ]
  },
  {
   "cell_type": "code",
   "execution_count": 37,
   "id": "3fc80dfe",
   "metadata": {},
   "outputs": [
    {
     "data": {
      "text/html": [
       "<div>\n",
       "<style scoped>\n",
       "    .dataframe tbody tr th:only-of-type {\n",
       "        vertical-align: middle;\n",
       "    }\n",
       "\n",
       "    .dataframe tbody tr th {\n",
       "        vertical-align: top;\n",
       "    }\n",
       "\n",
       "    .dataframe thead th {\n",
       "        text-align: right;\n",
       "    }\n",
       "</style>\n",
       "<table border=\"1\" class=\"dataframe\">\n",
       "  <thead>\n",
       "    <tr style=\"text-align: right;\">\n",
       "      <th></th>\n",
       "      <th>Make</th>\n",
       "      <th>Colour</th>\n",
       "      <th>Doors</th>\n",
       "      <th>Odometer (KM)</th>\n",
       "    </tr>\n",
       "  </thead>\n",
       "  <tbody>\n",
       "    <tr>\n",
       "      <th>0</th>\n",
       "      <td>Honda</td>\n",
       "      <td>White</td>\n",
       "      <td>4.0</td>\n",
       "      <td>35431.0</td>\n",
       "    </tr>\n",
       "    <tr>\n",
       "      <th>1</th>\n",
       "      <td>BMW</td>\n",
       "      <td>Blue</td>\n",
       "      <td>5.0</td>\n",
       "      <td>192714.0</td>\n",
       "    </tr>\n",
       "    <tr>\n",
       "      <th>2</th>\n",
       "      <td>Honda</td>\n",
       "      <td>White</td>\n",
       "      <td>4.0</td>\n",
       "      <td>84714.0</td>\n",
       "    </tr>\n",
       "    <tr>\n",
       "      <th>3</th>\n",
       "      <td>Toyota</td>\n",
       "      <td>White</td>\n",
       "      <td>4.0</td>\n",
       "      <td>154365.0</td>\n",
       "    </tr>\n",
       "    <tr>\n",
       "      <th>4</th>\n",
       "      <td>Nissan</td>\n",
       "      <td>Blue</td>\n",
       "      <td>3.0</td>\n",
       "      <td>181577.0</td>\n",
       "    </tr>\n",
       "  </tbody>\n",
       "</table>\n",
       "</div>"
      ],
      "text/plain": [
       "     Make Colour Doors Odometer (KM)\n",
       "0   Honda  White   4.0       35431.0\n",
       "1     BMW   Blue   5.0      192714.0\n",
       "2   Honda  White   4.0       84714.0\n",
       "3  Toyota  White   4.0      154365.0\n",
       "4  Nissan   Blue   3.0      181577.0"
      ]
     },
     "execution_count": 37,
     "metadata": {},
     "output_type": "execute_result"
    }
   ],
   "source": [
    "car_sales_filled = pd.DataFrame(filled_X, columns=[\"Make\", \"Colour\", \"Doors\", \"Odometer (KM)\"])\n",
    "car_sales_filled.head()"
   ]
  },
  {
   "cell_type": "code",
   "execution_count": 38,
   "id": "10032566",
   "metadata": {},
   "outputs": [
    {
     "data": {
      "text/plain": [
       "Make             0\n",
       "Colour           0\n",
       "Doors            0\n",
       "Odometer (KM)    0\n",
       "dtype: int64"
      ]
     },
     "execution_count": 38,
     "metadata": {},
     "output_type": "execute_result"
    }
   ],
   "source": [
    "car_sales_filled.isna().sum()"
   ]
  },
  {
   "cell_type": "code",
   "execution_count": 39,
   "id": "57530458",
   "metadata": {},
   "outputs": [
    {
     "data": {
      "text/plain": [
       "<950x15 sparse matrix of type '<class 'numpy.float64'>'\n",
       "\twith 3800 stored elements in Compressed Sparse Row format>"
      ]
     },
     "execution_count": 39,
     "metadata": {},
     "output_type": "execute_result"
    }
   ],
   "source": [
    "# Turn the categories into numbers\n",
    "from sklearn.preprocessing import OneHotEncoder\n",
    "from sklearn.compose import ColumnTransformer\n",
    "\n",
    "categorical_features = [\"Make\", \"Colour\", \"Doors\"]\n",
    "one_hot = OneHotEncoder()\n",
    "transformer = ColumnTransformer([(\"one_hot\", one_hot, categorical_features)], remainder=\"passthrough\")\n",
    "\n",
    "transformed_X = transformer.fit_transform(car_sales_filled)\n",
    "transformed_X"
   ]
  },
  {
   "cell_type": "code",
   "execution_count": 40,
   "id": "35e96197",
   "metadata": {},
   "outputs": [
    {
     "data": {
      "text/plain": [
       "0.21990196728583944"
      ]
     },
     "execution_count": 40,
     "metadata": {},
     "output_type": "execute_result"
    }
   ],
   "source": [
    "# data as number and filled \"no missing values\"\n",
    "# fit a model\n",
    "np.random.seed(42)\n",
    "from sklearn.ensemble import RandomForestRegressor\n",
    "from sklearn.model_selection import train_test_split\n",
    "\n",
    "X_train, X_test, y_train, y_test = train_test_split(transformed_X, y, test_size=0.2)\n",
    "\n",
    "model = RandomForestRegressor()\n",
    "model.fit(X_train, y_train)\n",
    "model.score(X_test, y_test)"
   ]
  },
  {
   "cell_type": "code",
   "execution_count": 41,
   "id": "5fc2b198",
   "metadata": {},
   "outputs": [
    {
     "data": {
      "text/plain": [
       "['An end-to-end Scikit-Learn workflow',\n",
       " 'Getting the data ready',\n",
       " 'Choose the right estimator/algorithm for our problems',\n",
       " 'Fit the model/algorithm and use it to make predictions on our data',\n",
       " 'Evaluating a model',\n",
       " 'Improve a model',\n",
       " 'Save and load a trained model',\n",
       " 'Putting it all together']"
      ]
     },
     "execution_count": 41,
     "metadata": {},
     "output_type": "execute_result"
    }
   ],
   "source": [
    "workflow"
   ]
  },
  {
   "cell_type": "markdown",
   "id": "1bba8e5a",
   "metadata": {},
   "source": [
    "## Choose the right estimator/algorithm for our problems\n",
    "\n",
    "Sklearn uses estimator as another term for machine learning model or algorithm.\n",
    "\n",
    "### Choosing The Right Model For Your Data\n",
    "\n",
    "* Classification: predicting whether a sample is one thing or another \"ex: heart disease\"\n",
    "* Regression: predicting a number \"ex: car sales price\""
   ]
  },
  {
   "cell_type": "markdown",
   "id": "41cf350b",
   "metadata": {},
   "source": [
    "![sklearn_mi_map_cheat](documents/sklearn_mi_map_cheat.png)"
   ]
  },
  {
   "cell_type": "markdown",
   "id": "27fd61ae",
   "metadata": {},
   "source": [
    "### Picking a machine learning model for a regression model"
   ]
  },
  {
   "cell_type": "code",
   "execution_count": 42,
   "id": "af3d6840",
   "metadata": {},
   "outputs": [],
   "source": [
    "# import Boston housing dataset from https://www.kaggle.com/code/prasadperera/the-boston-housing-dataset\n",
    "# boston = pd.read_csv('data/boston_house_prices.csv', header=None, delimiter=r\"\\s+\", names=column_names)\n",
    "column_names = ['CRIM', 'ZN', 'INDUS', 'CHAS', 'NOX', 'RM', 'AGE', 'DIS', 'RAD', 'TAX', 'PTRATIO', 'B', 'LSTAT']\n",
    "\n",
    "data_url = \"http://lib.stat.cmu.edu/datasets/boston\"\n",
    "raw_df = pd.read_csv(data_url, sep=\"\\s+\", skiprows=22, header=None)\n",
    "data = np.hstack([raw_df.values[::2, :], raw_df.values[1::2, :2]])\n",
    "target = raw_df.values[1::2, 2]"
   ]
  },
  {
   "cell_type": "code",
   "execution_count": 43,
   "id": "be61b07c",
   "metadata": {
    "scrolled": true
   },
   "outputs": [],
   "source": [
    "boston_df = pd.DataFrame(data, columns=column_names)\n",
    "boston_df[\"target\"] = target"
   ]
  },
  {
   "cell_type": "code",
   "execution_count": 44,
   "id": "bee777bc",
   "metadata": {},
   "outputs": [
    {
     "data": {
      "text/html": [
       "<div>\n",
       "<style scoped>\n",
       "    .dataframe tbody tr th:only-of-type {\n",
       "        vertical-align: middle;\n",
       "    }\n",
       "\n",
       "    .dataframe tbody tr th {\n",
       "        vertical-align: top;\n",
       "    }\n",
       "\n",
       "    .dataframe thead th {\n",
       "        text-align: right;\n",
       "    }\n",
       "</style>\n",
       "<table border=\"1\" class=\"dataframe\">\n",
       "  <thead>\n",
       "    <tr style=\"text-align: right;\">\n",
       "      <th></th>\n",
       "      <th>CRIM</th>\n",
       "      <th>ZN</th>\n",
       "      <th>INDUS</th>\n",
       "      <th>CHAS</th>\n",
       "      <th>NOX</th>\n",
       "      <th>RM</th>\n",
       "      <th>AGE</th>\n",
       "      <th>DIS</th>\n",
       "      <th>RAD</th>\n",
       "      <th>TAX</th>\n",
       "      <th>PTRATIO</th>\n",
       "      <th>B</th>\n",
       "      <th>LSTAT</th>\n",
       "      <th>target</th>\n",
       "    </tr>\n",
       "  </thead>\n",
       "  <tbody>\n",
       "    <tr>\n",
       "      <th>0</th>\n",
       "      <td>0.00632</td>\n",
       "      <td>18.0</td>\n",
       "      <td>2.31</td>\n",
       "      <td>0.0</td>\n",
       "      <td>0.538</td>\n",
       "      <td>6.575</td>\n",
       "      <td>65.2</td>\n",
       "      <td>4.0900</td>\n",
       "      <td>1.0</td>\n",
       "      <td>296.0</td>\n",
       "      <td>15.3</td>\n",
       "      <td>396.90</td>\n",
       "      <td>4.98</td>\n",
       "      <td>24.0</td>\n",
       "    </tr>\n",
       "    <tr>\n",
       "      <th>1</th>\n",
       "      <td>0.02731</td>\n",
       "      <td>0.0</td>\n",
       "      <td>7.07</td>\n",
       "      <td>0.0</td>\n",
       "      <td>0.469</td>\n",
       "      <td>6.421</td>\n",
       "      <td>78.9</td>\n",
       "      <td>4.9671</td>\n",
       "      <td>2.0</td>\n",
       "      <td>242.0</td>\n",
       "      <td>17.8</td>\n",
       "      <td>396.90</td>\n",
       "      <td>9.14</td>\n",
       "      <td>21.6</td>\n",
       "    </tr>\n",
       "    <tr>\n",
       "      <th>2</th>\n",
       "      <td>0.02729</td>\n",
       "      <td>0.0</td>\n",
       "      <td>7.07</td>\n",
       "      <td>0.0</td>\n",
       "      <td>0.469</td>\n",
       "      <td>7.185</td>\n",
       "      <td>61.1</td>\n",
       "      <td>4.9671</td>\n",
       "      <td>2.0</td>\n",
       "      <td>242.0</td>\n",
       "      <td>17.8</td>\n",
       "      <td>392.83</td>\n",
       "      <td>4.03</td>\n",
       "      <td>34.7</td>\n",
       "    </tr>\n",
       "    <tr>\n",
       "      <th>3</th>\n",
       "      <td>0.03237</td>\n",
       "      <td>0.0</td>\n",
       "      <td>2.18</td>\n",
       "      <td>0.0</td>\n",
       "      <td>0.458</td>\n",
       "      <td>6.998</td>\n",
       "      <td>45.8</td>\n",
       "      <td>6.0622</td>\n",
       "      <td>3.0</td>\n",
       "      <td>222.0</td>\n",
       "      <td>18.7</td>\n",
       "      <td>394.63</td>\n",
       "      <td>2.94</td>\n",
       "      <td>33.4</td>\n",
       "    </tr>\n",
       "    <tr>\n",
       "      <th>4</th>\n",
       "      <td>0.06905</td>\n",
       "      <td>0.0</td>\n",
       "      <td>2.18</td>\n",
       "      <td>0.0</td>\n",
       "      <td>0.458</td>\n",
       "      <td>7.147</td>\n",
       "      <td>54.2</td>\n",
       "      <td>6.0622</td>\n",
       "      <td>3.0</td>\n",
       "      <td>222.0</td>\n",
       "      <td>18.7</td>\n",
       "      <td>396.90</td>\n",
       "      <td>5.33</td>\n",
       "      <td>36.2</td>\n",
       "    </tr>\n",
       "  </tbody>\n",
       "</table>\n",
       "</div>"
      ],
      "text/plain": [
       "      CRIM    ZN  INDUS  CHAS    NOX     RM   AGE     DIS  RAD    TAX  \\\n",
       "0  0.00632  18.0   2.31   0.0  0.538  6.575  65.2  4.0900  1.0  296.0   \n",
       "1  0.02731   0.0   7.07   0.0  0.469  6.421  78.9  4.9671  2.0  242.0   \n",
       "2  0.02729   0.0   7.07   0.0  0.469  7.185  61.1  4.9671  2.0  242.0   \n",
       "3  0.03237   0.0   2.18   0.0  0.458  6.998  45.8  6.0622  3.0  222.0   \n",
       "4  0.06905   0.0   2.18   0.0  0.458  7.147  54.2  6.0622  3.0  222.0   \n",
       "\n",
       "   PTRATIO       B  LSTAT  target  \n",
       "0     15.3  396.90   4.98    24.0  \n",
       "1     17.8  396.90   9.14    21.6  \n",
       "2     17.8  392.83   4.03    34.7  \n",
       "3     18.7  394.63   2.94    33.4  \n",
       "4     18.7  396.90   5.33    36.2  "
      ]
     },
     "execution_count": 44,
     "metadata": {},
     "output_type": "execute_result"
    }
   ],
   "source": [
    "boston_df.head()"
   ]
  },
  {
   "cell_type": "code",
   "execution_count": 45,
   "id": "38c212f6",
   "metadata": {},
   "outputs": [
    {
     "data": {
      "text/plain": [
       "506"
      ]
     },
     "execution_count": 45,
     "metadata": {},
     "output_type": "execute_result"
    }
   ],
   "source": [
    "# how many samples\n",
    "len(boston_df)"
   ]
  },
  {
   "cell_type": "code",
   "execution_count": 46,
   "id": "00cf56db",
   "metadata": {},
   "outputs": [
    {
     "data": {
      "text/plain": [
       "0.6662221670168518"
      ]
     },
     "execution_count": 46,
     "metadata": {},
     "output_type": "execute_result"
    }
   ],
   "source": [
    "# Ridge regression\n",
    "from sklearn.linear_model import Ridge\n",
    "\n",
    "# setup random seed\n",
    "np.random.seed(42)\n",
    "\n",
    "# create the data\n",
    "X = boston_df.drop(\"target\", axis=1)\n",
    "y = boston_df[\"target\"]\n",
    "\n",
    "# Split into train and test sets\n",
    "X_train, X_test, y_train, y_test = train_test_split(X, y, test_size=0.2)\n",
    "\n",
    "# Instantiate Ridge model\n",
    "model = Ridge()\n",
    "model.fit(X_train, y_train)\n",
    "\n",
    "# check the score of the Ridge model on test data\n",
    "model.score(X_test, y_test)"
   ]
  },
  {
   "cell_type": "code",
   "execution_count": 47,
   "id": "0d707a4f",
   "metadata": {},
   "outputs": [],
   "source": [
    "# how do we improve this score?\n",
    "# what if Ridge wasn't working?"
   ]
  },
  {
   "cell_type": "markdown",
   "id": "3a8d6ce8",
   "metadata": {},
   "source": [
    "### Choosing The Right Model For Your Data 2 (Regression)"
   ]
  },
  {
   "cell_type": "code",
   "execution_count": 48,
   "id": "0d02f609",
   "metadata": {},
   "outputs": [
    {
     "data": {
      "text/plain": [
       "0.8654448653350507"
      ]
     },
     "execution_count": 48,
     "metadata": {},
     "output_type": "execute_result"
    }
   ],
   "source": [
    "# Random Forest Regressor\n",
    "from sklearn.ensemble import RandomForestRegressor\n",
    "\n",
    "# setup random seed\n",
    "np.random.seed(42)\n",
    "\n",
    "# create the data\n",
    "X = boston_df.drop(\"target\", axis=1)\n",
    "y= boston_df[\"target\"]\n",
    "\n",
    "# split the data\n",
    "X_train, X_test, y_train, y_test = train_test_split(X, y, test_size=0.2)\n",
    "\n",
    "# instantiate Random Forest Regressor\n",
    "rf = RandomForestRegressor(n_estimators=100)\n",
    "rf.fit(X_train, y_train)\n",
    "\n",
    "# evaluate the Random Forest Regressor\n",
    "rf.score(X_test, y_test)"
   ]
  },
  {
   "cell_type": "code",
   "execution_count": 49,
   "id": "9245b4fc",
   "metadata": {},
   "outputs": [
    {
     "data": {
      "text/plain": [
       "0.6662221670168518"
      ]
     },
     "execution_count": 49,
     "metadata": {},
     "output_type": "execute_result"
    }
   ],
   "source": [
    "# check the Ridge model again\n",
    "model.score(X_test, y_test)"
   ]
  },
  {
   "cell_type": "markdown",
   "id": "3c74460f",
   "metadata": {},
   "source": [
    "### Choosing The Right Model For Your Data 3 (Classification)\n",
    "\n",
    "https://scikit-learn.org/stable/tutorial/machine_learning_map/index.html"
   ]
  },
  {
   "cell_type": "code",
   "execution_count": 50,
   "id": "a094ec73",
   "metadata": {},
   "outputs": [
    {
     "data": {
      "text/plain": [
       "303"
      ]
     },
     "execution_count": 50,
     "metadata": {},
     "output_type": "execute_result"
    }
   ],
   "source": [
    "heart_disease = pd.read_csv(\"data/heart-disease.csv\")\n",
    "len(heart_disease)"
   ]
  },
  {
   "cell_type": "code",
   "execution_count": 51,
   "id": "ad3146b9",
   "metadata": {},
   "outputs": [
    {
     "data": {
      "text/plain": [
       "0.8688524590163934"
      ]
     },
     "execution_count": 51,
     "metadata": {},
     "output_type": "execute_result"
    }
   ],
   "source": [
    "# model \"LinearSVC\"\n",
    "from sklearn.svm import LinearSVC\n",
    "\n",
    "# setup random seed\n",
    "np.random.seed(42)\n",
    "\n",
    "# make the data\n",
    "X = heart_disease.drop(\"target\", axis=1)\n",
    "y = heart_disease[\"target\"]\n",
    "\n",
    "# split the data\n",
    "X_train, X_test, y_train, y_test = train_test_split(X, y, test_size=0.2)\n",
    "\n",
    "# instantiate LinearSVC\n",
    "clf = LinearSVC(dual=False)\n",
    "clf.fit(X_train, y_train)\n",
    "\n",
    "# evaluate the LinearSVC\n",
    "clf.score(X_test, y_test)"
   ]
  },
  {
   "cell_type": "code",
   "execution_count": 52,
   "id": "976ad92f",
   "metadata": {},
   "outputs": [
    {
     "data": {
      "text/plain": [
       "1    165\n",
       "0    138\n",
       "Name: target, dtype: int64"
      ]
     },
     "execution_count": 52,
     "metadata": {},
     "output_type": "execute_result"
    }
   ],
   "source": [
    "heart_disease[\"target\"].value_counts()"
   ]
  },
  {
   "cell_type": "code",
   "execution_count": 53,
   "id": "111f03a9",
   "metadata": {},
   "outputs": [
    {
     "name": "stdout",
     "output_type": "stream",
     "text": [
      "Number of mislabeled points out of a total 61 points : 8\n"
     ]
    }
   ],
   "source": [
    "# predict\n",
    "y_pred = clf.fit(X_train, y_train).predict(X_test)\n",
    "print(\"Number of mislabeled points out of a total %d points : %d\"% (X_test.shape[0], (y_test != y_pred).sum()))"
   ]
  },
  {
   "cell_type": "code",
   "execution_count": 54,
   "id": "5b1a566d",
   "metadata": {},
   "outputs": [
    {
     "data": {
      "text/plain": [
       "0.8524590163934426"
      ]
     },
     "execution_count": 54,
     "metadata": {},
     "output_type": "execute_result"
    }
   ],
   "source": [
    "# model \"RandomForestClassifier\"\n",
    "from sklearn.ensemble import RandomForestClassifier\n",
    "\n",
    "# setup random seed\n",
    "np.random.seed(42)\n",
    "\n",
    "# make the data\n",
    "X = heart_disease.drop(\"target\", axis=1)\n",
    "y = heart_disease[\"target\"]\n",
    "\n",
    "# split the data\n",
    "X_train, X_test, y_train, y_test = train_test_split(X, y, test_size=0.2)\n",
    "\n",
    "# instantiate RandomForestClassifier\n",
    "rfc = RandomForestClassifier()\n",
    "rfc.fit(X_train, y_train)\n",
    "\n",
    "# evaluate the RandomForestClassifier\n",
    "rfc.score(X_test, y_test)"
   ]
  },
  {
   "cell_type": "code",
   "execution_count": 55,
   "id": "b06ae42c",
   "metadata": {},
   "outputs": [
    {
     "name": "stdout",
     "output_type": "stream",
     "text": [
      "Number of mislabeled points out of a total 61 points : 8\n"
     ]
    }
   ],
   "source": [
    "# predict\n",
    "y_predrfc = rfc.fit(X_train, y_train).predict(X_test)\n",
    "print(\"Number of mislabeled points out of a total %d points : %d\"% (X_test.shape[0], (y_test != y_predrfc).sum()))"
   ]
  },
  {
   "cell_type": "markdown",
   "id": "025484be",
   "metadata": {},
   "source": [
    "#### Tidbit:\n",
    "* If you have structured data, use ensemble methods \"data of table\"\n",
    "* If you have unstructed data, use deep learning or transfer learning \"pictures, images, videos\""
   ]
  },
  {
   "cell_type": "markdown",
   "id": "a8bac9f6",
   "metadata": {},
   "source": [
    "## Fit the model/algorithm and use it to make predictions on our data\n",
    "### Fitting A Model To The Data\n",
    "\n",
    "#### Different names for:\n",
    "* X = features, features variables, data\n",
    "* y = labels, targets, target variables"
   ]
  },
  {
   "cell_type": "code",
   "execution_count": 56,
   "id": "4fc26945",
   "metadata": {},
   "outputs": [
    {
     "data": {
      "text/plain": [
       "0.8524590163934426"
      ]
     },
     "execution_count": 56,
     "metadata": {},
     "output_type": "execute_result"
    }
   ],
   "source": [
    "# model \"RandomForestClassifier\"\n",
    "from sklearn.ensemble import RandomForestClassifier\n",
    "\n",
    "# setup random seed\n",
    "np.random.seed(42)\n",
    "\n",
    "# make the data\n",
    "X = heart_disease.drop(\"target\", axis=1)\n",
    "y = heart_disease[\"target\"]\n",
    "\n",
    "# split the data\n",
    "X_train, X_test, y_train, y_test = train_test_split(X, y, test_size=0.2)\n",
    "\n",
    "# instantiate RandomForestClassifier\n",
    "rfc = RandomForestClassifier()\n",
    "\n",
    "# fit the model to the data\n",
    "# training the machine learning model\n",
    "rfc.fit(X_train, y_train)\n",
    "\n",
    "# evaluate the RandomForestClassifier\n",
    "# use the patterns the model has learned\n",
    "rfc.score(X_test, y_test)"
   ]
  },
  {
   "cell_type": "code",
   "execution_count": 57,
   "id": "59f5fd34",
   "metadata": {},
   "outputs": [
    {
     "data": {
      "text/html": [
       "<div>\n",
       "<style scoped>\n",
       "    .dataframe tbody tr th:only-of-type {\n",
       "        vertical-align: middle;\n",
       "    }\n",
       "\n",
       "    .dataframe tbody tr th {\n",
       "        vertical-align: top;\n",
       "    }\n",
       "\n",
       "    .dataframe thead th {\n",
       "        text-align: right;\n",
       "    }\n",
       "</style>\n",
       "<table border=\"1\" class=\"dataframe\">\n",
       "  <thead>\n",
       "    <tr style=\"text-align: right;\">\n",
       "      <th></th>\n",
       "      <th>age</th>\n",
       "      <th>sex</th>\n",
       "      <th>cp</th>\n",
       "      <th>trestbps</th>\n",
       "      <th>chol</th>\n",
       "      <th>fbs</th>\n",
       "      <th>restecg</th>\n",
       "      <th>thalach</th>\n",
       "      <th>exang</th>\n",
       "      <th>oldpeak</th>\n",
       "      <th>slope</th>\n",
       "      <th>ca</th>\n",
       "      <th>thal</th>\n",
       "    </tr>\n",
       "  </thead>\n",
       "  <tbody>\n",
       "    <tr>\n",
       "      <th>0</th>\n",
       "      <td>63</td>\n",
       "      <td>1</td>\n",
       "      <td>3</td>\n",
       "      <td>145</td>\n",
       "      <td>233</td>\n",
       "      <td>1</td>\n",
       "      <td>0</td>\n",
       "      <td>150</td>\n",
       "      <td>0</td>\n",
       "      <td>2.3</td>\n",
       "      <td>0</td>\n",
       "      <td>0</td>\n",
       "      <td>1</td>\n",
       "    </tr>\n",
       "    <tr>\n",
       "      <th>1</th>\n",
       "      <td>37</td>\n",
       "      <td>1</td>\n",
       "      <td>2</td>\n",
       "      <td>130</td>\n",
       "      <td>250</td>\n",
       "      <td>0</td>\n",
       "      <td>1</td>\n",
       "      <td>187</td>\n",
       "      <td>0</td>\n",
       "      <td>3.5</td>\n",
       "      <td>0</td>\n",
       "      <td>0</td>\n",
       "      <td>2</td>\n",
       "    </tr>\n",
       "    <tr>\n",
       "      <th>2</th>\n",
       "      <td>41</td>\n",
       "      <td>0</td>\n",
       "      <td>1</td>\n",
       "      <td>130</td>\n",
       "      <td>204</td>\n",
       "      <td>0</td>\n",
       "      <td>0</td>\n",
       "      <td>172</td>\n",
       "      <td>0</td>\n",
       "      <td>1.4</td>\n",
       "      <td>2</td>\n",
       "      <td>0</td>\n",
       "      <td>2</td>\n",
       "    </tr>\n",
       "    <tr>\n",
       "      <th>3</th>\n",
       "      <td>56</td>\n",
       "      <td>1</td>\n",
       "      <td>1</td>\n",
       "      <td>120</td>\n",
       "      <td>236</td>\n",
       "      <td>0</td>\n",
       "      <td>1</td>\n",
       "      <td>178</td>\n",
       "      <td>0</td>\n",
       "      <td>0.8</td>\n",
       "      <td>2</td>\n",
       "      <td>0</td>\n",
       "      <td>2</td>\n",
       "    </tr>\n",
       "    <tr>\n",
       "      <th>4</th>\n",
       "      <td>57</td>\n",
       "      <td>0</td>\n",
       "      <td>0</td>\n",
       "      <td>120</td>\n",
       "      <td>354</td>\n",
       "      <td>0</td>\n",
       "      <td>1</td>\n",
       "      <td>163</td>\n",
       "      <td>1</td>\n",
       "      <td>0.6</td>\n",
       "      <td>2</td>\n",
       "      <td>0</td>\n",
       "      <td>2</td>\n",
       "    </tr>\n",
       "  </tbody>\n",
       "</table>\n",
       "</div>"
      ],
      "text/plain": [
       "   age  sex  cp  trestbps  chol  fbs  restecg  thalach  exang  oldpeak  slope  \\\n",
       "0   63    1   3       145   233    1        0      150      0      2.3      0   \n",
       "1   37    1   2       130   250    0        1      187      0      3.5      0   \n",
       "2   41    0   1       130   204    0        0      172      0      1.4      2   \n",
       "3   56    1   1       120   236    0        1      178      0      0.8      2   \n",
       "4   57    0   0       120   354    0        1      163      1      0.6      2   \n",
       "\n",
       "   ca  thal  \n",
       "0   0     1  \n",
       "1   0     2  \n",
       "2   0     2  \n",
       "3   0     2  \n",
       "4   0     2  "
      ]
     },
     "execution_count": 57,
     "metadata": {},
     "output_type": "execute_result"
    }
   ],
   "source": [
    "X.head()"
   ]
  },
  {
   "cell_type": "code",
   "execution_count": 58,
   "id": "ef1ed2b8",
   "metadata": {},
   "outputs": [
    {
     "data": {
      "text/plain": [
       "0    1\n",
       "1    1\n",
       "2    1\n",
       "3    1\n",
       "4    1\n",
       "Name: target, dtype: int64"
      ]
     },
     "execution_count": 58,
     "metadata": {},
     "output_type": "execute_result"
    }
   ],
   "source": [
    "y.head()"
   ]
  },
  {
   "cell_type": "markdown",
   "id": "fb81bc57",
   "metadata": {},
   "source": [
    "## Making Predictions With Our Model\n",
    "\n",
    "##### two ways to make predictions\n",
    "* predict()\n",
    "* predict_proba()\n",
    "\n",
    "### Make predictions with `predict()`"
   ]
  },
  {
   "cell_type": "code",
   "execution_count": 59,
   "id": "916f11c2",
   "metadata": {},
   "outputs": [
    {
     "data": {
      "text/plain": [
       "array([0, 1, 1, 0, 1, 1, 1, 0, 0, 0, 1, 0, 1, 0, 1, 1, 1, 0, 0, 0, 1, 0,\n",
       "       0, 1, 1, 1, 1, 1, 0, 1, 0, 0, 0, 0, 1, 0, 1, 1, 1, 1, 1, 1, 1, 1,\n",
       "       1, 0, 1, 1, 0, 0, 0, 0, 1, 1, 0, 0, 0, 1, 0, 0, 0], dtype=int64)"
      ]
     },
     "execution_count": 59,
     "metadata": {},
     "output_type": "execute_result"
    }
   ],
   "source": [
    "# predict target\n",
    "clf.predict(X_test)"
   ]
  },
  {
   "cell_type": "code",
   "execution_count": 60,
   "id": "21238c62",
   "metadata": {},
   "outputs": [
    {
     "data": {
      "text/plain": [
       "array([0, 0, 1, 0, 1, 1, 1, 0, 0, 1, 1, 1, 1, 0, 1, 1, 1, 0, 0, 0, 1, 0,\n",
       "       0, 1, 1, 0, 0, 1, 0, 1, 1, 0, 0, 1, 1, 0, 1, 1, 1, 1, 1, 1, 1, 1,\n",
       "       1, 0, 0, 1, 0, 0, 0, 0, 1, 1, 0, 0, 0, 1, 0, 0, 0], dtype=int64)"
      ]
     },
     "execution_count": 60,
     "metadata": {},
     "output_type": "execute_result"
    }
   ],
   "source": [
    "# existing truth data\n",
    "np.array(y_test)"
   ]
  },
  {
   "cell_type": "code",
   "execution_count": 61,
   "id": "446d47a7",
   "metadata": {},
   "outputs": [
    {
     "data": {
      "text/plain": [
       "0.8688524590163934"
      ]
     },
     "execution_count": 61,
     "metadata": {},
     "output_type": "execute_result"
    }
   ],
   "source": [
    "# Compare predictions to truth labels to evaluate the model\n",
    "y_preds = clf.predict(X_test)\n",
    "np.mean(y_preds == y_test)"
   ]
  },
  {
   "cell_type": "code",
   "execution_count": 62,
   "id": "025a572c",
   "metadata": {},
   "outputs": [
    {
     "data": {
      "text/plain": [
       "0.8688524590163934"
      ]
     },
     "execution_count": 62,
     "metadata": {},
     "output_type": "execute_result"
    }
   ],
   "source": [
    "clf.score(X_test, y_test)"
   ]
  },
  {
   "cell_type": "code",
   "execution_count": 63,
   "id": "f764e728",
   "metadata": {},
   "outputs": [
    {
     "data": {
      "text/plain": [
       "0.8688524590163934"
      ]
     },
     "execution_count": 63,
     "metadata": {},
     "output_type": "execute_result"
    }
   ],
   "source": [
    "# checking accuracy\n",
    "from sklearn.metrics import accuracy_score\n",
    "accuracy_score(y_test, y_preds)"
   ]
  },
  {
   "cell_type": "markdown",
   "id": "f23c6866",
   "metadata": {},
   "source": [
    "### Make predictions with `predict_proba()`"
   ]
  },
  {
   "cell_type": "code",
   "execution_count": 64,
   "id": "30d81c35",
   "metadata": {},
   "outputs": [
    {
     "data": {
      "text/plain": [
       "array([[0.89, 0.11],\n",
       "       [0.49, 0.51],\n",
       "       [0.43, 0.57],\n",
       "       [0.84, 0.16],\n",
       "       [0.18, 0.82]])"
      ]
     },
     "execution_count": 64,
     "metadata": {},
     "output_type": "execute_result"
    }
   ],
   "source": [
    "# predict_proba() returns probabilities of a classification label\n",
    "# probability of [0, 1]\n",
    "# first example, \"0\" -> 0.89 probability, \"1\" -> 0.11 probability\n",
    "# so It is \"0\"\n",
    "rfc.predict_proba(X_test[:5])"
   ]
  },
  {
   "cell_type": "code",
   "execution_count": 65,
   "id": "ba6158bd",
   "metadata": {},
   "outputs": [
    {
     "data": {
      "text/plain": [
       "array([0, 1, 1, 0, 1], dtype=int64)"
      ]
     },
     "execution_count": 65,
     "metadata": {},
     "output_type": "execute_result"
    }
   ],
   "source": [
    "# predict()\n",
    "rfc.predict(X_test[:5])"
   ]
  },
  {
   "cell_type": "markdown",
   "id": "75c5c782",
   "metadata": {},
   "source": [
    "#### when use predict_proba()\n",
    "#### that if you want to set probability % more than %80\n",
    "#### if that is the case, you can do with predict_proba()"
   ]
  },
  {
   "cell_type": "markdown",
   "id": "186bd08d",
   "metadata": {},
   "source": [
    "### Making Predictions With Our Model (Regression)"
   ]
  },
  {
   "cell_type": "markdown",
   "id": "55c5c868",
   "metadata": {},
   "source": [
    "`predict()` can also be used for regression models."
   ]
  },
  {
   "cell_type": "code",
   "execution_count": 66,
   "id": "87bce4e6",
   "metadata": {},
   "outputs": [],
   "source": [
    "from sklearn.ensemble import RandomForestRegressor\n",
    "\n",
    "np.random.seed(42)\n",
    "\n",
    "# create the data\n",
    "X = boston_df.drop(\"target\", axis=1)\n",
    "y = boston_df[\"target\"]\n",
    "\n",
    "# split into training and test sets\n",
    "X_train, X_test, y_train, y_test = train_test_split(X, y, test_size=0.2)\n",
    "\n",
    "# Instantiate and fit model\n",
    "model = RandomForestRegressor().fit(X_train, y_train)\n",
    "\n",
    "# Make predictions\n",
    "y_preds = model.predict(X_test)"
   ]
  },
  {
   "cell_type": "code",
   "execution_count": 67,
   "id": "719e55ec",
   "metadata": {},
   "outputs": [
    {
     "data": {
      "text/plain": [
       "0.8654448653350507"
      ]
     },
     "execution_count": 67,
     "metadata": {},
     "output_type": "execute_result"
    }
   ],
   "source": [
    "model.score(X_test, y_test)"
   ]
  },
  {
   "cell_type": "code",
   "execution_count": 68,
   "id": "5ff26f03",
   "metadata": {},
   "outputs": [
    {
     "data": {
      "text/plain": [
       "array([23.081, 30.574, 16.759, 23.46 , 16.893, 21.644, 19.113, 15.334,\n",
       "       21.14 , 20.639])"
      ]
     },
     "execution_count": 68,
     "metadata": {},
     "output_type": "execute_result"
    }
   ],
   "source": [
    "y_preds[:10]"
   ]
  },
  {
   "cell_type": "code",
   "execution_count": 69,
   "id": "27d738d2",
   "metadata": {},
   "outputs": [
    {
     "data": {
      "text/plain": [
       "array([23.6, 32.4, 13.6, 22.8, 16.1, 20. , 17.8, 14. , 19.6, 16.8])"
      ]
     },
     "execution_count": 69,
     "metadata": {},
     "output_type": "execute_result"
    }
   ],
   "source": [
    "np.array(y_test[:10])"
   ]
  },
  {
   "cell_type": "code",
   "execution_count": 70,
   "id": "79ed8e72",
   "metadata": {},
   "outputs": [
    {
     "data": {
      "text/plain": [
       "2.136382352941176"
      ]
     },
     "execution_count": 70,
     "metadata": {},
     "output_type": "execute_result"
    }
   ],
   "source": [
    "# Compare the predictions to the truth\n",
    "# meaning: as average there is a \"2.13\" diffrences \n",
    "# between prediction and truth data\n",
    "from sklearn.metrics import mean_absolute_error\n",
    "mean_absolute_error(y_test, y_preds)"
   ]
  },
  {
   "cell_type": "markdown",
   "id": "4db9cc46",
   "metadata": {},
   "source": [
    "## Evaluating a model\n",
    "\n",
    "### Evaluating A Machine Learning Model (Score)\n",
    "\n",
    "Three ways to evaluating modeling:\n",
    "* Estimator `score` method\n",
    "* The `scoring` parameter\n",
    "* Problem-specific metric functions\n",
    "\n",
    "#### Estimator Score Method"
   ]
  },
  {
   "cell_type": "code",
   "execution_count": 71,
   "id": "b090802f",
   "metadata": {},
   "outputs": [
    {
     "data": {
      "text/html": [
       "<style>#sk-container-id-1 {color: black;background-color: white;}#sk-container-id-1 pre{padding: 0;}#sk-container-id-1 div.sk-toggleable {background-color: white;}#sk-container-id-1 label.sk-toggleable__label {cursor: pointer;display: block;width: 100%;margin-bottom: 0;padding: 0.3em;box-sizing: border-box;text-align: center;}#sk-container-id-1 label.sk-toggleable__label-arrow:before {content: \"▸\";float: left;margin-right: 0.25em;color: #696969;}#sk-container-id-1 label.sk-toggleable__label-arrow:hover:before {color: black;}#sk-container-id-1 div.sk-estimator:hover label.sk-toggleable__label-arrow:before {color: black;}#sk-container-id-1 div.sk-toggleable__content {max-height: 0;max-width: 0;overflow: hidden;text-align: left;background-color: #f0f8ff;}#sk-container-id-1 div.sk-toggleable__content pre {margin: 0.2em;color: black;border-radius: 0.25em;background-color: #f0f8ff;}#sk-container-id-1 input.sk-toggleable__control:checked~div.sk-toggleable__content {max-height: 200px;max-width: 100%;overflow: auto;}#sk-container-id-1 input.sk-toggleable__control:checked~label.sk-toggleable__label-arrow:before {content: \"▾\";}#sk-container-id-1 div.sk-estimator input.sk-toggleable__control:checked~label.sk-toggleable__label {background-color: #d4ebff;}#sk-container-id-1 div.sk-label input.sk-toggleable__control:checked~label.sk-toggleable__label {background-color: #d4ebff;}#sk-container-id-1 input.sk-hidden--visually {border: 0;clip: rect(1px 1px 1px 1px);clip: rect(1px, 1px, 1px, 1px);height: 1px;margin: -1px;overflow: hidden;padding: 0;position: absolute;width: 1px;}#sk-container-id-1 div.sk-estimator {font-family: monospace;background-color: #f0f8ff;border: 1px dotted black;border-radius: 0.25em;box-sizing: border-box;margin-bottom: 0.5em;}#sk-container-id-1 div.sk-estimator:hover {background-color: #d4ebff;}#sk-container-id-1 div.sk-parallel-item::after {content: \"\";width: 100%;border-bottom: 1px solid gray;flex-grow: 1;}#sk-container-id-1 div.sk-label:hover label.sk-toggleable__label {background-color: #d4ebff;}#sk-container-id-1 div.sk-serial::before {content: \"\";position: absolute;border-left: 1px solid gray;box-sizing: border-box;top: 0;bottom: 0;left: 50%;z-index: 0;}#sk-container-id-1 div.sk-serial {display: flex;flex-direction: column;align-items: center;background-color: white;padding-right: 0.2em;padding-left: 0.2em;position: relative;}#sk-container-id-1 div.sk-item {position: relative;z-index: 1;}#sk-container-id-1 div.sk-parallel {display: flex;align-items: stretch;justify-content: center;background-color: white;position: relative;}#sk-container-id-1 div.sk-item::before, #sk-container-id-1 div.sk-parallel-item::before {content: \"\";position: absolute;border-left: 1px solid gray;box-sizing: border-box;top: 0;bottom: 0;left: 50%;z-index: -1;}#sk-container-id-1 div.sk-parallel-item {display: flex;flex-direction: column;z-index: 1;position: relative;background-color: white;}#sk-container-id-1 div.sk-parallel-item:first-child::after {align-self: flex-end;width: 50%;}#sk-container-id-1 div.sk-parallel-item:last-child::after {align-self: flex-start;width: 50%;}#sk-container-id-1 div.sk-parallel-item:only-child::after {width: 0;}#sk-container-id-1 div.sk-dashed-wrapped {border: 1px dashed gray;margin: 0 0.4em 0.5em 0.4em;box-sizing: border-box;padding-bottom: 0.4em;background-color: white;}#sk-container-id-1 div.sk-label label {font-family: monospace;font-weight: bold;display: inline-block;line-height: 1.2em;}#sk-container-id-1 div.sk-label-container {text-align: center;}#sk-container-id-1 div.sk-container {/* jupyter's `normalize.less` sets `[hidden] { display: none; }` but bootstrap.min.css set `[hidden] { display: none !important; }` so we also need the `!important` here to be able to override the default hidden behavior on the sphinx rendered scikit-learn.org. See: https://github.com/scikit-learn/scikit-learn/issues/21755 */display: inline-block !important;position: relative;}#sk-container-id-1 div.sk-text-repr-fallback {display: none;}</style><div id=\"sk-container-id-1\" class=\"sk-top-container\"><div class=\"sk-text-repr-fallback\"><pre>RandomForestClassifier()</pre><b>In a Jupyter environment, please rerun this cell to show the HTML representation or trust the notebook. <br />On GitHub, the HTML representation is unable to render, please try loading this page with nbviewer.org.</b></div><div class=\"sk-container\" hidden><div class=\"sk-item\"><div class=\"sk-estimator sk-toggleable\"><input class=\"sk-toggleable__control sk-hidden--visually\" id=\"sk-estimator-id-1\" type=\"checkbox\" checked><label for=\"sk-estimator-id-1\" class=\"sk-toggleable__label sk-toggleable__label-arrow\">RandomForestClassifier</label><div class=\"sk-toggleable__content\"><pre>RandomForestClassifier()</pre></div></div></div></div></div>"
      ],
      "text/plain": [
       "RandomForestClassifier()"
      ]
     },
     "execution_count": 71,
     "metadata": {},
     "output_type": "execute_result"
    }
   ],
   "source": [
    "# for classification\n",
    "from sklearn.ensemble import RandomForestClassifier\n",
    "\n",
    "np.random.seed(42)\n",
    "\n",
    "X = heart_disease.drop('target', axis=1)\n",
    "y = heart_disease['target']\n",
    "\n",
    "X_train, X_test, y_train, y_test = train_test_split(X, y, test_size=0.2)\n",
    "\n",
    "clf = RandomForestClassifier()\n",
    "\n",
    "clf.fit(X_train, y_train)"
   ]
  },
  {
   "cell_type": "code",
   "execution_count": 72,
   "id": "4a8ad3f7",
   "metadata": {},
   "outputs": [
    {
     "data": {
      "text/plain": [
       "1.0"
      ]
     },
     "execution_count": 72,
     "metadata": {},
     "output_type": "execute_result"
    }
   ],
   "source": [
    "clf.score(X_train, y_train)"
   ]
  },
  {
   "cell_type": "code",
   "execution_count": 73,
   "id": "4e17dbf0",
   "metadata": {},
   "outputs": [
    {
     "data": {
      "text/plain": [
       "0.8524590163934426"
      ]
     },
     "execution_count": 73,
     "metadata": {},
     "output_type": "execute_result"
    }
   ],
   "source": [
    "clf.score(X_test, y_test)"
   ]
  },
  {
   "cell_type": "code",
   "execution_count": 74,
   "id": "e14339da",
   "metadata": {},
   "outputs": [],
   "source": [
    "# for regression\n",
    "from sklearn.ensemble import RandomForestRegressor\n",
    "\n",
    "np.random.seed(42)\n",
    "\n",
    "# create the data\n",
    "X = boston_df.drop(\"target\", axis=1)\n",
    "y = boston_df[\"target\"]\n",
    "\n",
    "# split into training and test sets\n",
    "X_train, X_test, y_train, y_test = train_test_split(X, y, test_size=0.2)\n",
    "\n",
    "# Instantiate and fit model\n",
    "model = RandomForestRegressor().fit(X_train, y_train)"
   ]
  },
  {
   "cell_type": "code",
   "execution_count": 75,
   "id": "4bb90a21",
   "metadata": {},
   "outputs": [
    {
     "data": {
      "text/plain": [
       "0.8654448653350507"
      ]
     },
     "execution_count": 75,
     "metadata": {},
     "output_type": "execute_result"
    }
   ],
   "source": [
    "model.score(X_test, y_test)"
   ]
  },
  {
   "cell_type": "markdown",
   "id": "06ad8efc",
   "metadata": {},
   "source": [
    "#### `.score` method is default calculation to find prediction percentage !!!"
   ]
  },
  {
   "cell_type": "markdown",
   "id": "8b6220ec",
   "metadata": {},
   "source": [
    "### Evaluating A Machine Learning Model 2 (Cross Validation)\n",
    "\n",
    "#### The `scoring` parameter"
   ]
  },
  {
   "cell_type": "code",
   "execution_count": 76,
   "id": "9f7cd189",
   "metadata": {},
   "outputs": [],
   "source": [
    "from sklearn.model_selection import cross_val_score\n",
    "\n",
    "# for classification\n",
    "from sklearn.ensemble import RandomForestClassifier\n",
    "\n",
    "np.random.seed(42)\n",
    "\n",
    "X = heart_disease.drop('target', axis=1)\n",
    "y = heart_disease['target']\n",
    "\n",
    "X_train, X_test, y_train, y_test = train_test_split(X, y, test_size=0.2)\n",
    "\n",
    "clf = RandomForestClassifier()\n",
    "\n",
    "clf.fit(X_train, y_train);"
   ]
  },
  {
   "cell_type": "code",
   "execution_count": 77,
   "id": "469dfde8",
   "metadata": {},
   "outputs": [
    {
     "data": {
      "text/plain": [
       "0.8524590163934426"
      ]
     },
     "execution_count": 77,
     "metadata": {},
     "output_type": "execute_result"
    }
   ],
   "source": [
    "clf.score(X_test, y_test)"
   ]
  },
  {
   "cell_type": "code",
   "execution_count": 78,
   "id": "d4675f15",
   "metadata": {},
   "outputs": [
    {
     "data": {
      "text/plain": [
       "array([0.81967213, 0.86885246, 0.81967213, 0.78333333, 0.76666667])"
      ]
     },
     "execution_count": 78,
     "metadata": {},
     "output_type": "execute_result"
    }
   ],
   "source": [
    "# cv = cross-validation numbers\n",
    "# test data can be splitted by cv, and train in as per this\n",
    "cross_val_score(clf, X, y, cv=5)"
   ]
  },
  {
   "cell_type": "markdown",
   "id": "94e09dc9",
   "metadata": {},
   "source": [
    "![crossvalidation](documents/cross_validation.png)"
   ]
  },
  {
   "cell_type": "markdown",
   "id": "e1531d66",
   "metadata": {},
   "source": [
    "![crossvalidation_lrn](documents/sklearn-cross-validation.png)"
   ]
  },
  {
   "cell_type": "code",
   "execution_count": 79,
   "id": "63526df4",
   "metadata": {},
   "outputs": [
    {
     "data": {
      "text/plain": [
       "(0.8524590163934426, 0.8248087431693989)"
      ]
     },
     "execution_count": 79,
     "metadata": {},
     "output_type": "execute_result"
    }
   ],
   "source": [
    "# take average of cv learning %\n",
    "np.random.seed(42)\n",
    "\n",
    "# single training and test split score\n",
    "clf_single_score = clf.score(X_test, y_test)\n",
    "\n",
    "# take the mean of 5-fold cross-validation score\n",
    "clf_cross_val_score = np.mean(cross_val_score(clf, X, y, cv=5))\n",
    "\n",
    "# compare the two\n",
    "clf_single_score, clf_cross_val_score"
   ]
  },
  {
   "cell_type": "code",
   "execution_count": 80,
   "id": "8968752f",
   "metadata": {},
   "outputs": [],
   "source": [
    "# real learning score is: clf_cross_val_score\n",
    "# 0.8248087431693989"
   ]
  },
  {
   "cell_type": "code",
   "execution_count": 81,
   "id": "9f9ee088",
   "metadata": {},
   "outputs": [
    {
     "data": {
      "text/plain": [
       "0.8524590163934426"
      ]
     },
     "execution_count": 81,
     "metadata": {},
     "output_type": "execute_result"
    }
   ],
   "source": [
    "# default scorng parameter of classifier = mean accuracy\n",
    "clf.score(X_test, y_test)"
   ]
  },
  {
   "cell_type": "code",
   "execution_count": 82,
   "id": "ab3ed278",
   "metadata": {},
   "outputs": [
    {
     "data": {
      "text/plain": [
       "array([0.81967213, 0.90163934, 0.83606557, 0.78333333, 0.78333333])"
      ]
     },
     "execution_count": 82,
     "metadata": {},
     "output_type": "execute_result"
    }
   ],
   "source": [
    "# scoring parameter set to none by default meaning is\n",
    "# It use clf.score value in below\n",
    "np.random.seed(42)\n",
    "cross_val_score(clf, X, y, cv=5, scoring=None)"
   ]
  },
  {
   "cell_type": "markdown",
   "id": "0847750c",
   "metadata": {},
   "source": [
    "### Evaluating A Classification Model 1 (Accuracy)\n",
    "\n",
    "#### Classification model evaluation metrics\n",
    "* Accuracy\n",
    "* Area under ROC curve\n",
    "* Confusion matrix\n",
    "* Classification report"
   ]
  },
  {
   "cell_type": "code",
   "execution_count": 83,
   "id": "bf9e7fa6",
   "metadata": {},
   "outputs": [
    {
     "data": {
      "text/html": [
       "<div>\n",
       "<style scoped>\n",
       "    .dataframe tbody tr th:only-of-type {\n",
       "        vertical-align: middle;\n",
       "    }\n",
       "\n",
       "    .dataframe tbody tr th {\n",
       "        vertical-align: top;\n",
       "    }\n",
       "\n",
       "    .dataframe thead th {\n",
       "        text-align: right;\n",
       "    }\n",
       "</style>\n",
       "<table border=\"1\" class=\"dataframe\">\n",
       "  <thead>\n",
       "    <tr style=\"text-align: right;\">\n",
       "      <th></th>\n",
       "      <th>age</th>\n",
       "      <th>sex</th>\n",
       "      <th>cp</th>\n",
       "      <th>trestbps</th>\n",
       "      <th>chol</th>\n",
       "      <th>fbs</th>\n",
       "      <th>restecg</th>\n",
       "      <th>thalach</th>\n",
       "      <th>exang</th>\n",
       "      <th>oldpeak</th>\n",
       "      <th>slope</th>\n",
       "      <th>ca</th>\n",
       "      <th>thal</th>\n",
       "      <th>target</th>\n",
       "    </tr>\n",
       "  </thead>\n",
       "  <tbody>\n",
       "    <tr>\n",
       "      <th>0</th>\n",
       "      <td>63</td>\n",
       "      <td>1</td>\n",
       "      <td>3</td>\n",
       "      <td>145</td>\n",
       "      <td>233</td>\n",
       "      <td>1</td>\n",
       "      <td>0</td>\n",
       "      <td>150</td>\n",
       "      <td>0</td>\n",
       "      <td>2.3</td>\n",
       "      <td>0</td>\n",
       "      <td>0</td>\n",
       "      <td>1</td>\n",
       "      <td>1</td>\n",
       "    </tr>\n",
       "    <tr>\n",
       "      <th>1</th>\n",
       "      <td>37</td>\n",
       "      <td>1</td>\n",
       "      <td>2</td>\n",
       "      <td>130</td>\n",
       "      <td>250</td>\n",
       "      <td>0</td>\n",
       "      <td>1</td>\n",
       "      <td>187</td>\n",
       "      <td>0</td>\n",
       "      <td>3.5</td>\n",
       "      <td>0</td>\n",
       "      <td>0</td>\n",
       "      <td>2</td>\n",
       "      <td>1</td>\n",
       "    </tr>\n",
       "    <tr>\n",
       "      <th>2</th>\n",
       "      <td>41</td>\n",
       "      <td>0</td>\n",
       "      <td>1</td>\n",
       "      <td>130</td>\n",
       "      <td>204</td>\n",
       "      <td>0</td>\n",
       "      <td>0</td>\n",
       "      <td>172</td>\n",
       "      <td>0</td>\n",
       "      <td>1.4</td>\n",
       "      <td>2</td>\n",
       "      <td>0</td>\n",
       "      <td>2</td>\n",
       "      <td>1</td>\n",
       "    </tr>\n",
       "    <tr>\n",
       "      <th>3</th>\n",
       "      <td>56</td>\n",
       "      <td>1</td>\n",
       "      <td>1</td>\n",
       "      <td>120</td>\n",
       "      <td>236</td>\n",
       "      <td>0</td>\n",
       "      <td>1</td>\n",
       "      <td>178</td>\n",
       "      <td>0</td>\n",
       "      <td>0.8</td>\n",
       "      <td>2</td>\n",
       "      <td>0</td>\n",
       "      <td>2</td>\n",
       "      <td>1</td>\n",
       "    </tr>\n",
       "    <tr>\n",
       "      <th>4</th>\n",
       "      <td>57</td>\n",
       "      <td>0</td>\n",
       "      <td>0</td>\n",
       "      <td>120</td>\n",
       "      <td>354</td>\n",
       "      <td>0</td>\n",
       "      <td>1</td>\n",
       "      <td>163</td>\n",
       "      <td>1</td>\n",
       "      <td>0.6</td>\n",
       "      <td>2</td>\n",
       "      <td>0</td>\n",
       "      <td>2</td>\n",
       "      <td>1</td>\n",
       "    </tr>\n",
       "  </tbody>\n",
       "</table>\n",
       "</div>"
      ],
      "text/plain": [
       "   age  sex  cp  trestbps  chol  fbs  restecg  thalach  exang  oldpeak  slope  \\\n",
       "0   63    1   3       145   233    1        0      150      0      2.3      0   \n",
       "1   37    1   2       130   250    0        1      187      0      3.5      0   \n",
       "2   41    0   1       130   204    0        0      172      0      1.4      2   \n",
       "3   56    1   1       120   236    0        1      178      0      0.8      2   \n",
       "4   57    0   0       120   354    0        1      163      1      0.6      2   \n",
       "\n",
       "   ca  thal  target  \n",
       "0   0     1       1  \n",
       "1   0     2       1  \n",
       "2   0     2       1  \n",
       "3   0     2       1  \n",
       "4   0     2       1  "
      ]
     },
     "execution_count": 83,
     "metadata": {},
     "output_type": "execute_result"
    }
   ],
   "source": [
    "heart_disease.head()"
   ]
  },
  {
   "cell_type": "markdown",
   "id": "62b72b7a",
   "metadata": {},
   "source": [
    "### Accuracy"
   ]
  },
  {
   "cell_type": "code",
   "execution_count": 84,
   "id": "016bcb37",
   "metadata": {},
   "outputs": [],
   "source": [
    "from sklearn.model_selection import cross_val_score\n",
    "from sklearn.ensemble import RandomForestClassifier\n",
    "\n",
    "np.random.seed(42)\n",
    "\n",
    "X = heart_disease.drop(\"target\", axis=1)\n",
    "y = heart_disease[\"target\"]\n",
    "\n",
    "clf = RandomForestClassifier()\n",
    "cross_val_score = cross_val_score(clf, X, y, cv=5)"
   ]
  },
  {
   "cell_type": "code",
   "execution_count": 85,
   "id": "8d7086f6",
   "metadata": {},
   "outputs": [
    {
     "data": {
      "text/plain": [
       "0.8248087431693989"
      ]
     },
     "execution_count": 85,
     "metadata": {},
     "output_type": "execute_result"
    }
   ],
   "source": [
    "np.mean(cross_val_score)"
   ]
  },
  {
   "cell_type": "code",
   "execution_count": 86,
   "id": "bd385aac",
   "metadata": {},
   "outputs": [
    {
     "name": "stdout",
     "output_type": "stream",
     "text": [
      "Heart Disease Classifie Cross-Validated Accuracy: 82.48%\n"
     ]
    }
   ],
   "source": [
    "print(f\"Heart Disease Classifie Cross-Validated Accuracy: {np.mean(cross_val_score) * 100:.2f}%\")"
   ]
  },
  {
   "cell_type": "markdown",
   "id": "2ef0bf3a",
   "metadata": {},
   "source": [
    "## Evaluating A Classification Model 2 (ROC Curve)\n",
    "### Area under ROC curve\n",
    "\n",
    "**Area under the receiver operating characteristic curve (AUC/ROC)**\n",
    "\n",
    "* Area under curve (AUC)\n",
    "* ROC curve\n",
    "\n",
    "ROC curves are comparison of a model's true positive rate (tpr) versus a models false postive rate (fpr)\n",
    "\n",
    "* True positive = model predicts 1 when truth is 1\n",
    "* False positive = model predicts 1 when truth is 0\n",
    "* True negative = model predicts 0 when truth is 0\n",
    "* False negative = model predicts 0 when truth is 1"
   ]
  },
  {
   "cell_type": "code",
   "execution_count": 87,
   "id": "6a5fdead",
   "metadata": {},
   "outputs": [],
   "source": [
    "# create train test split\n",
    "X_train, X_test, y_train, y_test = train_test_split(X, y, test_size=0.2)"
   ]
  },
  {
   "cell_type": "code",
   "execution_count": 88,
   "id": "c8de86d1",
   "metadata": {},
   "outputs": [
    {
     "data": {
      "text/plain": [
       "(array([[0.51, 0.49],\n",
       "        [0.17, 0.83],\n",
       "        [0.51, 0.49],\n",
       "        [0.72, 0.28],\n",
       "        [0.43, 0.57],\n",
       "        [0.12, 0.88],\n",
       "        [0.3 , 0.7 ],\n",
       "        [0.97, 0.03],\n",
       "        [0.15, 0.85],\n",
       "        [0.4 , 0.6 ]]),\n",
       " 61)"
      ]
     },
     "execution_count": 88,
     "metadata": {},
     "output_type": "execute_result"
    }
   ],
   "source": [
    "from sklearn.metrics import roc_curve\n",
    "\n",
    "# fit the classifier\n",
    "clf.fit(X_train, y_train)\n",
    "\n",
    "# make predictions with probabilities\n",
    "y_probs = clf.predict_proba(X_test)\n",
    "\n",
    "y_probs[:10], len(y_probs)"
   ]
  },
  {
   "cell_type": "code",
   "execution_count": 89,
   "id": "2e3a7ad8",
   "metadata": {
    "scrolled": true
   },
   "outputs": [
    {
     "data": {
      "text/plain": [
       "array([0.49, 0.83, 0.49, 0.28, 0.57, 0.88, 0.7 , 0.03, 0.85, 0.6 ])"
      ]
     },
     "execution_count": 89,
     "metadata": {},
     "output_type": "execute_result"
    }
   ],
   "source": [
    "y_probs_positive = y_probs[:, 1]\n",
    "y_probs_positive[:10]"
   ]
  },
  {
   "cell_type": "code",
   "execution_count": 90,
   "id": "44bfbb4d",
   "metadata": {},
   "outputs": [
    {
     "data": {
      "text/plain": [
       "array([0.        , 0.03448276, 0.03448276, 0.03448276, 0.03448276,\n",
       "       0.03448276, 0.03448276, 0.06896552, 0.06896552, 0.06896552,\n",
       "       0.10344828, 0.10344828, 0.13793103, 0.13793103, 0.13793103,\n",
       "       0.20689655, 0.20689655, 0.20689655, 0.27586207, 0.37931034,\n",
       "       0.37931034, 0.48275862, 0.48275862, 0.55172414, 0.55172414,\n",
       "       1.        ])"
      ]
     },
     "execution_count": 90,
     "metadata": {},
     "output_type": "execute_result"
    }
   ],
   "source": [
    "# calculate fpr, tpr and thresholds\n",
    "fpr, tpr, thresholds = roc_curve(y_test, y_probs_positive)\n",
    "\n",
    "# check the false positive rates\n",
    "fpr"
   ]
  },
  {
   "cell_type": "markdown",
   "id": "83f0ea03",
   "metadata": {},
   "source": [
    "## Evaluating A Classification Model 3 (ROC Curve)"
   ]
  },
  {
   "cell_type": "code",
   "execution_count": 91,
   "id": "e30d7771",
   "metadata": {},
   "outputs": [
    {
     "data": {
      "image/png": "[encoded data removed]",
      "text/plain": [
       "<Figure size 640x480 with 1 Axes>"
      ]
     },
     "metadata": {},
     "output_type": "display_data"
    }
   ],
   "source": [
    "# create a function for plotting ROC curves\n",
    "import matplotlib.pyplot as plt\n",
    "\n",
    "def plot_roc_curve(fpr, tpr):\n",
    "    \"\"\"\n",
    "    Plots a ROC curve given the false positive rate (fpr)\n",
    "    and true positive rate (tpr) of a model.\n",
    "    \"\"\"\n",
    "    # plot roc curve\n",
    "    plt.plot(fpr, tpr, color=\"orange\", label=\"ROC\")\n",
    "    # plot line with no predictive power (baseline)\n",
    "    plt.plot([0, 1], [0, 1], color=\"darkblue\", linestyle=\"--\", label=\"Guessing\")\n",
    "    \n",
    "    # customize the plot\n",
    "    plt.xlabel(\"False positive rate (fpr)\")\n",
    "    plt.ylabel(\"True positive rate (tpr)\")\n",
    "    plt.title(\"Receiver Operating Characteristics (ROC) Curve\")\n",
    "    plt.legend()\n",
    "    plt.show()\n",
    "\n",
    "plot_roc_curve(fpr, tpr)"
   ]
  },
  {
   "cell_type": "code",
   "execution_count": 92,
   "id": "19445887",
   "metadata": {},
   "outputs": [
    {
     "data": {
      "text/plain": [
       "0.8669181034482759"
      ]
     },
     "execution_count": 92,
     "metadata": {},
     "output_type": "execute_result"
    }
   ],
   "source": [
    "from sklearn.metrics import roc_auc_score\n",
    "\n",
    "roc_auc_score(y_test, y_probs_positive)"
   ]
  },
  {
   "cell_type": "code",
   "execution_count": 93,
   "id": "7a136e0b",
   "metadata": {},
   "outputs": [
    {
     "data": {
      "image/png": "[encoded data removed]",
      "text/plain": [
       "<Figure size 640x480 with 1 Axes>"
      ]
     },
     "metadata": {},
     "output_type": "display_data"
    }
   ],
   "source": [
    "# plot prefect ROC curve and AUC score\n",
    "fpr, tpr, thresholds = roc_curve(y_test, y_test)\n",
    "plot_roc_curve(fpr, tpr)"
   ]
  },
  {
   "cell_type": "code",
   "execution_count": 94,
   "id": "ae54ba8c",
   "metadata": {},
   "outputs": [
    {
     "data": {
      "text/plain": [
       "1.0"
      ]
     },
     "execution_count": 94,
     "metadata": {},
     "output_type": "execute_result"
    }
   ],
   "source": [
    "# perfect AUC score\n",
    "roc_auc_score(y_test, y_test)"
   ]
  },
  {
   "cell_type": "markdown",
   "id": "16fb463d",
   "metadata": {},
   "source": [
    "### Evaluating A Classification Model 4 (Confusion Matrix)\n",
    "\n",
    "A confusion matrix is a quick way to compare the labels a model predicts and the actual labels it was supposed to predict.\n",
    "\n",
    "***In essence, giving you an idea of where the model is getting confused.***"
   ]
  },
  {
   "cell_type": "code",
   "execution_count": 95,
   "id": "f1f6070b",
   "metadata": {},
   "outputs": [
    {
     "data": {
      "text/plain": [
       "array([[23,  6],\n",
       "       [ 6, 26]], dtype=int64)"
      ]
     },
     "execution_count": 95,
     "metadata": {},
     "output_type": "execute_result"
    }
   ],
   "source": [
    "from sklearn.metrics import confusion_matrix\n",
    "\n",
    "y_preds = clf.predict(X_test)\n",
    "\n",
    "confusion_matrix(y_test, y_preds)"
   ]
  },
  {
   "cell_type": "code",
   "execution_count": 96,
   "id": "b0a587d5",
   "metadata": {},
   "outputs": [
    {
     "data": {
      "text/html": [
       "<div>\n",
       "<style scoped>\n",
       "    .dataframe tbody tr th:only-of-type {\n",
       "        vertical-align: middle;\n",
       "    }\n",
       "\n",
       "    .dataframe tbody tr th {\n",
       "        vertical-align: top;\n",
       "    }\n",
       "\n",
       "    .dataframe thead th {\n",
       "        text-align: right;\n",
       "    }\n",
       "</style>\n",
       "<table border=\"1\" class=\"dataframe\">\n",
       "  <thead>\n",
       "    <tr style=\"text-align: right;\">\n",
       "      <th>Predicted Labels</th>\n",
       "      <th>0</th>\n",
       "      <th>1</th>\n",
       "    </tr>\n",
       "    <tr>\n",
       "      <th>Actual Labels</th>\n",
       "      <th></th>\n",
       "      <th></th>\n",
       "    </tr>\n",
       "  </thead>\n",
       "  <tbody>\n",
       "    <tr>\n",
       "      <th>0</th>\n",
       "      <td>23</td>\n",
       "      <td>6</td>\n",
       "    </tr>\n",
       "    <tr>\n",
       "      <th>1</th>\n",
       "      <td>6</td>\n",
       "      <td>26</td>\n",
       "    </tr>\n",
       "  </tbody>\n",
       "</table>\n",
       "</div>"
      ],
      "text/plain": [
       "Predicted Labels   0   1\n",
       "Actual Labels           \n",
       "0                 23   6\n",
       "1                  6  26"
      ]
     },
     "execution_count": 96,
     "metadata": {},
     "output_type": "execute_result"
    }
   ],
   "source": [
    "# Visualize confision matrix with pd.crosstab()\n",
    "pd.crosstab(y_test, \n",
    "            y_preds, \n",
    "            rownames=[\"Actual Labels\"], \n",
    "            colnames=[\"Predicted Labels\"])"
   ]
  },
  {
   "cell_type": "code",
   "execution_count": 97,
   "id": "3fc220d2",
   "metadata": {
    "scrolled": true
   },
   "outputs": [],
   "source": [
    "# INSTALL SEABORN INSIDE NOTEBOOK\n",
    "# import sys\n",
    "# !conda install --yes --prefix (sys.prefix) seaborn"
   ]
  },
  {
   "cell_type": "code",
   "execution_count": 98,
   "id": "56594ccc",
   "metadata": {
    "scrolled": false
   },
   "outputs": [
    {
     "data": {
      "image/png": "[encoded data removed]",
      "text/plain": [
       "<Figure size 640x480 with 2 Axes>"
      ]
     },
     "metadata": {},
     "output_type": "display_data"
    }
   ],
   "source": [
    "# make our confusion matrix more visual \n",
    "# with Seaborn's heatmap()\n",
    "import seaborn as sns\n",
    "\n",
    "# set the font scale\n",
    "sns.set(font_scale=1.5)\n",
    "\n",
    "# create a confusion matrix\n",
    "conf_mat = confusion_matrix(y_test, y_preds)\n",
    "\n",
    "# plot it using seaborn\n",
    "sns.heatmap(conf_mat);"
   ]
  },
  {
   "cell_type": "markdown",
   "id": "8342f649",
   "metadata": {},
   "source": [
    "### Evaluating A Classification Model 5 (Confusion Matrix)"
   ]
  },
  {
   "cell_type": "code",
   "execution_count": 99,
   "id": "4f6d9b73",
   "metadata": {
    "scrolled": true
   },
   "outputs": [
    {
     "data": {
      "image/png": "[encoded data removed]",
      "text/plain": [
       "<Figure size 300x300 with 1 Axes>"
      ]
     },
     "metadata": {},
     "output_type": "display_data"
    }
   ],
   "source": [
    "# fix issues about above map\n",
    "\n",
    "def plot_conf_mat(conf_mat):\n",
    "    \"\"\"\n",
    "    Plots a confusion matrix using Seaborn's heatmap().\n",
    "    \"\"\"\n",
    "    fig, ax = plt.subplots(figsize=(3, 3))\n",
    "    ax = sns.heatmap(conf_mat,\n",
    "                     annot=True, # annotate the boxes with conf_mat info\n",
    "                     cbar=False)\n",
    "    plt.xlabel(\"True label\")\n",
    "    plt.ylabel(\"Predicted label\");\n",
    "    \n",
    "#     # fix the broken annotations \"happened in old version of matplotlib\"\n",
    "#     bottom, top = ax.get_ylim()\n",
    "#     ax.set_ylim(bottom + 0.5, top-0.5)\n",
    "\n",
    "plot_conf_mat(conf_mat)"
   ]
  },
  {
   "cell_type": "markdown",
   "id": "c7f9dcfd",
   "metadata": {},
   "source": [
    "#### Anatomy of confusion matrix\n",
    "![confusion_anatomy](documents/sklearn-confusion-matrix-anatomy.png)"
   ]
  },
  {
   "cell_type": "markdown",
   "id": "66dfaabb",
   "metadata": {},
   "source": [
    "#### Creating a confusion matrix using Scikit-Learn\n",
    "\n",
    "Scikit-Learn has multiple different implementations of plotting confusion matrices:\n",
    "\n",
    "* `sklearn.metrics.ConfusionMatrixDisplay.from_estimator(estimator, X, y)` - this takes a fitted estimator (like our `clf` model), features `(X)` and labels `(y)`, it then uses the trained estimator to make predictions on X and compares the predictions to y by displaying a confusion matrix.\n",
    "* `sklearn.metrics.ConfusionMatrixDisplay.from_predictions(y_true, y_pred)` - this takes truth labels and predicted labels and compares them by displaying a confusion matrix.\n",
    "\n",
    "> Note: Both of these methods/classes require Scikit-Learn 1.0+. To check your version of Scikit-Learn run:\n",
    "\n",
    "\n",
    "import sklearn\n",
    "sklearn.__version__\n",
    "\n",
    "> If you don't have 1.0+, you can upgrade at: https://scikit-learn.org/stable/install.html"
   ]
  },
  {
   "cell_type": "code",
   "execution_count": 100,
   "id": "b34f5264",
   "metadata": {
    "scrolled": false
   },
   "outputs": [
    {
     "data": {
      "image/png": "[encoded data removed]",
      "text/plain": [
       "<Figure size 640x480 with 2 Axes>"
      ]
     },
     "metadata": {},
     "output_type": "display_data"
    }
   ],
   "source": [
    "from sklearn.metrics import ConfusionMatrixDisplay\n",
    "\n",
    "ConfusionMatrixDisplay.from_estimator(estimator=clf, X=X, y=y);"
   ]
  },
  {
   "cell_type": "code",
   "execution_count": 101,
   "id": "70833fe9",
   "metadata": {},
   "outputs": [
    {
     "data": {
      "image/png": "[encoded data removed]",
      "text/plain": [
       "<Figure size 640x480 with 2 Axes>"
      ]
     },
     "metadata": {},
     "output_type": "display_data"
    }
   ],
   "source": [
    "# Plot confusion matrix from predictions\n",
    "ConfusionMatrixDisplay.from_predictions(y_true=y_test, \n",
    "                                        y_pred=y_preds);"
   ]
  },
  {
   "cell_type": "markdown",
   "id": "fe13b293",
   "metadata": {},
   "source": [
    "### Evaluating A Classification Model 6 (Classification Report)"
   ]
  },
  {
   "cell_type": "code",
   "execution_count": 102,
   "id": "eaa9cb82",
   "metadata": {},
   "outputs": [
    {
     "name": "stdout",
     "output_type": "stream",
     "text": [
      "              precision    recall  f1-score   support\n",
      "\n",
      "           0       0.79      0.79      0.79        29\n",
      "           1       0.81      0.81      0.81        32\n",
      "\n",
      "    accuracy                           0.80        61\n",
      "   macro avg       0.80      0.80      0.80        61\n",
      "weighted avg       0.80      0.80      0.80        61\n",
      "\n"
     ]
    }
   ],
   "source": [
    "from sklearn.metrics import classification_report\n",
    "\n",
    "print(classification_report(y_test, y_preds))"
   ]
  },
  {
   "cell_type": "code",
   "execution_count": 103,
   "id": "77e02c86",
   "metadata": {
    "scrolled": false
   },
   "outputs": [
    {
     "data": {
      "text/html": [
       "<div>\n",
       "<style scoped>\n",
       "    .dataframe tbody tr th:only-of-type {\n",
       "        vertical-align: middle;\n",
       "    }\n",
       "\n",
       "    .dataframe tbody tr th {\n",
       "        vertical-align: top;\n",
       "    }\n",
       "\n",
       "    .dataframe thead th {\n",
       "        text-align: right;\n",
       "    }\n",
       "</style>\n",
       "<table border=\"1\" class=\"dataframe\">\n",
       "  <thead>\n",
       "    <tr style=\"text-align: right;\">\n",
       "      <th></th>\n",
       "      <th>0.0</th>\n",
       "      <th>1.0</th>\n",
       "      <th>accuracy</th>\n",
       "      <th>macro avg</th>\n",
       "      <th>weighted avg</th>\n",
       "    </tr>\n",
       "  </thead>\n",
       "  <tbody>\n",
       "    <tr>\n",
       "      <th>precision</th>\n",
       "      <td>0.99990</td>\n",
       "      <td>0.0</td>\n",
       "      <td>0.9999</td>\n",
       "      <td>0.499950</td>\n",
       "      <td>0.99980</td>\n",
       "    </tr>\n",
       "    <tr>\n",
       "      <th>recall</th>\n",
       "      <td>1.00000</td>\n",
       "      <td>0.0</td>\n",
       "      <td>0.9999</td>\n",
       "      <td>0.500000</td>\n",
       "      <td>0.99990</td>\n",
       "    </tr>\n",
       "    <tr>\n",
       "      <th>f1-score</th>\n",
       "      <td>0.99995</td>\n",
       "      <td>0.0</td>\n",
       "      <td>0.9999</td>\n",
       "      <td>0.499975</td>\n",
       "      <td>0.99985</td>\n",
       "    </tr>\n",
       "    <tr>\n",
       "      <th>support</th>\n",
       "      <td>9999.00000</td>\n",
       "      <td>1.0</td>\n",
       "      <td>0.9999</td>\n",
       "      <td>10000.000000</td>\n",
       "      <td>10000.00000</td>\n",
       "    </tr>\n",
       "  </tbody>\n",
       "</table>\n",
       "</div>"
      ],
      "text/plain": [
       "                  0.0  1.0  accuracy     macro avg  weighted avg\n",
       "precision     0.99990  0.0    0.9999      0.499950       0.99980\n",
       "recall        1.00000  0.0    0.9999      0.500000       0.99990\n",
       "f1-score      0.99995  0.0    0.9999      0.499975       0.99985\n",
       "support    9999.00000  1.0    0.9999  10000.000000   10000.00000"
      ]
     },
     "execution_count": 103,
     "metadata": {},
     "output_type": "execute_result"
    }
   ],
   "source": [
    "# example; look 10000 people for one has heart_disease\n",
    "# and rest of no disease\n",
    "# where precision and recall become valuable\n",
    "disease_true = np.zeros(10000)\n",
    "disease_true[0] = 1 # only one positive case\n",
    "\n",
    "disease_preds = np.zeros(10000) # model predicts every case as 0\n",
    "\n",
    "pd.DataFrame(classification_report(disease_true,\n",
    "                                   disease_preds,\n",
    "                                   output_dict=True,\n",
    "                                   zero_division=0))"
   ]
  },
  {
   "cell_type": "markdown",
   "id": "817972f5",
   "metadata": {},
   "source": [
    "To summarize classification metrics:\n",
    "\n",
    "* **Accuracy** is a good measure to start with if all classes are balanced (e.g. same amount of samples which are labelled with 0 or 1).\n",
    "\n",
    "* **Precision** and **recall** become more important when classes are imbalanced.\n",
    "\n",
    "* If false positive predictions are worse than false negatives, aim for higher precision.\n",
    "\n",
    "* If false negative predictions are worse than false positives, aim for higher recall.\n",
    "\n",
    "* **F1-score** is a combination of precision and recall."
   ]
  },
  {
   "cell_type": "markdown",
   "id": "1029d50b",
   "metadata": {},
   "source": [
    "### Evaluating A Regression Model 1 (R2 Score)\n",
    "\n",
    "* **R^2 (pronounced r-squared) or coefficient of determination**\n",
    "> Compares your models predictions to the mean of the targets. Values can range from negative infinity (a very poor model) to 1. For example, if all your model does is predict the mean of the targets, its R^2 value would be 0. And if your model perfectly predicts a range of numbers it's R^2 value would be 1.\n",
    "\n",
    "* **Mean absolute error (MAE)**\n",
    "> The average of the absolute differences between predictions and actual values. It gives you an idea of how wrong your predictions were.\n",
    "\n",
    "\n",
    "* **Mean squared error (MSE)**\n",
    "> The average squared differences between predictions and actual values. Squaring the errors removes negative errors. It also amplifies outliers (samples which have larger errors)."
   ]
  },
  {
   "cell_type": "markdown",
   "id": "c66958d4",
   "metadata": {},
   "source": [
    "**R^2**"
   ]
  },
  {
   "cell_type": "code",
   "execution_count": 104,
   "id": "bea167ef",
   "metadata": {},
   "outputs": [],
   "source": [
    "from sklearn.ensemble import RandomForestRegressor\n",
    "\n",
    "np.random.seed(42)\n",
    "\n",
    "X = boston_df.drop(\"target\", axis=1)\n",
    "y = boston_df[\"target\"]\n",
    "\n",
    "X_train, X_test, y_train, y_test = train_test_split(X, y, test_size=0.2)\n",
    "\n",
    "model = RandomForestRegressor()\n",
    "\n",
    "model.fit(X_train, y_train);"
   ]
  },
  {
   "cell_type": "code",
   "execution_count": 105,
   "id": "9084b094",
   "metadata": {},
   "outputs": [
    {
     "data": {
      "text/plain": [
       "0.8654448653350507"
      ]
     },
     "execution_count": 105,
     "metadata": {},
     "output_type": "execute_result"
    }
   ],
   "source": [
    "model.score(X_test, y_test)"
   ]
  },
  {
   "cell_type": "code",
   "execution_count": 106,
   "id": "7e210d15",
   "metadata": {},
   "outputs": [
    {
     "data": {
      "text/plain": [
       "2.220446049250313e-16"
      ]
     },
     "execution_count": 106,
     "metadata": {},
     "output_type": "execute_result"
    }
   ],
   "source": [
    "from sklearn.metrics import r2_score\n",
    "\n",
    "# Fill an array with y_test mean\n",
    "y_test_mean = np.full(len(y_test), y_test.mean())\n",
    "\n",
    "r2_score(y_test, y_test_mean)"
   ]
  },
  {
   "cell_type": "code",
   "execution_count": 107,
   "id": "bd72e7d0",
   "metadata": {},
   "outputs": [
    {
     "data": {
      "text/plain": [
       "1.0"
      ]
     },
     "execution_count": 107,
     "metadata": {},
     "output_type": "execute_result"
    }
   ],
   "source": [
    "r2_score(y_test, y_test)"
   ]
  },
  {
   "cell_type": "markdown",
   "id": "2825cbb8",
   "metadata": {},
   "source": [
    "### Evaluating A Regression Model 2 - Mean Absolute Error (MAE)"
   ]
  },
  {
   "cell_type": "code",
   "execution_count": 108,
   "id": "03c87579",
   "metadata": {},
   "outputs": [
    {
     "data": {
      "text/plain": [
       "2.136382352941176"
      ]
     },
     "execution_count": 108,
     "metadata": {},
     "output_type": "execute_result"
    }
   ],
   "source": [
    "# mean absolute error\n",
    "from sklearn.metrics import mean_absolute_error\n",
    "\n",
    "y_preds = model.predict(X_test)\n",
    "mae = mean_absolute_error(y_test, y_preds)\n",
    "mae"
   ]
  },
  {
   "cell_type": "code",
   "execution_count": 109,
   "id": "b2fddd23",
   "metadata": {},
   "outputs": [
    {
     "data": {
      "text/html": [
       "<div>\n",
       "<style scoped>\n",
       "    .dataframe tbody tr th:only-of-type {\n",
       "        vertical-align: middle;\n",
       "    }\n",
       "\n",
       "    .dataframe tbody tr th {\n",
       "        vertical-align: top;\n",
       "    }\n",
       "\n",
       "    .dataframe thead th {\n",
       "        text-align: right;\n",
       "    }\n",
       "</style>\n",
       "<table border=\"1\" class=\"dataframe\">\n",
       "  <thead>\n",
       "    <tr style=\"text-align: right;\">\n",
       "      <th></th>\n",
       "      <th>actual values</th>\n",
       "      <th>predicted values</th>\n",
       "      <th>differences</th>\n",
       "    </tr>\n",
       "  </thead>\n",
       "  <tbody>\n",
       "    <tr>\n",
       "      <th>173</th>\n",
       "      <td>23.6</td>\n",
       "      <td>23.081</td>\n",
       "      <td>-0.519</td>\n",
       "    </tr>\n",
       "    <tr>\n",
       "      <th>274</th>\n",
       "      <td>32.4</td>\n",
       "      <td>30.574</td>\n",
       "      <td>-1.826</td>\n",
       "    </tr>\n",
       "    <tr>\n",
       "      <th>491</th>\n",
       "      <td>13.6</td>\n",
       "      <td>16.759</td>\n",
       "      <td>3.159</td>\n",
       "    </tr>\n",
       "    <tr>\n",
       "      <th>72</th>\n",
       "      <td>22.8</td>\n",
       "      <td>23.460</td>\n",
       "      <td>0.660</td>\n",
       "    </tr>\n",
       "    <tr>\n",
       "      <th>452</th>\n",
       "      <td>16.1</td>\n",
       "      <td>16.893</td>\n",
       "      <td>0.793</td>\n",
       "    </tr>\n",
       "    <tr>\n",
       "      <th>...</th>\n",
       "      <td>...</td>\n",
       "      <td>...</td>\n",
       "      <td>...</td>\n",
       "    </tr>\n",
       "    <tr>\n",
       "      <th>412</th>\n",
       "      <td>17.9</td>\n",
       "      <td>13.159</td>\n",
       "      <td>-4.741</td>\n",
       "    </tr>\n",
       "    <tr>\n",
       "      <th>436</th>\n",
       "      <td>9.6</td>\n",
       "      <td>12.476</td>\n",
       "      <td>2.876</td>\n",
       "    </tr>\n",
       "    <tr>\n",
       "      <th>411</th>\n",
       "      <td>17.2</td>\n",
       "      <td>13.612</td>\n",
       "      <td>-3.588</td>\n",
       "    </tr>\n",
       "    <tr>\n",
       "      <th>86</th>\n",
       "      <td>22.5</td>\n",
       "      <td>20.205</td>\n",
       "      <td>-2.295</td>\n",
       "    </tr>\n",
       "    <tr>\n",
       "      <th>75</th>\n",
       "      <td>21.4</td>\n",
       "      <td>23.832</td>\n",
       "      <td>2.432</td>\n",
       "    </tr>\n",
       "  </tbody>\n",
       "</table>\n",
       "<p>102 rows × 3 columns</p>\n",
       "</div>"
      ],
      "text/plain": [
       "     actual values  predicted values  differences\n",
       "173           23.6            23.081       -0.519\n",
       "274           32.4            30.574       -1.826\n",
       "491           13.6            16.759        3.159\n",
       "72            22.8            23.460        0.660\n",
       "452           16.1            16.893        0.793\n",
       "..             ...               ...          ...\n",
       "412           17.9            13.159       -4.741\n",
       "436            9.6            12.476        2.876\n",
       "411           17.2            13.612       -3.588\n",
       "86            22.5            20.205       -2.295\n",
       "75            21.4            23.832        2.432\n",
       "\n",
       "[102 rows x 3 columns]"
      ]
     },
     "execution_count": 109,
     "metadata": {},
     "output_type": "execute_result"
    }
   ],
   "source": [
    "df = pd.DataFrame(data={\"actual values\": y_test,\n",
    "                        \"predicted values\": y_preds})\n",
    "\n",
    "df[\"differences\"] = df[\"predicted values\"] - df[\"actual values\"]\n",
    "\n",
    "df"
   ]
  },
  {
   "cell_type": "code",
   "execution_count": 110,
   "id": "8fc98ba5",
   "metadata": {},
   "outputs": [
    {
     "data": {
      "image/png": "[encoded data removed]",
      "text/plain": [
       "<Figure size 640x480 with 1 Axes>"
      ]
     },
     "metadata": {},
     "output_type": "display_data"
    }
   ],
   "source": [
    "# draw plot for above data\n",
    "fig, ax = plt.subplots()\n",
    "x = np.arange(0, len(df), 1)\n",
    "ax.scatter(x, df[\"actual values\"], c='b', label=\"Actual Values\")\n",
    "ax.scatter(x, df[\"predicted values\"], c='r', label='Predictions')\n",
    "ax.legend(loc=(1, 0.5));"
   ]
  },
  {
   "cell_type": "markdown",
   "id": "b2799927",
   "metadata": {},
   "source": [
    "### Evaluating A Regression Model 3 - Mean Squared Error (MSE)"
   ]
  },
  {
   "cell_type": "code",
   "execution_count": 111,
   "id": "202f1275",
   "metadata": {},
   "outputs": [
    {
     "data": {
      "text/plain": [
       "9.867437068627442"
      ]
     },
     "execution_count": 111,
     "metadata": {},
     "output_type": "execute_result"
    }
   ],
   "source": [
    "from sklearn.metrics import mean_squared_error\n",
    "\n",
    "y_preds = model.predict(X_test)\n",
    "mse = mean_squared_error(y_test, y_preds)\n",
    "mse"
   ]
  },
  {
   "cell_type": "code",
   "execution_count": 112,
   "id": "c6be7887",
   "metadata": {},
   "outputs": [
    {
     "data": {
      "text/plain": [
       "173     0.269361\n",
       "274     3.334276\n",
       "491     9.979281\n",
       "72      0.435600\n",
       "452     0.628849\n",
       "         ...    \n",
       "412    22.477081\n",
       "436     8.271376\n",
       "411    12.873744\n",
       "86      5.267025\n",
       "75      5.914624\n",
       "Name: differences, Length: 102, dtype: float64"
      ]
     },
     "execution_count": 112,
     "metadata": {},
     "output_type": "execute_result"
    }
   ],
   "source": [
    "# calculate MSE by handsquared = \n",
    "squared = np.square(df[\"differences\"])\n",
    "squared"
   ]
  },
  {
   "cell_type": "code",
   "execution_count": 113,
   "id": "78d13a51",
   "metadata": {},
   "outputs": [
    {
     "data": {
      "text/plain": [
       "9.867437068627439"
      ]
     },
     "execution_count": 113,
     "metadata": {},
     "output_type": "execute_result"
    }
   ],
   "source": [
    "squared.mean()"
   ]
  },
  {
   "cell_type": "markdown",
   "id": "057bdddb",
   "metadata": {},
   "source": [
    "> MSE will always be higher than MAE because is squares the errors rather than only taking the absolute difference into account.\n",
    "\n",
    "**Now you might be thinking, which regression evaluation metric should you use?**\n",
    "\n",
    "* R^2 is similar to accuracy. It gives you a quick indication of how well your model might be doing. Generally, the closer your R^2 value is to 1.0, the better the model. But it doesn't really tell exactly how wrong your model is in terms of how far off each prediction is.\n",
    "\n",
    "* MAE gives a better indication of how far off each of your model's predictions are on average.\n",
    "\n",
    "* As for MAE or MSE, because of the way MSE is calculated, squaring the differences between predicted values and actual values, it amplifies larger differences. Let's say we're predicting the value of houses (which we are).\n",
    "\n",
    "> **Pay more attention to MAE:** When being `$10,000` off is *twice* as bad as being `$5,000` off.\n",
    "\n",
    "> **Pay more attention to MSE:** When being `$10,000` off is *more than twice* as bad as being `$5,000` off.\n",
    "\n",
    "***Note: What we've covered here is only a handful of potential metrics you can use to evaluate your models.***"
   ]
  },
  {
   "cell_type": "markdown",
   "id": "b736db14",
   "metadata": {},
   "source": [
    "***Evaluation — What defines success? Is a 95% accurate machine learning model good enough?***\n",
    "\n",
    "You’ve defined your business problem in machine learning terms and you have data. Now define what defines success. There are different evaluation metrics for classification, regression and recommendation problems. Which one you choose will depend on your goal.\n",
    "\n",
    "> For this project to be successful, the model needs to be over 95% accurate at whether someone is at fault or not at fault.\n",
    "\n",
    "A 95% accurate model may sound pretty good for predicting who’s at fault in an insurance claim. But for predicting heart disease, you’ll likely want better results.\n",
    "\n",
    "Other things you should take into consideration for classification problems.\n",
    "\n",
    "* **False negatives** — Model predicts negative, actually positive. In some cases, like email spam prediction, false negatives aren’t too much to worry about. But if a self-driving cars computer vision system predicts no pedestrian when there was one, this is not good.\n",
    "\n",
    "* **False positives** — Model predicts positive, actually negative. Predicting someone has heart disease when they don’t, might seem okay. Better to be safe right? Not if it negatively affects the person’s lifestyle or sets them on a treatment plan they don’t need.\n",
    "\n",
    "* **True negatives** — Model predicts negative, actually negative. This is good.\n",
    "\n",
    "* **True positives** — Model predicts positive, actually positive. This is good.\n",
    "\n",
    "* **Precision** — What proportion of positive predictions were actually correct? A model that produces no false positives has a precision of 1.0.\n",
    "\n",
    "* **Recall** — What proportion of actual positives were predicted correctly? A model that produces no false negatives has a recall of 1.0.\n",
    "\n",
    "* **F1 score** — A combination of precision and recall. The closer to 1.0, the better.\n",
    "\n",
    "* **Receiver operating characteristic (ROC) curve & Area under the curve (AUC)** — The ROC curve is a plot comparing true positive and false positive rate. The AUC metric is the area under the ROC curve. A model whose predictions are 100% wrong has an AUC of 0.0, one whose predictions are 100% right has an AUC of 1.0.\n",
    "\n",
    "For regression problems (where you want to predict a number), you’ll want to minimise the difference between what your model predicts and what the actual value is. If you’re trying to predict the price a house will sell for, you’ll want your model to get as close as possible to the actual price. To do this, use MAE or RMSE.\n",
    "\n",
    "* **Mean absolute error (MAE)** — The average difference between your model's predictions and the actual numbers.\n",
    "\n",
    "* **Root mean square error (RMSE)** — The square root of the average of squared differences between your model's predictions and the actual numbers.\n",
    "\n",
    "Use RMSE if you want large errors to be more significant. Such as, \n",
    "\n",
    "* predicting a house to be sold at `$300,000` instead of `$200,000` and being off by `$100,000` is more than twice as bad as being off by `$50,000`. \n",
    "\n",
    "* Or MAE if being off by `$100,000` is twice as bad as being off by `$50,000`.\n",
    "\n",
    "Recommendation problems are harder to test in experimentation. One way to do so is to take a portion of your data and hide it away. When your model is built, use it to predict recommendations for the hidden data and see how it lines up.\n",
    "\n",
    "Let’s say you’re trying to recommend customers products on your online store. You have historical purchase data from 2010–2019. You could build a model on the 2010–2018 data and then use it to predict 2019 purchases. Then it becomes a classification problem because you’re trying to classify whether or not someone is likely to buy an item.\n",
    "\n",
    "However, traditional classification metrics aren’t the best for recommendation problems. Precision and recall have no concept of ordering.\n",
    "\n",
    "If your machine learning model returned back a list of 10 recommendations to be displayed to a customer on your website, you’d want the best ones to be displayed first right?\n",
    "\n",
    "* **Precision @ k (precision up to k)** — Same as regular precision, however, you choose the cutoff, k. For example, precision at `5`, means we only care about the top `5` recommendations. You may have `10,000` products. But you can’t recommend them all to your customers.\n",
    "\n",
    "> To begin with, you may not have an exact figure for each of these. But knowing what metrics you should be paying attention to gives you an idea of how to evaluate your machine learning project."
   ]
  },
  {
   "cell_type": "markdown",
   "id": "90f018d9",
   "metadata": {},
   "source": [
    "### Evaluating A Model With Cross Validation and Scoring Parameter"
   ]
  },
  {
   "cell_type": "code",
   "execution_count": 114,
   "id": "ede75909",
   "metadata": {},
   "outputs": [],
   "source": [
    "from sklearn.model_selection import cross_val_score\n",
    "from sklearn.ensemble import RandomForestClassifier\n",
    "\n",
    "np.random.seed(42)\n",
    "\n",
    "X = heart_disease.drop(\"target\", axis=1)\n",
    "y = heart_disease[\"target\"]\n",
    "\n",
    "clf = RandomForestClassifier()"
   ]
  },
  {
   "cell_type": "code",
   "execution_count": 115,
   "id": "e784e27f",
   "metadata": {},
   "outputs": [
    {
     "data": {
      "text/plain": [
       "array([0.81967213, 0.90163934, 0.83606557, 0.78333333, 0.78333333])"
      ]
     },
     "execution_count": 115,
     "metadata": {},
     "output_type": "execute_result"
    }
   ],
   "source": [
    "np.random.seed(42)\n",
    "cv_acc = cross_val_score(clf, X, y, cv=5, scoring=None)\n",
    "cv_acc"
   ]
  },
  {
   "cell_type": "code",
   "execution_count": 116,
   "id": "11616307",
   "metadata": {},
   "outputs": [
    {
     "name": "stdout",
     "output_type": "stream",
     "text": [
      "The cross-validated accuracy is: 82.48%\n"
     ]
    }
   ],
   "source": [
    "# cross-validated accuracy\n",
    "print(f'The cross-validated accuracy is: {np.mean(cv_acc)*100:.2f}%')"
   ]
  },
  {
   "cell_type": "code",
   "execution_count": 117,
   "id": "072a5e4c",
   "metadata": {},
   "outputs": [
    {
     "name": "stdout",
     "output_type": "stream",
     "text": [
      "The cross-validated accuracy is: 82.48%\n"
     ]
    }
   ],
   "source": [
    "# Accuracy\n",
    "np.random.seed(42) # increase prediction rate\n",
    "cv_acc = cross_val_score(clf, X, y, cv=5, scoring=\"accuracy\")\n",
    "print(f'The cross-validated accuracy is: {np.mean(cv_acc)*100:.2f}%')"
   ]
  },
  {
   "cell_type": "code",
   "execution_count": 118,
   "id": "14a7bcdd",
   "metadata": {},
   "outputs": [
    {
     "data": {
      "text/plain": [
       "0.8085601538512754"
      ]
     },
     "execution_count": 118,
     "metadata": {},
     "output_type": "execute_result"
    }
   ],
   "source": [
    "# Precision\n",
    "cv_precision = cross_val_score(clf, X, y, cv=5, scoring=\"precision\")\n",
    "np.mean(cv_precision)"
   ]
  },
  {
   "cell_type": "code",
   "execution_count": 119,
   "id": "b6c12c1b",
   "metadata": {},
   "outputs": [
    {
     "data": {
      "text/plain": [
       "0.8424242424242424"
      ]
     },
     "execution_count": 119,
     "metadata": {},
     "output_type": "execute_result"
    }
   ],
   "source": [
    "# Recall\n",
    "cv_recall = cross_val_score(clf, X, y, cv=5, scoring=\"recall\")\n",
    "np.mean(cv_recall)"
   ]
  },
  {
   "cell_type": "code",
   "execution_count": 120,
   "id": "ca5d913d",
   "metadata": {},
   "outputs": [
    {
     "data": {
      "text/plain": [
       "0.841476533416832"
      ]
     },
     "execution_count": 120,
     "metadata": {},
     "output_type": "execute_result"
    }
   ],
   "source": [
    "# F1\n",
    "cv_f1 = cross_val_score(clf, X, y, cv=5, scoring=\"f1\")\n",
    "np.mean(cv_f1)"
   ]
  },
  {
   "cell_type": "markdown",
   "id": "b441f88a",
   "metadata": {},
   "source": [
    "***How about our regression model?***"
   ]
  },
  {
   "cell_type": "code",
   "execution_count": 121,
   "id": "ee34ee5f",
   "metadata": {},
   "outputs": [],
   "source": [
    "from sklearn.model_selection import cross_val_score\n",
    "from sklearn.ensemble import RandomForestRegressor\n",
    "\n",
    "np.random.seed(42)\n",
    "\n",
    "X = boston_df.drop(\"target\", axis=1)\n",
    "y = boston_df[\"target\"]\n",
    "\n",
    "model = RandomForestRegressor()"
   ]
  },
  {
   "cell_type": "code",
   "execution_count": 122,
   "id": "34d35768",
   "metadata": {},
   "outputs": [
    {
     "data": {
      "text/plain": [
       "array([0.77231143, 0.86035935, 0.74664002, 0.47632078, 0.26630379])"
      ]
     },
     "execution_count": 122,
     "metadata": {},
     "output_type": "execute_result"
    }
   ],
   "source": [
    "np.random.seed(42)\n",
    "cv_r2 = cross_val_score(model, X, y, cv=5, scoring=None)\n",
    "cv_r2"
   ]
  },
  {
   "cell_type": "code",
   "execution_count": 123,
   "id": "4be4bb25",
   "metadata": {},
   "outputs": [
    {
     "data": {
      "text/plain": [
       "0.6243870737930857"
      ]
     },
     "execution_count": 123,
     "metadata": {},
     "output_type": "execute_result"
    }
   ],
   "source": [
    "# check average differences\n",
    "np.mean(cv_r2)"
   ]
  },
  {
   "cell_type": "code",
   "execution_count": 124,
   "id": "3eecd446",
   "metadata": {},
   "outputs": [
    {
     "data": {
      "text/plain": [
       "array([0.77231143, 0.86035935, 0.74664002, 0.47632078, 0.26630379])"
      ]
     },
     "execution_count": 124,
     "metadata": {},
     "output_type": "execute_result"
    }
   ],
   "source": [
    "np.random.seed(42)\n",
    "cv_r2 = cross_val_score(model, X, y, cv=5, scoring='r2')\n",
    "cv_r2"
   ]
  },
  {
   "cell_type": "code",
   "execution_count": 125,
   "id": "406a3925",
   "metadata": {},
   "outputs": [
    {
     "data": {
      "text/plain": [
       "array([-2.13045098, -2.49771287, -3.45471287, -3.81509901, -3.11813861])"
      ]
     },
     "execution_count": 125,
     "metadata": {},
     "output_type": "execute_result"
    }
   ],
   "source": [
    "# Mean absolute error\n",
    "# neg means: higher values are better than lower values\n",
    "cv_mae = cross_val_score(model, X, y, cv=5, scoring=\"neg_mean_absolute_error\")\n",
    "cv_mae"
   ]
  },
  {
   "cell_type": "code",
   "execution_count": 126,
   "id": "353fd425",
   "metadata": {},
   "outputs": [
    {
     "data": {
      "text/plain": [
       "-3.003222869345758"
      ]
     },
     "execution_count": 126,
     "metadata": {},
     "output_type": "execute_result"
    }
   ],
   "source": [
    "np.mean(cv_mae)"
   ]
  },
  {
   "cell_type": "code",
   "execution_count": 127,
   "id": "c92f10da",
   "metadata": {
    "scrolled": true
   },
   "outputs": [
    {
     "data": {
      "text/plain": [
       "array([ -7.8141513 , -12.94343325, -19.11614042, -46.28783248,\n",
       "       -19.48161818])"
      ]
     },
     "execution_count": 127,
     "metadata": {},
     "output_type": "execute_result"
    }
   ],
   "source": [
    "# Mean squared error\n",
    "cv_mse = cross_val_score(model, X, y, cv=5, scoring='neg_mean_squared_error')\n",
    "cv_mse"
   ]
  },
  {
   "cell_type": "code",
   "execution_count": 128,
   "id": "35ff2e85",
   "metadata": {},
   "outputs": [
    {
     "data": {
      "text/plain": [
       "-21.12863512415064"
      ]
     },
     "execution_count": 128,
     "metadata": {},
     "output_type": "execute_result"
    }
   ],
   "source": [
    "# check differences average\n",
    "np.mean(cv_mse)"
   ]
  },
  {
   "cell_type": "markdown",
   "id": "b67b2c1e",
   "metadata": {},
   "source": [
    "### Evaluating A Model With Scikit-learn Functions\n",
    "\n",
    "**METRICS FUNCTIONS**\n",
    "\n",
    "***Classification evaluation functions***\n",
    "\n",
    "* Accuracy we can use `accuracy_score()`\n",
    "* Precision we can use `precision_score()`\n",
    "* Recall we can use `recall_score()`\n",
    "* F1 we can use `f1_score()`"
   ]
  },
  {
   "cell_type": "code",
   "execution_count": 129,
   "id": "48a67f0a",
   "metadata": {},
   "outputs": [
    {
     "name": "stdout",
     "output_type": "stream",
     "text": [
      "Classifier metrics on the test set\n",
      "Accuracy: 85.25%\n",
      "Precision: 0.85\n",
      "Recall: 0.88\n",
      "F1: 0.86\n"
     ]
    }
   ],
   "source": [
    "from sklearn.metrics import accuracy_score, precision_score, recall_score, f1_score\n",
    "from sklearn.ensemble import RandomForestClassifier\n",
    "from sklearn.model_selection import train_test_split\n",
    "\n",
    "# use numpy random seed to learn better\n",
    "np.random.seed(42)\n",
    "\n",
    "# split data as per prediction column\n",
    "X = heart_disease.drop(\"target\", axis=1)\n",
    "y = heart_disease[\"target\"]\n",
    "\n",
    "# set how many percentage of data\n",
    "X_train, X_test, y_train, y_test = train_test_split(X, y, test_size=0.2)\n",
    "\n",
    "# call model and fit to the data\n",
    "clf = RandomForestClassifier()\n",
    "clf.fit(X_train, y_train)\n",
    "\n",
    "# make some predictions\n",
    "y_preds = clf.predict(X_test)\n",
    "\n",
    "# evaluate the classifier\n",
    "print(\"Classifier metrics on the test set\")\n",
    "print(f\"Accuracy: {accuracy_score(y_test, y_preds)*100:.2f}%\")\n",
    "print(f\"Precision: {precision_score(y_test, y_preds):.2f}\")\n",
    "print(f\"Recall: {recall_score(y_test, y_preds):.2f}\")\n",
    "print(f\"F1: {f1_score(y_test, y_preds):.2f}\")"
   ]
  },
  {
   "cell_type": "markdown",
   "id": "9d99b281",
   "metadata": {},
   "source": [
    "***Summary information for your classification model in above***\n",
    "* `Accuracy`: default **prediction/learning** rate.\n",
    "* `Precision`: how many **false positive** exist in model.\n",
    "* `Recall`: how many **false negative** exist in model.\n",
    "* `F1`: combination of **precision and recall**."
   ]
  },
  {
   "cell_type": "markdown",
   "id": "19fd4d92",
   "metadata": {},
   "source": [
    "**Regression evaluation functions**"
   ]
  },
  {
   "cell_type": "code",
   "execution_count": 130,
   "id": "3a5ffe44",
   "metadata": {},
   "outputs": [
    {
     "name": "stdout",
     "output_type": "stream",
     "text": [
      "Regression model metrics on the test set\n",
      "r^2: 86.54\n",
      "MAE: 2.14\n",
      "MSE: 9.87\n"
     ]
    }
   ],
   "source": [
    "from sklearn.metrics import r2_score, mean_absolute_error, mean_squared_error\n",
    "from sklearn.ensemble import RandomForestRegressor\n",
    "from sklearn.model_selection import train_test_split\n",
    "\n",
    "np.random.seed(42)\n",
    "\n",
    "X = boston_df.drop(\"target\", axis=1)\n",
    "y = boston_df[\"target\"]\n",
    "\n",
    "X_train, X_test, y_train, y_test = train_test_split(X, y, test_size=0.2)\n",
    "\n",
    "model = RandomForestRegressor()\n",
    "model.fit(X_train, y_train)\n",
    "\n",
    "# make predictions using regression model\n",
    "y_preds = model.predict(X_test)\n",
    "\n",
    "# evaluate the regression model\n",
    "print(\"Regression model metrics on the test set\")\n",
    "print(f\"r^2: {r2_score(y_test, y_preds)*100:.2f}\")\n",
    "print(f\"MAE: {mean_absolute_error(y_test, y_preds):.2f}\")\n",
    "print(f\"MSE: {mean_squared_error(y_test, y_preds):.2f}\")"
   ]
  },
  {
   "cell_type": "markdown",
   "id": "32c18aeb",
   "metadata": {},
   "source": [
    "***Summary information for your regression model in above***\n",
    "* `r^2`: default **prediction/learning** rate.\n",
    "* `Mean Absolute Error (MAE)`: average differences between **Actual and Predicted values** in model.\n",
    "* `Mean Squared Error (MSE)`: squaring the differences between **Actual and Predicted values** in model."
   ]
  },
  {
   "cell_type": "markdown",
   "id": "4dcfb0ca",
   "metadata": {},
   "source": [
    "### Improving A Machine Learning Model\n",
    "\n",
    "**First predictions** = baseline predictions.\n",
    "**First model** = baseline model.\n",
    "\n",
    "**Way to Improve model**\n",
    "\n",
    "***From a data perspective:***\n",
    "* Could we collect more data? \"generally, the more data, the better\"\n",
    "* Could we improve our data? \n",
    "\n",
    "***From a model perspective***\n",
    "* Is there a better model we could use? \"chosing complex method to training model\"\n",
    "* Could we improve the current model? \"hyper-parameter\"\n",
    "\n",
    "***Hyperparameters vs Parameters***\n",
    "* **Parameters** = model find these patterns in data\n",
    "* **Hyperparameters** = settings on a model you can adjust to \"ptentially\" impove its ability to find patterns\n",
    "\n",
    "***three ways to adjust hyperparameters***\n",
    "* By hand\n",
    "* Randomly with RandomSearchCV\n",
    "* Exhaustively with GridSearchCV"
   ]
  },
  {
   "cell_type": "code",
   "execution_count": 131,
   "id": "4c44ec1e",
   "metadata": {},
   "outputs": [],
   "source": [
    "from sklearn.ensemble import RandomForestClassifier\n",
    "\n",
    "clf = RandomForestClassifier()"
   ]
  },
  {
   "cell_type": "code",
   "execution_count": 132,
   "id": "f7043a4e",
   "metadata": {},
   "outputs": [
    {
     "data": {
      "text/plain": [
       "{'bootstrap': True,\n",
       " 'ccp_alpha': 0.0,\n",
       " 'class_weight': None,\n",
       " 'criterion': 'gini',\n",
       " 'max_depth': None,\n",
       " 'max_features': 'sqrt',\n",
       " 'max_leaf_nodes': None,\n",
       " 'max_samples': None,\n",
       " 'min_impurity_decrease': 0.0,\n",
       " 'min_samples_leaf': 1,\n",
       " 'min_samples_split': 2,\n",
       " 'min_weight_fraction_leaf': 0.0,\n",
       " 'n_estimators': 100,\n",
       " 'n_jobs': None,\n",
       " 'oob_score': False,\n",
       " 'random_state': None,\n",
       " 'verbose': 0,\n",
       " 'warm_start': False}"
      ]
     },
     "execution_count": 132,
     "metadata": {},
     "output_type": "execute_result"
    }
   ],
   "source": [
    "clf.get_params()"
   ]
  },
  {
   "cell_type": "markdown",
   "id": "2be208ab",
   "metadata": {},
   "source": [
    "#### Hyperparameter tuning"
   ]
  },
  {
   "cell_type": "markdown",
   "id": "b645f880",
   "metadata": {},
   "source": [
    "![sklearn-hyperparameter-tuning-oven](documents/sklearn-hyperparameter-tuning-oven.png)"
   ]
  },
  {
   "cell_type": "markdown",
   "id": "7e1124f4",
   "metadata": {},
   "source": [
    "> ***Regarding above picture,*** with hyperparameter tuning we can figure out to increase temperature of bakery for best baked chicken."
   ]
  },
  {
   "cell_type": "markdown",
   "id": "f841c612",
   "metadata": {},
   "source": [
    "### Tuning Hyperparameters\n",
    "\n",
    "**By Hand**"
   ]
  },
  {
   "cell_type": "markdown",
   "id": "fd9256d3",
   "metadata": {},
   "source": [
    "![sklearn-train-valid-test-annotated](documents/sklearn-train-valid-test-annotated.png)"
   ]
  },
  {
   "cell_type": "markdown",
   "id": "772dc5ac",
   "metadata": {},
   "source": [
    "**Split data for 3 sets, `Training`, `Validation` and `Test`**"
   ]
  },
  {
   "cell_type": "code",
   "execution_count": 133,
   "id": "7ca9e8bc",
   "metadata": {},
   "outputs": [
    {
     "data": {
      "text/plain": [
       "{'bootstrap': True,\n",
       " 'ccp_alpha': 0.0,\n",
       " 'class_weight': None,\n",
       " 'criterion': 'gini',\n",
       " 'max_depth': None,\n",
       " 'max_features': 'sqrt',\n",
       " 'max_leaf_nodes': None,\n",
       " 'max_samples': None,\n",
       " 'min_impurity_decrease': 0.0,\n",
       " 'min_samples_leaf': 1,\n",
       " 'min_samples_split': 2,\n",
       " 'min_weight_fraction_leaf': 0.0,\n",
       " 'n_estimators': 100,\n",
       " 'n_jobs': None,\n",
       " 'oob_score': False,\n",
       " 'random_state': None,\n",
       " 'verbose': 0,\n",
       " 'warm_start': False}"
      ]
     },
     "execution_count": 133,
     "metadata": {},
     "output_type": "execute_result"
    }
   ],
   "source": [
    "clf.get_params()"
   ]
  },
  {
   "cell_type": "markdown",
   "id": "1630f93a",
   "metadata": {},
   "source": [
    "***best common options to pickup and adjust in hyperparameters***\n",
    "\n",
    "* `max_depth`: the maximum depth of the tree.\n",
    "* `max_features`: the number of features to consider when looking for the best split.\n",
    "* `min_samples_leaf` : the minimum number of samples required to be at a leaf node.\n",
    "* `min_samples_split`: min_samples_split specifies the minimum number of samples required to split an internal node, while min_samples_leaf specifies the minimum number of samples required to be at a leaf node.\n",
    "* `n_estimators` : the number of trees you want to build before taking the maximum voting or averages of predictions."
   ]
  },
  {
   "cell_type": "code",
   "execution_count": 134,
   "id": "452160ea",
   "metadata": {},
   "outputs": [],
   "source": [
    "def evaluate_preds(y_true, y_preds):\n",
    "    \"\"\"\n",
    "    Performs evaluation comparison on y_true labels vs. y_pred labels\n",
    "    in classification.\n",
    "    \"\"\"\n",
    "    accuracy = accuracy_score(y_true, y_preds)\n",
    "    precision = precision_score(y_true, y_preds)\n",
    "    recall = recall_score(y_true, y_preds)\n",
    "    f1 = f1_score(y_true, y_preds)\n",
    "    metric_dict = {\"accuracy\": round(accuracy, 2),\n",
    "                   \"precision\": round(precision, 2), \n",
    "                   \"recall\": round(recall, 2),\n",
    "                   \"f1\": round(f1, 2)}\n",
    "    print(f\"Acc: {accuracy * 100:.2f}%\")\n",
    "    print(f\"Precision: {precision:.2f}\")\n",
    "    print(f\"Recall: {recall:.2f}\")\n",
    "    print(f\"F1 score: {f1:.2f}\")\n",
    "\n",
    "    return metric_dict"
   ]
  },
  {
   "cell_type": "code",
   "execution_count": 135,
   "id": "17ee3b68",
   "metadata": {
    "scrolled": true
   },
   "outputs": [
    {
     "name": "stdout",
     "output_type": "stream",
     "text": [
      "Acc: 82.22%\n",
      "Precision: 0.81\n",
      "Recall: 0.88\n",
      "F1 score: 0.85\n"
     ]
    },
    {
     "data": {
      "text/plain": [
       "{'accuracy': 0.82, 'precision': 0.81, 'recall': 0.88, 'f1': 0.85}"
      ]
     },
     "execution_count": 135,
     "metadata": {},
     "output_type": "execute_result"
    }
   ],
   "source": [
    "from sklearn.ensemble import RandomForestClassifier\n",
    "\n",
    "np.random.seed(42)\n",
    "\n",
    "# Shuffle the data\n",
    "# frac=1 -> 100% of data\n",
    "heart_disease_shuffled = heart_disease.sample(frac=1)\n",
    "\n",
    "# Split into X & y\n",
    "X = heart_disease_shuffled.drop(\"target\", axis=1)\n",
    "y = heart_disease_shuffled[\"target\"]\n",
    "\n",
    "# Split the data into train, validation & test sets\n",
    "train_split = round(0.7 * len(heart_disease_shuffled)) # 70% of data\n",
    "valid_split = round(train_split + 0.15 * len(heart_disease_shuffled)) # 15% of data\n",
    "\n",
    "X_train, y_train = X[:train_split], y[:train_split]\n",
    "X_valid, y_valid = X[train_split:valid_split], y[train_split:valid_split]\n",
    "X_test, y_test = X[valid_split:], y[valid_split:]\n",
    "\n",
    "# show length of splited parts\n",
    "# len(X_train), len(X_valid), len(X_test)\n",
    "\n",
    "clf = RandomForestClassifier()\n",
    "clf.fit(X_train, y_train)\n",
    "\n",
    "# make baseline predictions\n",
    "y_preds = clf.predict(X_valid)\n",
    "\n",
    "# evaluate the classifier on validation set\n",
    "baseline_metrics = evaluate_preds(y_valid, y_preds)\n",
    "baseline_metrics"
   ]
  },
  {
   "cell_type": "code",
   "execution_count": 136,
   "id": "1f07b02f",
   "metadata": {},
   "outputs": [
    {
     "name": "stdout",
     "output_type": "stream",
     "text": [
      "Acc: 84.44%\n",
      "Precision: 0.85\n",
      "Recall: 0.88\n",
      "F1 score: 0.86\n"
     ]
    }
   ],
   "source": [
    "np.random.seed(42)\n",
    "\n",
    "# create a second classifier with different hyperparameters\n",
    "clf_2 = RandomForestClassifier(n_estimators=250)\n",
    "clf_2.fit(X_train, y_train)\n",
    "\n",
    "# make predictions\n",
    "y_preds_2 = clf_2.predict(X_valid)\n",
    "\n",
    "# evaluate the 2nd classifier\n",
    "clf_2_metrics = evaluate_preds(y_valid, y_preds_2)"
   ]
  },
  {
   "cell_type": "code",
   "execution_count": 137,
   "id": "52ab88c2",
   "metadata": {},
   "outputs": [
    {
     "name": "stdout",
     "output_type": "stream",
     "text": [
      "Acc: 86.67%\n",
      "Precision: 0.91\n",
      "Recall: 0.84\n",
      "F1 score: 0.87\n"
     ]
    }
   ],
   "source": [
    "clf_3 = RandomForestClassifier(n_estimators=10,\n",
    "                               max_depth=30)\n",
    "clf_3.fit(X_train, y_train)\n",
    "y_preds_3 = clf_3.predict(X_valid)\n",
    "clf_3_metrics = evaluate_preds(y_valid, y_preds_3)"
   ]
  },
  {
   "cell_type": "markdown",
   "id": "fc66dc74",
   "metadata": {},
   "source": [
    "### Tuning Hyperparameters 2\n",
    "\n",
    "**Randomly with RandomSearchCV**\n",
    "\n",
    "> in cross-validation section, I said how can find best test data from all data, so this is the answer in below"
   ]
  },
  {
   "cell_type": "code",
   "execution_count": 138,
   "id": "5090aa2a",
   "metadata": {
    "scrolled": true
   },
   "outputs": [
    {
     "name": "stdout",
     "output_type": "stream",
     "text": [
      "Fitting 5 folds for each of 60 candidates, totalling 300 fits\n",
      "[CV] END max_depth=120, max_features=sqrt, min_samples_leaf=4, min_samples_split=8, n_estimators=4; total time=   0.0s\n",
      "[CV] END max_depth=120, max_features=sqrt, min_samples_leaf=4, min_samples_split=8, n_estimators=4; total time=   0.0s\n",
      "[CV] END max_depth=120, max_features=sqrt, min_samples_leaf=4, min_samples_split=8, n_estimators=4; total time=   0.0s\n",
      "[CV] END max_depth=120, max_features=sqrt, min_samples_leaf=4, min_samples_split=8, n_estimators=4; total time=   0.0s\n",
      "[CV] END max_depth=120, max_features=sqrt, min_samples_leaf=4, min_samples_split=8, n_estimators=4; total time=   0.0s\n",
      "[CV] END max_depth=90, max_features=sqrt, min_samples_leaf=4, min_samples_split=30, n_estimators=4; total time=   0.0s\n",
      "[CV] END max_depth=90, max_features=sqrt, min_samples_leaf=4, min_samples_split=30, n_estimators=4; total time=   0.0s\n",
      "[CV] END max_depth=90, max_features=sqrt, min_samples_leaf=4, min_samples_split=30, n_estimators=4; total time=   0.0s\n",
      "[CV] END max_depth=90, max_features=sqrt, min_samples_leaf=4, min_samples_split=30, n_estimators=4; total time=   0.0s\n",
      "[CV] END max_depth=90, max_features=sqrt, min_samples_leaf=4, min_samples_split=30, n_estimators=4; total time=   0.0s\n",
      "[CV] END max_depth=60, max_features=sqrt, min_samples_leaf=24, min_samples_split=6, n_estimators=5; total time=   0.0s\n",
      "[CV] END max_depth=60, max_features=sqrt, min_samples_leaf=24, min_samples_split=6, n_estimators=5; total time=   0.0s\n",
      "[CV] END max_depth=60, max_features=sqrt, min_samples_leaf=24, min_samples_split=6, n_estimators=5; total time=   0.0s\n",
      "[CV] END max_depth=60, max_features=sqrt, min_samples_leaf=24, min_samples_split=6, n_estimators=5; total time=   0.0s\n",
      "[CV] END max_depth=60, max_features=sqrt, min_samples_leaf=24, min_samples_split=6, n_estimators=5; total time=   0.0s\n",
      "[CV] END max_depth=30, max_features=sqrt, min_samples_leaf=4, min_samples_split=15, n_estimators=2; total time=   0.0s\n",
      "[CV] END max_depth=30, max_features=sqrt, min_samples_leaf=4, min_samples_split=15, n_estimators=2; total time=   0.0s\n",
      "[CV] END max_depth=30, max_features=sqrt, min_samples_leaf=4, min_samples_split=15, n_estimators=2; total time=   0.0s\n",
      "[CV] END max_depth=30, max_features=sqrt, min_samples_leaf=4, min_samples_split=15, n_estimators=2; total time=   0.0s\n",
      "[CV] END max_depth=30, max_features=sqrt, min_samples_leaf=4, min_samples_split=15, n_estimators=2; total time=   0.0s\n",
      "[CV] END max_depth=60, max_features=sqrt, min_samples_leaf=4, min_samples_split=15, n_estimators=3; total time=   0.0s\n",
      "[CV] END max_depth=60, max_features=sqrt, min_samples_leaf=4, min_samples_split=15, n_estimators=3; total time=   0.0s\n",
      "[CV] END max_depth=60, max_features=sqrt, min_samples_leaf=4, min_samples_split=15, n_estimators=3; total time=   0.0s\n",
      "[CV] END max_depth=60, max_features=sqrt, min_samples_leaf=4, min_samples_split=15, n_estimators=3; total time=   0.0s\n",
      "[CV] END max_depth=60, max_features=sqrt, min_samples_leaf=4, min_samples_split=15, n_estimators=3; total time=   0.0s\n",
      "[CV] END max_depth=120, max_features=sqrt, min_samples_leaf=4, min_samples_split=30, n_estimators=4; total time=   0.0s\n",
      "[CV] END max_depth=120, max_features=sqrt, min_samples_leaf=4, min_samples_split=30, n_estimators=4; total time=   0.0s\n",
      "[CV] END max_depth=120, max_features=sqrt, min_samples_leaf=4, min_samples_split=30, n_estimators=4; total time=   0.0s\n",
      "[CV] END max_depth=120, max_features=sqrt, min_samples_leaf=4, min_samples_split=30, n_estimators=4; total time=   0.0s\n",
      "[CV] END max_depth=120, max_features=sqrt, min_samples_leaf=4, min_samples_split=30, n_estimators=4; total time=   0.0s\n",
      "[CV] END max_depth=90, max_features=sqrt, min_samples_leaf=4, min_samples_split=8, n_estimators=4; total time=   0.0s\n",
      "[CV] END max_depth=90, max_features=sqrt, min_samples_leaf=4, min_samples_split=8, n_estimators=4; total time=   0.0s\n",
      "[CV] END max_depth=90, max_features=sqrt, min_samples_leaf=4, min_samples_split=8, n_estimators=4; total time=   0.0s\n",
      "[CV] END max_depth=90, max_features=sqrt, min_samples_leaf=4, min_samples_split=8, n_estimators=4; total time=   0.0s\n",
      "[CV] END max_depth=90, max_features=sqrt, min_samples_leaf=4, min_samples_split=8, n_estimators=4; total time=   0.0s\n",
      "[CV] END max_depth=None, max_features=sqrt, min_samples_leaf=4, min_samples_split=6, n_estimators=3; total time=   0.0s\n",
      "[CV] END max_depth=None, max_features=sqrt, min_samples_leaf=4, min_samples_split=6, n_estimators=3; total time=   0.0s\n",
      "[CV] END max_depth=None, max_features=sqrt, min_samples_leaf=4, min_samples_split=6, n_estimators=3; total time=   0.0s\n",
      "[CV] END max_depth=None, max_features=sqrt, min_samples_leaf=4, min_samples_split=6, n_estimators=3; total time=   0.0s\n",
      "[CV] END max_depth=None, max_features=sqrt, min_samples_leaf=4, min_samples_split=6, n_estimators=3; total time=   0.0s\n",
      "[CV] END max_depth=120, max_features=sqrt, min_samples_leaf=12, min_samples_split=15, n_estimators=2; total time=   0.0s\n",
      "[CV] END max_depth=120, max_features=sqrt, min_samples_leaf=12, min_samples_split=15, n_estimators=2; total time=   0.0s\n",
      "[CV] END max_depth=120, max_features=sqrt, min_samples_leaf=12, min_samples_split=15, n_estimators=2; total time=   0.0s\n",
      "[CV] END max_depth=120, max_features=sqrt, min_samples_leaf=12, min_samples_split=15, n_estimators=2; total time=   0.0s\n",
      "[CV] END max_depth=120, max_features=sqrt, min_samples_leaf=12, min_samples_split=15, n_estimators=2; total time=   0.0s\n",
      "[CV] END max_depth=30, max_features=sqrt, min_samples_leaf=4, min_samples_split=30, n_estimators=3; total time=   0.0s\n",
      "[CV] END max_depth=30, max_features=sqrt, min_samples_leaf=4, min_samples_split=30, n_estimators=3; total time=   0.0s\n",
      "[CV] END max_depth=30, max_features=sqrt, min_samples_leaf=4, min_samples_split=30, n_estimators=3; total time=   0.0s\n",
      "[CV] END max_depth=30, max_features=sqrt, min_samples_leaf=4, min_samples_split=30, n_estimators=3; total time=   0.0s\n",
      "[CV] END max_depth=30, max_features=sqrt, min_samples_leaf=4, min_samples_split=30, n_estimators=3; total time=   0.0s\n",
      "[CV] END max_depth=120, max_features=sqrt, min_samples_leaf=24, min_samples_split=30, n_estimators=1; total time=   0.0s\n",
      "[CV] END max_depth=120, max_features=sqrt, min_samples_leaf=24, min_samples_split=30, n_estimators=1; total time=   0.0s\n",
      "[CV] END max_depth=120, max_features=sqrt, min_samples_leaf=24, min_samples_split=30, n_estimators=1; total time=   0.0s\n",
      "[CV] END max_depth=120, max_features=sqrt, min_samples_leaf=24, min_samples_split=30, n_estimators=1; total time=   0.0s\n",
      "[CV] END max_depth=120, max_features=sqrt, min_samples_leaf=24, min_samples_split=30, n_estimators=1; total time=   0.0s\n",
      "[CV] END max_depth=120, max_features=sqrt, min_samples_leaf=4, min_samples_split=6, n_estimators=5; total time=   0.0s\n",
      "[CV] END max_depth=120, max_features=sqrt, min_samples_leaf=4, min_samples_split=6, n_estimators=5; total time=   0.0s\n",
      "[CV] END max_depth=120, max_features=sqrt, min_samples_leaf=4, min_samples_split=6, n_estimators=5; total time=   0.0s\n",
      "[CV] END max_depth=120, max_features=sqrt, min_samples_leaf=4, min_samples_split=6, n_estimators=5; total time=   0.0s\n",
      "[CV] END max_depth=120, max_features=sqrt, min_samples_leaf=4, min_samples_split=6, n_estimators=5; total time=   0.0s\n",
      "[CV] END max_depth=30, max_features=sqrt, min_samples_leaf=24, min_samples_split=8, n_estimators=5; total time=   0.0s\n",
      "[CV] END max_depth=30, max_features=sqrt, min_samples_leaf=24, min_samples_split=8, n_estimators=5; total time=   0.0s\n",
      "[CV] END max_depth=30, max_features=sqrt, min_samples_leaf=24, min_samples_split=8, n_estimators=5; total time=   0.0s\n",
      "[CV] END max_depth=30, max_features=sqrt, min_samples_leaf=24, min_samples_split=8, n_estimators=5; total time=   0.0s\n",
      "[CV] END max_depth=30, max_features=sqrt, min_samples_leaf=24, min_samples_split=8, n_estimators=5; total time=   0.0s\n",
      "[CV] END max_depth=30, max_features=sqrt, min_samples_leaf=24, min_samples_split=15, n_estimators=2; total time=   0.0s\n",
      "[CV] END max_depth=30, max_features=sqrt, min_samples_leaf=24, min_samples_split=15, n_estimators=2; total time=   0.0s\n",
      "[CV] END max_depth=30, max_features=sqrt, min_samples_leaf=24, min_samples_split=15, n_estimators=2; total time=   0.0s\n",
      "[CV] END max_depth=30, max_features=sqrt, min_samples_leaf=24, min_samples_split=15, n_estimators=2; total time=   0.0s\n"
     ]
    },
    {
     "name": "stdout",
     "output_type": "stream",
     "text": [
      "[CV] END max_depth=30, max_features=sqrt, min_samples_leaf=24, min_samples_split=15, n_estimators=2; total time=   0.0s\n",
      "[CV] END max_depth=60, max_features=sqrt, min_samples_leaf=4, min_samples_split=30, n_estimators=3; total time=   0.0s\n",
      "[CV] END max_depth=60, max_features=sqrt, min_samples_leaf=4, min_samples_split=30, n_estimators=3; total time=   0.0s\n",
      "[CV] END max_depth=60, max_features=sqrt, min_samples_leaf=4, min_samples_split=30, n_estimators=3; total time=   0.0s\n",
      "[CV] END max_depth=60, max_features=sqrt, min_samples_leaf=4, min_samples_split=30, n_estimators=3; total time=   0.0s\n",
      "[CV] END max_depth=60, max_features=sqrt, min_samples_leaf=4, min_samples_split=30, n_estimators=3; total time=   0.0s\n",
      "[CV] END max_depth=60, max_features=sqrt, min_samples_leaf=12, min_samples_split=8, n_estimators=3; total time=   0.0s\n",
      "[CV] END max_depth=60, max_features=sqrt, min_samples_leaf=12, min_samples_split=8, n_estimators=3; total time=   0.0s\n",
      "[CV] END max_depth=60, max_features=sqrt, min_samples_leaf=12, min_samples_split=8, n_estimators=3; total time=   0.0s\n",
      "[CV] END max_depth=60, max_features=sqrt, min_samples_leaf=12, min_samples_split=8, n_estimators=3; total time=   0.0s\n",
      "[CV] END max_depth=60, max_features=sqrt, min_samples_leaf=12, min_samples_split=8, n_estimators=3; total time=   0.0s\n",
      "[CV] END max_depth=90, max_features=sqrt, min_samples_leaf=12, min_samples_split=8, n_estimators=5; total time=   0.0s\n",
      "[CV] END max_depth=90, max_features=sqrt, min_samples_leaf=12, min_samples_split=8, n_estimators=5; total time=   0.0s\n",
      "[CV] END max_depth=90, max_features=sqrt, min_samples_leaf=12, min_samples_split=8, n_estimators=5; total time=   0.0s\n",
      "[CV] END max_depth=90, max_features=sqrt, min_samples_leaf=12, min_samples_split=8, n_estimators=5; total time=   0.0s\n",
      "[CV] END max_depth=90, max_features=sqrt, min_samples_leaf=12, min_samples_split=8, n_estimators=5; total time=   0.0s\n",
      "[CV] END max_depth=30, max_features=sqrt, min_samples_leaf=24, min_samples_split=6, n_estimators=2; total time=   0.0s\n",
      "[CV] END max_depth=30, max_features=sqrt, min_samples_leaf=24, min_samples_split=6, n_estimators=2; total time=   0.0s\n",
      "[CV] END max_depth=30, max_features=sqrt, min_samples_leaf=24, min_samples_split=6, n_estimators=2; total time=   0.0s\n",
      "[CV] END max_depth=30, max_features=sqrt, min_samples_leaf=24, min_samples_split=6, n_estimators=2; total time=   0.0s\n",
      "[CV] END max_depth=30, max_features=sqrt, min_samples_leaf=24, min_samples_split=6, n_estimators=2; total time=   0.0s\n",
      "[CV] END max_depth=90, max_features=sqrt, min_samples_leaf=12, min_samples_split=6, n_estimators=5; total time=   0.0s\n",
      "[CV] END max_depth=90, max_features=sqrt, min_samples_leaf=12, min_samples_split=6, n_estimators=5; total time=   0.0s\n",
      "[CV] END max_depth=90, max_features=sqrt, min_samples_leaf=12, min_samples_split=6, n_estimators=5; total time=   0.0s\n",
      "[CV] END max_depth=90, max_features=sqrt, min_samples_leaf=12, min_samples_split=6, n_estimators=5; total time=   0.0s\n",
      "[CV] END max_depth=90, max_features=sqrt, min_samples_leaf=12, min_samples_split=6, n_estimators=5; total time=   0.0s\n",
      "[CV] END max_depth=90, max_features=sqrt, min_samples_leaf=4, min_samples_split=6, n_estimators=4; total time=   0.0s\n",
      "[CV] END max_depth=90, max_features=sqrt, min_samples_leaf=4, min_samples_split=6, n_estimators=4; total time=   0.0s\n",
      "[CV] END max_depth=90, max_features=sqrt, min_samples_leaf=4, min_samples_split=6, n_estimators=4; total time=   0.0s\n",
      "[CV] END max_depth=90, max_features=sqrt, min_samples_leaf=4, min_samples_split=6, n_estimators=4; total time=   0.0s\n",
      "[CV] END max_depth=90, max_features=sqrt, min_samples_leaf=4, min_samples_split=6, n_estimators=4; total time=   0.0s\n",
      "[CV] END max_depth=60, max_features=sqrt, min_samples_leaf=4, min_samples_split=6, n_estimators=1; total time=   0.0s\n",
      "[CV] END max_depth=60, max_features=sqrt, min_samples_leaf=4, min_samples_split=6, n_estimators=1; total time=   0.0s\n",
      "[CV] END max_depth=60, max_features=sqrt, min_samples_leaf=4, min_samples_split=6, n_estimators=1; total time=   0.0s\n",
      "[CV] END max_depth=60, max_features=sqrt, min_samples_leaf=4, min_samples_split=6, n_estimators=1; total time=   0.0s\n",
      "[CV] END max_depth=60, max_features=sqrt, min_samples_leaf=4, min_samples_split=6, n_estimators=1; total time=   0.0s\n",
      "[CV] END max_depth=90, max_features=sqrt, min_samples_leaf=4, min_samples_split=30, n_estimators=5; total time=   0.0s\n",
      "[CV] END max_depth=90, max_features=sqrt, min_samples_leaf=4, min_samples_split=30, n_estimators=5; total time=   0.0s\n",
      "[CV] END max_depth=90, max_features=sqrt, min_samples_leaf=4, min_samples_split=30, n_estimators=5; total time=   0.0s\n",
      "[CV] END max_depth=90, max_features=sqrt, min_samples_leaf=4, min_samples_split=30, n_estimators=5; total time=   0.0s\n",
      "[CV] END max_depth=90, max_features=sqrt, min_samples_leaf=4, min_samples_split=30, n_estimators=5; total time=   0.0s\n",
      "[CV] END max_depth=90, max_features=sqrt, min_samples_leaf=24, min_samples_split=8, n_estimators=5; total time=   0.0s\n",
      "[CV] END max_depth=90, max_features=sqrt, min_samples_leaf=24, min_samples_split=8, n_estimators=5; total time=   0.0s\n",
      "[CV] END max_depth=90, max_features=sqrt, min_samples_leaf=24, min_samples_split=8, n_estimators=5; total time=   0.0s\n",
      "[CV] END max_depth=90, max_features=sqrt, min_samples_leaf=24, min_samples_split=8, n_estimators=5; total time=   0.0s\n",
      "[CV] END max_depth=90, max_features=sqrt, min_samples_leaf=24, min_samples_split=8, n_estimators=5; total time=   0.0s\n",
      "[CV] END max_depth=120, max_features=sqrt, min_samples_leaf=24, min_samples_split=30, n_estimators=4; total time=   0.0s\n",
      "[CV] END max_depth=120, max_features=sqrt, min_samples_leaf=24, min_samples_split=30, n_estimators=4; total time=   0.0s\n",
      "[CV] END max_depth=120, max_features=sqrt, min_samples_leaf=24, min_samples_split=30, n_estimators=4; total time=   0.0s\n",
      "[CV] END max_depth=120, max_features=sqrt, min_samples_leaf=24, min_samples_split=30, n_estimators=4; total time=   0.0s\n",
      "[CV] END max_depth=120, max_features=sqrt, min_samples_leaf=24, min_samples_split=30, n_estimators=4; total time=   0.0s\n",
      "[CV] END max_depth=120, max_features=sqrt, min_samples_leaf=24, min_samples_split=15, n_estimators=5; total time=   0.0s\n",
      "[CV] END max_depth=120, max_features=sqrt, min_samples_leaf=24, min_samples_split=15, n_estimators=5; total time=   0.0s\n",
      "[CV] END max_depth=120, max_features=sqrt, min_samples_leaf=24, min_samples_split=15, n_estimators=5; total time=   0.0s\n",
      "[CV] END max_depth=120, max_features=sqrt, min_samples_leaf=24, min_samples_split=15, n_estimators=5; total time=   0.0s\n",
      "[CV] END max_depth=120, max_features=sqrt, min_samples_leaf=24, min_samples_split=15, n_estimators=5; total time=   0.0s\n",
      "[CV] END max_depth=90, max_features=sqrt, min_samples_leaf=4, min_samples_split=30, n_estimators=3; total time=   0.0s\n",
      "[CV] END max_depth=90, max_features=sqrt, min_samples_leaf=4, min_samples_split=30, n_estimators=3; total time=   0.0s\n",
      "[CV] END max_depth=90, max_features=sqrt, min_samples_leaf=4, min_samples_split=30, n_estimators=3; total time=   0.0s\n",
      "[CV] END max_depth=90, max_features=sqrt, min_samples_leaf=4, min_samples_split=30, n_estimators=3; total time=   0.0s\n",
      "[CV] END max_depth=90, max_features=sqrt, min_samples_leaf=4, min_samples_split=30, n_estimators=3; total time=   0.0s\n",
      "[CV] END max_depth=None, max_features=sqrt, min_samples_leaf=24, min_samples_split=6, n_estimators=2; total time=   0.0s\n",
      "[CV] END max_depth=None, max_features=sqrt, min_samples_leaf=24, min_samples_split=6, n_estimators=2; total time=   0.0s\n",
      "[CV] END max_depth=None, max_features=sqrt, min_samples_leaf=24, min_samples_split=6, n_estimators=2; total time=   0.0s\n",
      "[CV] END max_depth=None, max_features=sqrt, min_samples_leaf=24, min_samples_split=6, n_estimators=2; total time=   0.0s\n",
      "[CV] END max_depth=None, max_features=sqrt, min_samples_leaf=24, min_samples_split=6, n_estimators=2; total time=   0.0s\n",
      "[CV] END max_depth=90, max_features=sqrt, min_samples_leaf=12, min_samples_split=15, n_estimators=1; total time=   0.0s\n",
      "[CV] END max_depth=90, max_features=sqrt, min_samples_leaf=12, min_samples_split=15, n_estimators=1; total time=   0.0s\n",
      "[CV] END max_depth=90, max_features=sqrt, min_samples_leaf=12, min_samples_split=15, n_estimators=1; total time=   0.0s\n",
      "[CV] END max_depth=90, max_features=sqrt, min_samples_leaf=12, min_samples_split=15, n_estimators=1; total time=   0.0s\n",
      "[CV] END max_depth=90, max_features=sqrt, min_samples_leaf=12, min_samples_split=15, n_estimators=1; total time=   0.0s\n",
      "[CV] END max_depth=120, max_features=sqrt, min_samples_leaf=12, min_samples_split=8, n_estimators=4; total time=   0.0s\n",
      "[CV] END max_depth=120, max_features=sqrt, min_samples_leaf=12, min_samples_split=8, n_estimators=4; total time=   0.0s\n"
     ]
    },
    {
     "name": "stdout",
     "output_type": "stream",
     "text": [
      "[CV] END max_depth=120, max_features=sqrt, min_samples_leaf=12, min_samples_split=8, n_estimators=4; total time=   0.0s\n",
      "[CV] END max_depth=120, max_features=sqrt, min_samples_leaf=12, min_samples_split=8, n_estimators=4; total time=   0.0s\n",
      "[CV] END max_depth=120, max_features=sqrt, min_samples_leaf=12, min_samples_split=8, n_estimators=4; total time=   0.0s\n",
      "[CV] END max_depth=30, max_features=sqrt, min_samples_leaf=24, min_samples_split=8, n_estimators=2; total time=   0.0s\n",
      "[CV] END max_depth=30, max_features=sqrt, min_samples_leaf=24, min_samples_split=8, n_estimators=2; total time=   0.0s\n",
      "[CV] END max_depth=30, max_features=sqrt, min_samples_leaf=24, min_samples_split=8, n_estimators=2; total time=   0.0s\n",
      "[CV] END max_depth=30, max_features=sqrt, min_samples_leaf=24, min_samples_split=8, n_estimators=2; total time=   0.0s\n",
      "[CV] END max_depth=30, max_features=sqrt, min_samples_leaf=24, min_samples_split=8, n_estimators=2; total time=   0.0s\n",
      "[CV] END max_depth=None, max_features=sqrt, min_samples_leaf=4, min_samples_split=15, n_estimators=1; total time=   0.0s\n",
      "[CV] END max_depth=None, max_features=sqrt, min_samples_leaf=4, min_samples_split=15, n_estimators=1; total time=   0.0s\n",
      "[CV] END max_depth=None, max_features=sqrt, min_samples_leaf=4, min_samples_split=15, n_estimators=1; total time=   0.0s\n",
      "[CV] END max_depth=None, max_features=sqrt, min_samples_leaf=4, min_samples_split=15, n_estimators=1; total time=   0.0s\n",
      "[CV] END max_depth=None, max_features=sqrt, min_samples_leaf=4, min_samples_split=15, n_estimators=1; total time=   0.0s\n",
      "[CV] END max_depth=60, max_features=sqrt, min_samples_leaf=12, min_samples_split=8, n_estimators=1; total time=   0.0s\n",
      "[CV] END max_depth=60, max_features=sqrt, min_samples_leaf=12, min_samples_split=8, n_estimators=1; total time=   0.0s\n",
      "[CV] END max_depth=60, max_features=sqrt, min_samples_leaf=12, min_samples_split=8, n_estimators=1; total time=   0.0s\n",
      "[CV] END max_depth=60, max_features=sqrt, min_samples_leaf=12, min_samples_split=8, n_estimators=1; total time=   0.0s\n",
      "[CV] END max_depth=60, max_features=sqrt, min_samples_leaf=12, min_samples_split=8, n_estimators=1; total time=   0.0s\n",
      "[CV] END max_depth=None, max_features=sqrt, min_samples_leaf=12, min_samples_split=30, n_estimators=3; total time=   0.0s\n",
      "[CV] END max_depth=None, max_features=sqrt, min_samples_leaf=12, min_samples_split=30, n_estimators=3; total time=   0.0s\n",
      "[CV] END max_depth=None, max_features=sqrt, min_samples_leaf=12, min_samples_split=30, n_estimators=3; total time=   0.0s\n",
      "[CV] END max_depth=None, max_features=sqrt, min_samples_leaf=12, min_samples_split=30, n_estimators=3; total time=   0.0s\n",
      "[CV] END max_depth=None, max_features=sqrt, min_samples_leaf=12, min_samples_split=30, n_estimators=3; total time=   0.0s\n",
      "[CV] END max_depth=90, max_features=sqrt, min_samples_leaf=4, min_samples_split=8, n_estimators=2; total time=   0.0s\n",
      "[CV] END max_depth=90, max_features=sqrt, min_samples_leaf=4, min_samples_split=8, n_estimators=2; total time=   0.0s\n",
      "[CV] END max_depth=90, max_features=sqrt, min_samples_leaf=4, min_samples_split=8, n_estimators=2; total time=   0.0s\n",
      "[CV] END max_depth=90, max_features=sqrt, min_samples_leaf=4, min_samples_split=8, n_estimators=2; total time=   0.0s\n",
      "[CV] END max_depth=90, max_features=sqrt, min_samples_leaf=4, min_samples_split=8, n_estimators=2; total time=   0.0s\n",
      "[CV] END max_depth=60, max_features=sqrt, min_samples_leaf=12, min_samples_split=8, n_estimators=4; total time=   0.0s\n",
      "[CV] END max_depth=60, max_features=sqrt, min_samples_leaf=12, min_samples_split=8, n_estimators=4; total time=   0.0s\n",
      "[CV] END max_depth=60, max_features=sqrt, min_samples_leaf=12, min_samples_split=8, n_estimators=4; total time=   0.0s\n",
      "[CV] END max_depth=60, max_features=sqrt, min_samples_leaf=12, min_samples_split=8, n_estimators=4; total time=   0.0s\n",
      "[CV] END max_depth=60, max_features=sqrt, min_samples_leaf=12, min_samples_split=8, n_estimators=4; total time=   0.0s\n",
      "[CV] END max_depth=90, max_features=sqrt, min_samples_leaf=4, min_samples_split=6, n_estimators=2; total time=   0.0s\n",
      "[CV] END max_depth=90, max_features=sqrt, min_samples_leaf=4, min_samples_split=6, n_estimators=2; total time=   0.0s\n",
      "[CV] END max_depth=90, max_features=sqrt, min_samples_leaf=4, min_samples_split=6, n_estimators=2; total time=   0.0s\n",
      "[CV] END max_depth=90, max_features=sqrt, min_samples_leaf=4, min_samples_split=6, n_estimators=2; total time=   0.0s\n",
      "[CV] END max_depth=90, max_features=sqrt, min_samples_leaf=4, min_samples_split=6, n_estimators=2; total time=   0.0s\n",
      "[CV] END max_depth=None, max_features=sqrt, min_samples_leaf=24, min_samples_split=6, n_estimators=5; total time=   0.0s\n",
      "[CV] END max_depth=None, max_features=sqrt, min_samples_leaf=24, min_samples_split=6, n_estimators=5; total time=   0.0s\n",
      "[CV] END max_depth=None, max_features=sqrt, min_samples_leaf=24, min_samples_split=6, n_estimators=5; total time=   0.0s\n",
      "[CV] END max_depth=None, max_features=sqrt, min_samples_leaf=24, min_samples_split=6, n_estimators=5; total time=   0.0s\n",
      "[CV] END max_depth=None, max_features=sqrt, min_samples_leaf=24, min_samples_split=6, n_estimators=5; total time=   0.0s\n",
      "[CV] END max_depth=30, max_features=sqrt, min_samples_leaf=12, min_samples_split=8, n_estimators=3; total time=   0.0s\n",
      "[CV] END max_depth=30, max_features=sqrt, min_samples_leaf=12, min_samples_split=8, n_estimators=3; total time=   0.0s\n",
      "[CV] END max_depth=30, max_features=sqrt, min_samples_leaf=12, min_samples_split=8, n_estimators=3; total time=   0.0s\n",
      "[CV] END max_depth=30, max_features=sqrt, min_samples_leaf=12, min_samples_split=8, n_estimators=3; total time=   0.0s\n",
      "[CV] END max_depth=30, max_features=sqrt, min_samples_leaf=12, min_samples_split=8, n_estimators=3; total time=   0.0s\n",
      "[CV] END max_depth=None, max_features=sqrt, min_samples_leaf=24, min_samples_split=30, n_estimators=1; total time=   0.0s\n",
      "[CV] END max_depth=None, max_features=sqrt, min_samples_leaf=24, min_samples_split=30, n_estimators=1; total time=   0.0s\n",
      "[CV] END max_depth=None, max_features=sqrt, min_samples_leaf=24, min_samples_split=30, n_estimators=1; total time=   0.0s\n",
      "[CV] END max_depth=None, max_features=sqrt, min_samples_leaf=24, min_samples_split=30, n_estimators=1; total time=   0.0s\n",
      "[CV] END max_depth=None, max_features=sqrt, min_samples_leaf=24, min_samples_split=30, n_estimators=1; total time=   0.0s\n",
      "[CV] END max_depth=30, max_features=sqrt, min_samples_leaf=12, min_samples_split=6, n_estimators=3; total time=   0.0s\n",
      "[CV] END max_depth=30, max_features=sqrt, min_samples_leaf=12, min_samples_split=6, n_estimators=3; total time=   0.0s\n",
      "[CV] END max_depth=30, max_features=sqrt, min_samples_leaf=12, min_samples_split=6, n_estimators=3; total time=   0.0s\n",
      "[CV] END max_depth=30, max_features=sqrt, min_samples_leaf=12, min_samples_split=6, n_estimators=3; total time=   0.0s\n",
      "[CV] END max_depth=30, max_features=sqrt, min_samples_leaf=12, min_samples_split=6, n_estimators=3; total time=   0.0s\n",
      "[CV] END max_depth=30, max_features=sqrt, min_samples_leaf=24, min_samples_split=15, n_estimators=1; total time=   0.0s\n",
      "[CV] END max_depth=30, max_features=sqrt, min_samples_leaf=24, min_samples_split=15, n_estimators=1; total time=   0.0s\n",
      "[CV] END max_depth=30, max_features=sqrt, min_samples_leaf=24, min_samples_split=15, n_estimators=1; total time=   0.0s\n",
      "[CV] END max_depth=30, max_features=sqrt, min_samples_leaf=24, min_samples_split=15, n_estimators=1; total time=   0.0s\n",
      "[CV] END max_depth=30, max_features=sqrt, min_samples_leaf=24, min_samples_split=15, n_estimators=1; total time=   0.0s\n",
      "[CV] END max_depth=120, max_features=sqrt, min_samples_leaf=24, min_samples_split=8, n_estimators=5; total time=   0.0s\n",
      "[CV] END max_depth=120, max_features=sqrt, min_samples_leaf=24, min_samples_split=8, n_estimators=5; total time=   0.0s\n",
      "[CV] END max_depth=120, max_features=sqrt, min_samples_leaf=24, min_samples_split=8, n_estimators=5; total time=   0.0s\n",
      "[CV] END max_depth=120, max_features=sqrt, min_samples_leaf=24, min_samples_split=8, n_estimators=5; total time=   0.0s\n",
      "[CV] END max_depth=120, max_features=sqrt, min_samples_leaf=24, min_samples_split=8, n_estimators=5; total time=   0.0s\n",
      "[CV] END max_depth=90, max_features=sqrt, min_samples_leaf=4, min_samples_split=15, n_estimators=5; total time=   0.0s\n",
      "[CV] END max_depth=90, max_features=sqrt, min_samples_leaf=4, min_samples_split=15, n_estimators=5; total time=   0.0s\n",
      "[CV] END max_depth=90, max_features=sqrt, min_samples_leaf=4, min_samples_split=15, n_estimators=5; total time=   0.0s\n"
     ]
    },
    {
     "name": "stdout",
     "output_type": "stream",
     "text": [
      "[CV] END max_depth=90, max_features=sqrt, min_samples_leaf=4, min_samples_split=15, n_estimators=5; total time=   0.0s\n",
      "[CV] END max_depth=90, max_features=sqrt, min_samples_leaf=4, min_samples_split=15, n_estimators=5; total time=   0.0s\n",
      "[CV] END max_depth=90, max_features=sqrt, min_samples_leaf=12, min_samples_split=6, n_estimators=3; total time=   0.0s\n",
      "[CV] END max_depth=90, max_features=sqrt, min_samples_leaf=12, min_samples_split=6, n_estimators=3; total time=   0.0s\n",
      "[CV] END max_depth=90, max_features=sqrt, min_samples_leaf=12, min_samples_split=6, n_estimators=3; total time=   0.0s\n",
      "[CV] END max_depth=90, max_features=sqrt, min_samples_leaf=12, min_samples_split=6, n_estimators=3; total time=   0.0s\n",
      "[CV] END max_depth=90, max_features=sqrt, min_samples_leaf=12, min_samples_split=6, n_estimators=3; total time=   0.0s\n",
      "[CV] END max_depth=60, max_features=sqrt, min_samples_leaf=4, min_samples_split=15, n_estimators=2; total time=   0.0s\n",
      "[CV] END max_depth=60, max_features=sqrt, min_samples_leaf=4, min_samples_split=15, n_estimators=2; total time=   0.0s\n",
      "[CV] END max_depth=60, max_features=sqrt, min_samples_leaf=4, min_samples_split=15, n_estimators=2; total time=   0.0s\n",
      "[CV] END max_depth=60, max_features=sqrt, min_samples_leaf=4, min_samples_split=15, n_estimators=2; total time=   0.0s\n",
      "[CV] END max_depth=60, max_features=sqrt, min_samples_leaf=4, min_samples_split=15, n_estimators=2; total time=   0.0s\n",
      "[CV] END max_depth=90, max_features=sqrt, min_samples_leaf=12, min_samples_split=8, n_estimators=1; total time=   0.0s\n",
      "[CV] END max_depth=90, max_features=sqrt, min_samples_leaf=12, min_samples_split=8, n_estimators=1; total time=   0.0s\n",
      "[CV] END max_depth=90, max_features=sqrt, min_samples_leaf=12, min_samples_split=8, n_estimators=1; total time=   0.0s\n",
      "[CV] END max_depth=90, max_features=sqrt, min_samples_leaf=12, min_samples_split=8, n_estimators=1; total time=   0.0s\n",
      "[CV] END max_depth=90, max_features=sqrt, min_samples_leaf=12, min_samples_split=8, n_estimators=1; total time=   0.0s\n",
      "[CV] END max_depth=None, max_features=sqrt, min_samples_leaf=12, min_samples_split=15, n_estimators=1; total time=   0.0s\n",
      "[CV] END max_depth=None, max_features=sqrt, min_samples_leaf=12, min_samples_split=15, n_estimators=1; total time=   0.0s\n",
      "[CV] END max_depth=None, max_features=sqrt, min_samples_leaf=12, min_samples_split=15, n_estimators=1; total time=   0.0s\n",
      "[CV] END max_depth=None, max_features=sqrt, min_samples_leaf=12, min_samples_split=15, n_estimators=1; total time=   0.0s\n",
      "[CV] END max_depth=None, max_features=sqrt, min_samples_leaf=12, min_samples_split=15, n_estimators=1; total time=   0.0s\n",
      "[CV] END max_depth=None, max_features=sqrt, min_samples_leaf=4, min_samples_split=15, n_estimators=4; total time=   0.0s\n",
      "[CV] END max_depth=None, max_features=sqrt, min_samples_leaf=4, min_samples_split=15, n_estimators=4; total time=   0.0s\n",
      "[CV] END max_depth=None, max_features=sqrt, min_samples_leaf=4, min_samples_split=15, n_estimators=4; total time=   0.0s\n",
      "[CV] END max_depth=None, max_features=sqrt, min_samples_leaf=4, min_samples_split=15, n_estimators=4; total time=   0.0s\n",
      "[CV] END max_depth=None, max_features=sqrt, min_samples_leaf=4, min_samples_split=15, n_estimators=4; total time=   0.0s\n",
      "[CV] END max_depth=None, max_features=sqrt, min_samples_leaf=12, min_samples_split=8, n_estimators=3; total time=   0.0s\n",
      "[CV] END max_depth=None, max_features=sqrt, min_samples_leaf=12, min_samples_split=8, n_estimators=3; total time=   0.0s\n",
      "[CV] END max_depth=None, max_features=sqrt, min_samples_leaf=12, min_samples_split=8, n_estimators=3; total time=   0.0s\n",
      "[CV] END max_depth=None, max_features=sqrt, min_samples_leaf=12, min_samples_split=8, n_estimators=3; total time=   0.0s\n",
      "[CV] END max_depth=None, max_features=sqrt, min_samples_leaf=12, min_samples_split=8, n_estimators=3; total time=   0.0s\n",
      "[CV] END max_depth=60, max_features=sqrt, min_samples_leaf=24, min_samples_split=6, n_estimators=2; total time=   0.0s\n",
      "[CV] END max_depth=60, max_features=sqrt, min_samples_leaf=24, min_samples_split=6, n_estimators=2; total time=   0.0s\n",
      "[CV] END max_depth=60, max_features=sqrt, min_samples_leaf=24, min_samples_split=6, n_estimators=2; total time=   0.0s\n",
      "[CV] END max_depth=60, max_features=sqrt, min_samples_leaf=24, min_samples_split=6, n_estimators=2; total time=   0.0s\n",
      "[CV] END max_depth=60, max_features=sqrt, min_samples_leaf=24, min_samples_split=6, n_estimators=2; total time=   0.0s\n",
      "[CV] END max_depth=None, max_features=sqrt, min_samples_leaf=4, min_samples_split=8, n_estimators=4; total time=   0.0s\n",
      "[CV] END max_depth=None, max_features=sqrt, min_samples_leaf=4, min_samples_split=8, n_estimators=4; total time=   0.0s\n",
      "[CV] END max_depth=None, max_features=sqrt, min_samples_leaf=4, min_samples_split=8, n_estimators=4; total time=   0.0s\n",
      "[CV] END max_depth=None, max_features=sqrt, min_samples_leaf=4, min_samples_split=8, n_estimators=4; total time=   0.0s\n",
      "[CV] END max_depth=None, max_features=sqrt, min_samples_leaf=4, min_samples_split=8, n_estimators=4; total time=   0.0s\n",
      "[CV] END max_depth=90, max_features=sqrt, min_samples_leaf=12, min_samples_split=15, n_estimators=2; total time=   0.0s\n",
      "[CV] END max_depth=90, max_features=sqrt, min_samples_leaf=12, min_samples_split=15, n_estimators=2; total time=   0.0s\n",
      "[CV] END max_depth=90, max_features=sqrt, min_samples_leaf=12, min_samples_split=15, n_estimators=2; total time=   0.0s\n",
      "[CV] END max_depth=90, max_features=sqrt, min_samples_leaf=12, min_samples_split=15, n_estimators=2; total time=   0.0s\n",
      "[CV] END max_depth=90, max_features=sqrt, min_samples_leaf=12, min_samples_split=15, n_estimators=2; total time=   0.0s\n",
      "[CV] END max_depth=90, max_features=sqrt, min_samples_leaf=24, min_samples_split=15, n_estimators=1; total time=   0.0s\n",
      "[CV] END max_depth=90, max_features=sqrt, min_samples_leaf=24, min_samples_split=15, n_estimators=1; total time=   0.0s\n",
      "[CV] END max_depth=90, max_features=sqrt, min_samples_leaf=24, min_samples_split=15, n_estimators=1; total time=   0.0s\n",
      "[CV] END max_depth=90, max_features=sqrt, min_samples_leaf=24, min_samples_split=15, n_estimators=1; total time=   0.0s\n",
      "[CV] END max_depth=90, max_features=sqrt, min_samples_leaf=24, min_samples_split=15, n_estimators=1; total time=   0.0s\n",
      "[CV] END max_depth=None, max_features=sqrt, min_samples_leaf=24, min_samples_split=6, n_estimators=1; total time=   0.0s\n",
      "[CV] END max_depth=None, max_features=sqrt, min_samples_leaf=24, min_samples_split=6, n_estimators=1; total time=   0.0s\n",
      "[CV] END max_depth=None, max_features=sqrt, min_samples_leaf=24, min_samples_split=6, n_estimators=1; total time=   0.0s\n",
      "[CV] END max_depth=None, max_features=sqrt, min_samples_leaf=24, min_samples_split=6, n_estimators=1; total time=   0.0s\n",
      "[CV] END max_depth=None, max_features=sqrt, min_samples_leaf=24, min_samples_split=6, n_estimators=1; total time=   0.0s\n",
      "[CV] END max_depth=30, max_features=sqrt, min_samples_leaf=4, min_samples_split=15, n_estimators=1; total time=   0.0s\n",
      "[CV] END max_depth=30, max_features=sqrt, min_samples_leaf=4, min_samples_split=15, n_estimators=1; total time=   0.0s\n",
      "[CV] END max_depth=30, max_features=sqrt, min_samples_leaf=4, min_samples_split=15, n_estimators=1; total time=   0.0s\n",
      "[CV] END max_depth=30, max_features=sqrt, min_samples_leaf=4, min_samples_split=15, n_estimators=1; total time=   0.0s\n",
      "[CV] END max_depth=30, max_features=sqrt, min_samples_leaf=4, min_samples_split=15, n_estimators=1; total time=   0.0s\n",
      "[CV] END max_depth=120, max_features=sqrt, min_samples_leaf=12, min_samples_split=6, n_estimators=1; total time=   0.0s\n",
      "[CV] END max_depth=120, max_features=sqrt, min_samples_leaf=12, min_samples_split=6, n_estimators=1; total time=   0.0s\n",
      "[CV] END max_depth=120, max_features=sqrt, min_samples_leaf=12, min_samples_split=6, n_estimators=1; total time=   0.0s\n",
      "[CV] END max_depth=120, max_features=sqrt, min_samples_leaf=12, min_samples_split=6, n_estimators=1; total time=   0.0s\n",
      "[CV] END max_depth=120, max_features=sqrt, min_samples_leaf=12, min_samples_split=6, n_estimators=1; total time=   0.0s\n",
      "[CV] END max_depth=30, max_features=sqrt, min_samples_leaf=4, min_samples_split=30, n_estimators=2; total time=   0.0s\n",
      "[CV] END max_depth=30, max_features=sqrt, min_samples_leaf=4, min_samples_split=30, n_estimators=2; total time=   0.0s\n",
      "[CV] END max_depth=30, max_features=sqrt, min_samples_leaf=4, min_samples_split=30, n_estimators=2; total time=   0.0s\n",
      "[CV] END max_depth=30, max_features=sqrt, min_samples_leaf=4, min_samples_split=30, n_estimators=2; total time=   0.0s\n",
      "[CV] END max_depth=30, max_features=sqrt, min_samples_leaf=4, min_samples_split=30, n_estimators=2; total time=   0.0s\n",
      "[CV] END max_depth=120, max_features=sqrt, min_samples_leaf=12, min_samples_split=30, n_estimators=4; total time=   0.0s\n",
      "[CV] END max_depth=120, max_features=sqrt, min_samples_leaf=12, min_samples_split=30, n_estimators=4; total time=   0.0s\n",
      "[CV] END max_depth=120, max_features=sqrt, min_samples_leaf=12, min_samples_split=30, n_estimators=4; total time=   0.0s\n",
      "[CV] END max_depth=120, max_features=sqrt, min_samples_leaf=12, min_samples_split=30, n_estimators=4; total time=   0.0s\n",
      "[CV] END max_depth=120, max_features=sqrt, min_samples_leaf=12, min_samples_split=30, n_estimators=4; total time=   0.0s\n",
      "[CV] END max_depth=None, max_features=sqrt, min_samples_leaf=24, min_samples_split=30, n_estimators=4; total time=   0.0s\n",
      "[CV] END max_depth=None, max_features=sqrt, min_samples_leaf=24, min_samples_split=30, n_estimators=4; total time=   0.0s\n",
      "[CV] END max_depth=None, max_features=sqrt, min_samples_leaf=24, min_samples_split=30, n_estimators=4; total time=   0.0s\n",
      "[CV] END max_depth=None, max_features=sqrt, min_samples_leaf=24, min_samples_split=30, n_estimators=4; total time=   0.0s\n",
      "[CV] END max_depth=None, max_features=sqrt, min_samples_leaf=24, min_samples_split=30, n_estimators=4; total time=   0.0s\n",
      "[CV] END max_depth=60, max_features=sqrt, min_samples_leaf=4, min_samples_split=15, n_estimators=4; total time=   0.0s\n",
      "[CV] END max_depth=60, max_features=sqrt, min_samples_leaf=4, min_samples_split=15, n_estimators=4; total time=   0.0s\n"
     ]
    },
    {
     "name": "stdout",
     "output_type": "stream",
     "text": [
      "[CV] END max_depth=60, max_features=sqrt, min_samples_leaf=4, min_samples_split=15, n_estimators=4; total time=   0.0s\n",
      "[CV] END max_depth=60, max_features=sqrt, min_samples_leaf=4, min_samples_split=15, n_estimators=4; total time=   0.0s\n",
      "[CV] END max_depth=60, max_features=sqrt, min_samples_leaf=4, min_samples_split=15, n_estimators=4; total time=   0.0s\n"
     ]
    }
   ],
   "source": [
    "from sklearn.model_selection import RandomizedSearchCV\n",
    "\n",
    "grid = {\"n_estimators\": [1, 2, 3, 4, 5],\n",
    "        \"max_depth\": [None, 30, 60, 90, 120],\n",
    "        \"max_features\": [\"sqrt\"],\n",
    "        \"min_samples_split\": [6, 8, 15, 30],\n",
    "        \"min_samples_leaf\": [4, 12, 24]}\n",
    "\n",
    "np.random.seed(42)\n",
    "\n",
    "# split into X & y\n",
    "X = heart_disease_shuffled.drop(\"target\", axis=1)\n",
    "y = heart_disease_shuffled[\"target\"]\n",
    "\n",
    "# split into train and test sets\n",
    "X_train, X_test, y_train, y_test = train_test_split(X, y, test_size=0.2)\n",
    "\n",
    "# Instatiate RandomForestClassifier\n",
    "# n_jobs -> how many cpu-core will use for operation.\n",
    "clf = RandomForestClassifier(n_jobs=1)\n",
    "\n",
    "# setup RandomizeSearchCV\n",
    "rs_clf = RandomizedSearchCV(estimator=clf,\n",
    "                            param_distributions=grid,\n",
    "                            n_iter=60, # number of models to try\n",
    "                            cv=5, # 5-fold cross-validation\n",
    "                            verbose=2) # print out results\n",
    "\n",
    "# Fit the RandomizedSearchCV version of clf\n",
    "rs_clf.fit(X_train, y_train);"
   ]
  },
  {
   "cell_type": "code",
   "execution_count": 139,
   "id": "1c0c1ea6",
   "metadata": {},
   "outputs": [
    {
     "data": {
      "text/plain": [
       "{'n_estimators': 5,\n",
       " 'min_samples_split': 6,\n",
       " 'min_samples_leaf': 12,\n",
       " 'max_features': 'sqrt',\n",
       " 'max_depth': 90}"
      ]
     },
     "execution_count": 139,
     "metadata": {},
     "output_type": "execute_result"
    }
   ],
   "source": [
    "# found best hyperparameters using randomsearchCV\n",
    "rs_clf.best_params_"
   ]
  },
  {
   "cell_type": "code",
   "execution_count": 140,
   "id": "4ff86fad",
   "metadata": {},
   "outputs": [
    {
     "name": "stdout",
     "output_type": "stream",
     "text": [
      "Acc: 81.97%\n",
      "Precision: 0.79\n",
      "Recall: 0.82\n",
      "F1 score: 0.81\n"
     ]
    }
   ],
   "source": [
    "# make predictions with the best hyperparameters\n",
    "rs_y_preds = rs_clf.predict(X_test)\n",
    "\n",
    "# evaluate the predictions\n",
    "rs_metrics = evaluate_preds(y_test, rs_y_preds)"
   ]
  },
  {
   "cell_type": "code",
   "execution_count": 141,
   "id": "fa427827",
   "metadata": {},
   "outputs": [
    {
     "name": "stdout",
     "output_type": "stream",
     "text": [
      "{'accuracy': 0.82, 'precision': 0.81, 'recall': 0.88, 'f1': 0.85} {'accuracy': 0.84, 'precision': 0.85, 'recall': 0.88, 'f1': 0.86} {'accuracy': 0.87, 'precision': 0.91, 'recall': 0.84, 'f1': 0.87}\n"
     ]
    }
   ],
   "source": [
    "# check previous models\n",
    "print(baseline_metrics, clf_2_metrics, clf_3_metrics)"
   ]
  },
  {
   "cell_type": "markdown",
   "id": "81dc45e7",
   "metadata": {},
   "source": [
    "### Tuning Hyperparameters 3\n",
    "\n",
    "**Exhaustively with GridSearchCV**\n",
    "> The main difference between `GridSearchCV` and `RandomizedSearchCV` is `GridSearchCV` searches across a grid of hyperparamters exhaustively, where as, `RandomizedSearchCV` searches across a grid of hyperparameters randomly (stopping after `n_iter` combinations).\n",
    "\n",
    "`n_estimators` higher number of estimators will spent more time"
   ]
  },
  {
   "cell_type": "code",
   "execution_count": 142,
   "id": "fbb80b98",
   "metadata": {},
   "outputs": [],
   "source": [
    "# Another hyperparameter grid similar to rs_clf.best_params_\n",
    "grid_2 = {'n_estimators': [15],\n",
    "          'max_depth': [None, 30, 60, 90, 200, 500, 1200],\n",
    "          'max_features': ['sqrt'],\n",
    "          'min_samples_split': [2, 4, 6, 8],\n",
    "          'min_samples_leaf': [4, 8, 12, 16, 20]} "
   ]
  },
  {
   "cell_type": "code",
   "execution_count": 143,
   "id": "f4b88a49",
   "metadata": {
    "scrolled": true
   },
   "outputs": [
    {
     "name": "stdout",
     "output_type": "stream",
     "text": [
      "Fitting 5 folds for each of 140 candidates, totalling 700 fits\n",
      "[CV] END max_depth=None, max_features=sqrt, min_samples_leaf=4, min_samples_split=2, n_estimators=15; total time=   0.0s\n",
      "[CV] END max_depth=None, max_features=sqrt, min_samples_leaf=4, min_samples_split=2, n_estimators=15; total time=   0.0s\n",
      "[CV] END max_depth=None, max_features=sqrt, min_samples_leaf=4, min_samples_split=2, n_estimators=15; total time=   0.0s\n",
      "[CV] END max_depth=None, max_features=sqrt, min_samples_leaf=4, min_samples_split=2, n_estimators=15; total time=   0.0s\n",
      "[CV] END max_depth=None, max_features=sqrt, min_samples_leaf=4, min_samples_split=2, n_estimators=15; total time=   0.0s\n",
      "[CV] END max_depth=None, max_features=sqrt, min_samples_leaf=4, min_samples_split=4, n_estimators=15; total time=   0.0s\n",
      "[CV] END max_depth=None, max_features=sqrt, min_samples_leaf=4, min_samples_split=4, n_estimators=15; total time=   0.0s\n",
      "[CV] END max_depth=None, max_features=sqrt, min_samples_leaf=4, min_samples_split=4, n_estimators=15; total time=   0.0s\n",
      "[CV] END max_depth=None, max_features=sqrt, min_samples_leaf=4, min_samples_split=4, n_estimators=15; total time=   0.0s\n",
      "[CV] END max_depth=None, max_features=sqrt, min_samples_leaf=4, min_samples_split=4, n_estimators=15; total time=   0.0s\n",
      "[CV] END max_depth=None, max_features=sqrt, min_samples_leaf=4, min_samples_split=6, n_estimators=15; total time=   0.0s\n",
      "[CV] END max_depth=None, max_features=sqrt, min_samples_leaf=4, min_samples_split=6, n_estimators=15; total time=   0.0s\n",
      "[CV] END max_depth=None, max_features=sqrt, min_samples_leaf=4, min_samples_split=6, n_estimators=15; total time=   0.0s\n",
      "[CV] END max_depth=None, max_features=sqrt, min_samples_leaf=4, min_samples_split=6, n_estimators=15; total time=   0.0s\n",
      "[CV] END max_depth=None, max_features=sqrt, min_samples_leaf=4, min_samples_split=6, n_estimators=15; total time=   0.0s\n",
      "[CV] END max_depth=None, max_features=sqrt, min_samples_leaf=4, min_samples_split=8, n_estimators=15; total time=   0.0s\n",
      "[CV] END max_depth=None, max_features=sqrt, min_samples_leaf=4, min_samples_split=8, n_estimators=15; total time=   0.0s\n",
      "[CV] END max_depth=None, max_features=sqrt, min_samples_leaf=4, min_samples_split=8, n_estimators=15; total time=   0.0s\n",
      "[CV] END max_depth=None, max_features=sqrt, min_samples_leaf=4, min_samples_split=8, n_estimators=15; total time=   0.0s\n",
      "[CV] END max_depth=None, max_features=sqrt, min_samples_leaf=4, min_samples_split=8, n_estimators=15; total time=   0.0s\n",
      "[CV] END max_depth=None, max_features=sqrt, min_samples_leaf=8, min_samples_split=2, n_estimators=15; total time=   0.0s\n",
      "[CV] END max_depth=None, max_features=sqrt, min_samples_leaf=8, min_samples_split=2, n_estimators=15; total time=   0.0s\n",
      "[CV] END max_depth=None, max_features=sqrt, min_samples_leaf=8, min_samples_split=2, n_estimators=15; total time=   0.0s\n",
      "[CV] END max_depth=None, max_features=sqrt, min_samples_leaf=8, min_samples_split=2, n_estimators=15; total time=   0.0s\n",
      "[CV] END max_depth=None, max_features=sqrt, min_samples_leaf=8, min_samples_split=2, n_estimators=15; total time=   0.0s\n",
      "[CV] END max_depth=None, max_features=sqrt, min_samples_leaf=8, min_samples_split=4, n_estimators=15; total time=   0.0s\n",
      "[CV] END max_depth=None, max_features=sqrt, min_samples_leaf=8, min_samples_split=4, n_estimators=15; total time=   0.0s\n",
      "[CV] END max_depth=None, max_features=sqrt, min_samples_leaf=8, min_samples_split=4, n_estimators=15; total time=   0.0s\n",
      "[CV] END max_depth=None, max_features=sqrt, min_samples_leaf=8, min_samples_split=4, n_estimators=15; total time=   0.0s\n",
      "[CV] END max_depth=None, max_features=sqrt, min_samples_leaf=8, min_samples_split=4, n_estimators=15; total time=   0.0s\n",
      "[CV] END max_depth=None, max_features=sqrt, min_samples_leaf=8, min_samples_split=6, n_estimators=15; total time=   0.0s\n",
      "[CV] END max_depth=None, max_features=sqrt, min_samples_leaf=8, min_samples_split=6, n_estimators=15; total time=   0.0s\n",
      "[CV] END max_depth=None, max_features=sqrt, min_samples_leaf=8, min_samples_split=6, n_estimators=15; total time=   0.0s\n",
      "[CV] END max_depth=None, max_features=sqrt, min_samples_leaf=8, min_samples_split=6, n_estimators=15; total time=   0.0s\n",
      "[CV] END max_depth=None, max_features=sqrt, min_samples_leaf=8, min_samples_split=6, n_estimators=15; total time=   0.0s\n",
      "[CV] END max_depth=None, max_features=sqrt, min_samples_leaf=8, min_samples_split=8, n_estimators=15; total time=   0.0s\n",
      "[CV] END max_depth=None, max_features=sqrt, min_samples_leaf=8, min_samples_split=8, n_estimators=15; total time=   0.0s\n",
      "[CV] END max_depth=None, max_features=sqrt, min_samples_leaf=8, min_samples_split=8, n_estimators=15; total time=   0.0s\n",
      "[CV] END max_depth=None, max_features=sqrt, min_samples_leaf=8, min_samples_split=8, n_estimators=15; total time=   0.0s\n",
      "[CV] END max_depth=None, max_features=sqrt, min_samples_leaf=8, min_samples_split=8, n_estimators=15; total time=   0.0s\n",
      "[CV] END max_depth=None, max_features=sqrt, min_samples_leaf=12, min_samples_split=2, n_estimators=15; total time=   0.0s\n",
      "[CV] END max_depth=None, max_features=sqrt, min_samples_leaf=12, min_samples_split=2, n_estimators=15; total time=   0.0s\n",
      "[CV] END max_depth=None, max_features=sqrt, min_samples_leaf=12, min_samples_split=2, n_estimators=15; total time=   0.0s\n",
      "[CV] END max_depth=None, max_features=sqrt, min_samples_leaf=12, min_samples_split=2, n_estimators=15; total time=   0.0s\n",
      "[CV] END max_depth=None, max_features=sqrt, min_samples_leaf=12, min_samples_split=2, n_estimators=15; total time=   0.0s\n",
      "[CV] END max_depth=None, max_features=sqrt, min_samples_leaf=12, min_samples_split=4, n_estimators=15; total time=   0.0s\n",
      "[CV] END max_depth=None, max_features=sqrt, min_samples_leaf=12, min_samples_split=4, n_estimators=15; total time=   0.0s\n",
      "[CV] END max_depth=None, max_features=sqrt, min_samples_leaf=12, min_samples_split=4, n_estimators=15; total time=   0.0s\n",
      "[CV] END max_depth=None, max_features=sqrt, min_samples_leaf=12, min_samples_split=4, n_estimators=15; total time=   0.0s\n",
      "[CV] END max_depth=None, max_features=sqrt, min_samples_leaf=12, min_samples_split=4, n_estimators=15; total time=   0.0s\n",
      "[CV] END max_depth=None, max_features=sqrt, min_samples_leaf=12, min_samples_split=6, n_estimators=15; total time=   0.0s\n",
      "[CV] END max_depth=None, max_features=sqrt, min_samples_leaf=12, min_samples_split=6, n_estimators=15; total time=   0.0s\n",
      "[CV] END max_depth=None, max_features=sqrt, min_samples_leaf=12, min_samples_split=6, n_estimators=15; total time=   0.0s\n",
      "[CV] END max_depth=None, max_features=sqrt, min_samples_leaf=12, min_samples_split=6, n_estimators=15; total time=   0.0s\n",
      "[CV] END max_depth=None, max_features=sqrt, min_samples_leaf=12, min_samples_split=6, n_estimators=15; total time=   0.0s\n",
      "[CV] END max_depth=None, max_features=sqrt, min_samples_leaf=12, min_samples_split=8, n_estimators=15; total time=   0.0s\n",
      "[CV] END max_depth=None, max_features=sqrt, min_samples_leaf=12, min_samples_split=8, n_estimators=15; total time=   0.0s\n",
      "[CV] END max_depth=None, max_features=sqrt, min_samples_leaf=12, min_samples_split=8, n_estimators=15; total time=   0.0s\n",
      "[CV] END max_depth=None, max_features=sqrt, min_samples_leaf=12, min_samples_split=8, n_estimators=15; total time=   0.0s\n",
      "[CV] END max_depth=None, max_features=sqrt, min_samples_leaf=12, min_samples_split=8, n_estimators=15; total time=   0.0s\n",
      "[CV] END max_depth=None, max_features=sqrt, min_samples_leaf=16, min_samples_split=2, n_estimators=15; total time=   0.0s\n",
      "[CV] END max_depth=None, max_features=sqrt, min_samples_leaf=16, min_samples_split=2, n_estimators=15; total time=   0.0s\n",
      "[CV] END max_depth=None, max_features=sqrt, min_samples_leaf=16, min_samples_split=2, n_estimators=15; total time=   0.0s\n",
      "[CV] END max_depth=None, max_features=sqrt, min_samples_leaf=16, min_samples_split=2, n_estimators=15; total time=   0.0s\n",
      "[CV] END max_depth=None, max_features=sqrt, min_samples_leaf=16, min_samples_split=2, n_estimators=15; total time=   0.0s\n",
      "[CV] END max_depth=None, max_features=sqrt, min_samples_leaf=16, min_samples_split=4, n_estimators=15; total time=   0.0s\n",
      "[CV] END max_depth=None, max_features=sqrt, min_samples_leaf=16, min_samples_split=4, n_estimators=15; total time=   0.0s\n",
      "[CV] END max_depth=None, max_features=sqrt, min_samples_leaf=16, min_samples_split=4, n_estimators=15; total time=   0.0s\n"
     ]
    },
    {
     "name": "stdout",
     "output_type": "stream",
     "text": [
      "[CV] END max_depth=None, max_features=sqrt, min_samples_leaf=16, min_samples_split=4, n_estimators=15; total time=   0.0s\n",
      "[CV] END max_depth=None, max_features=sqrt, min_samples_leaf=16, min_samples_split=4, n_estimators=15; total time=   0.0s\n",
      "[CV] END max_depth=None, max_features=sqrt, min_samples_leaf=16, min_samples_split=6, n_estimators=15; total time=   0.0s\n",
      "[CV] END max_depth=None, max_features=sqrt, min_samples_leaf=16, min_samples_split=6, n_estimators=15; total time=   0.0s\n",
      "[CV] END max_depth=None, max_features=sqrt, min_samples_leaf=16, min_samples_split=6, n_estimators=15; total time=   0.0s\n",
      "[CV] END max_depth=None, max_features=sqrt, min_samples_leaf=16, min_samples_split=6, n_estimators=15; total time=   0.0s\n",
      "[CV] END max_depth=None, max_features=sqrt, min_samples_leaf=16, min_samples_split=6, n_estimators=15; total time=   0.0s\n",
      "[CV] END max_depth=None, max_features=sqrt, min_samples_leaf=16, min_samples_split=8, n_estimators=15; total time=   0.0s\n",
      "[CV] END max_depth=None, max_features=sqrt, min_samples_leaf=16, min_samples_split=8, n_estimators=15; total time=   0.0s\n",
      "[CV] END max_depth=None, max_features=sqrt, min_samples_leaf=16, min_samples_split=8, n_estimators=15; total time=   0.0s\n",
      "[CV] END max_depth=None, max_features=sqrt, min_samples_leaf=16, min_samples_split=8, n_estimators=15; total time=   0.0s\n",
      "[CV] END max_depth=None, max_features=sqrt, min_samples_leaf=16, min_samples_split=8, n_estimators=15; total time=   0.0s\n",
      "[CV] END max_depth=None, max_features=sqrt, min_samples_leaf=20, min_samples_split=2, n_estimators=15; total time=   0.0s\n",
      "[CV] END max_depth=None, max_features=sqrt, min_samples_leaf=20, min_samples_split=2, n_estimators=15; total time=   0.0s\n",
      "[CV] END max_depth=None, max_features=sqrt, min_samples_leaf=20, min_samples_split=2, n_estimators=15; total time=   0.0s\n",
      "[CV] END max_depth=None, max_features=sqrt, min_samples_leaf=20, min_samples_split=2, n_estimators=15; total time=   0.0s\n",
      "[CV] END max_depth=None, max_features=sqrt, min_samples_leaf=20, min_samples_split=2, n_estimators=15; total time=   0.0s\n",
      "[CV] END max_depth=None, max_features=sqrt, min_samples_leaf=20, min_samples_split=4, n_estimators=15; total time=   0.0s\n",
      "[CV] END max_depth=None, max_features=sqrt, min_samples_leaf=20, min_samples_split=4, n_estimators=15; total time=   0.0s\n",
      "[CV] END max_depth=None, max_features=sqrt, min_samples_leaf=20, min_samples_split=4, n_estimators=15; total time=   0.0s\n",
      "[CV] END max_depth=None, max_features=sqrt, min_samples_leaf=20, min_samples_split=4, n_estimators=15; total time=   0.0s\n",
      "[CV] END max_depth=None, max_features=sqrt, min_samples_leaf=20, min_samples_split=4, n_estimators=15; total time=   0.0s\n",
      "[CV] END max_depth=None, max_features=sqrt, min_samples_leaf=20, min_samples_split=6, n_estimators=15; total time=   0.0s\n",
      "[CV] END max_depth=None, max_features=sqrt, min_samples_leaf=20, min_samples_split=6, n_estimators=15; total time=   0.0s\n",
      "[CV] END max_depth=None, max_features=sqrt, min_samples_leaf=20, min_samples_split=6, n_estimators=15; total time=   0.0s\n",
      "[CV] END max_depth=None, max_features=sqrt, min_samples_leaf=20, min_samples_split=6, n_estimators=15; total time=   0.0s\n",
      "[CV] END max_depth=None, max_features=sqrt, min_samples_leaf=20, min_samples_split=6, n_estimators=15; total time=   0.0s\n",
      "[CV] END max_depth=None, max_features=sqrt, min_samples_leaf=20, min_samples_split=8, n_estimators=15; total time=   0.0s\n",
      "[CV] END max_depth=None, max_features=sqrt, min_samples_leaf=20, min_samples_split=8, n_estimators=15; total time=   0.0s\n",
      "[CV] END max_depth=None, max_features=sqrt, min_samples_leaf=20, min_samples_split=8, n_estimators=15; total time=   0.0s\n",
      "[CV] END max_depth=None, max_features=sqrt, min_samples_leaf=20, min_samples_split=8, n_estimators=15; total time=   0.0s\n",
      "[CV] END max_depth=None, max_features=sqrt, min_samples_leaf=20, min_samples_split=8, n_estimators=15; total time=   0.0s\n",
      "[CV] END max_depth=30, max_features=sqrt, min_samples_leaf=4, min_samples_split=2, n_estimators=15; total time=   0.0s\n",
      "[CV] END max_depth=30, max_features=sqrt, min_samples_leaf=4, min_samples_split=2, n_estimators=15; total time=   0.0s\n",
      "[CV] END max_depth=30, max_features=sqrt, min_samples_leaf=4, min_samples_split=2, n_estimators=15; total time=   0.0s\n",
      "[CV] END max_depth=30, max_features=sqrt, min_samples_leaf=4, min_samples_split=2, n_estimators=15; total time=   0.0s\n",
      "[CV] END max_depth=30, max_features=sqrt, min_samples_leaf=4, min_samples_split=2, n_estimators=15; total time=   0.0s\n",
      "[CV] END max_depth=30, max_features=sqrt, min_samples_leaf=4, min_samples_split=4, n_estimators=15; total time=   0.0s\n",
      "[CV] END max_depth=30, max_features=sqrt, min_samples_leaf=4, min_samples_split=4, n_estimators=15; total time=   0.0s\n",
      "[CV] END max_depth=30, max_features=sqrt, min_samples_leaf=4, min_samples_split=4, n_estimators=15; total time=   0.0s\n",
      "[CV] END max_depth=30, max_features=sqrt, min_samples_leaf=4, min_samples_split=4, n_estimators=15; total time=   0.0s\n",
      "[CV] END max_depth=30, max_features=sqrt, min_samples_leaf=4, min_samples_split=4, n_estimators=15; total time=   0.0s\n",
      "[CV] END max_depth=30, max_features=sqrt, min_samples_leaf=4, min_samples_split=6, n_estimators=15; total time=   0.0s\n",
      "[CV] END max_depth=30, max_features=sqrt, min_samples_leaf=4, min_samples_split=6, n_estimators=15; total time=   0.0s\n",
      "[CV] END max_depth=30, max_features=sqrt, min_samples_leaf=4, min_samples_split=6, n_estimators=15; total time=   0.0s\n",
      "[CV] END max_depth=30, max_features=sqrt, min_samples_leaf=4, min_samples_split=6, n_estimators=15; total time=   0.0s\n",
      "[CV] END max_depth=30, max_features=sqrt, min_samples_leaf=4, min_samples_split=6, n_estimators=15; total time=   0.0s\n",
      "[CV] END max_depth=30, max_features=sqrt, min_samples_leaf=4, min_samples_split=8, n_estimators=15; total time=   0.0s\n",
      "[CV] END max_depth=30, max_features=sqrt, min_samples_leaf=4, min_samples_split=8, n_estimators=15; total time=   0.0s\n",
      "[CV] END max_depth=30, max_features=sqrt, min_samples_leaf=4, min_samples_split=8, n_estimators=15; total time=   0.0s\n",
      "[CV] END max_depth=30, max_features=sqrt, min_samples_leaf=4, min_samples_split=8, n_estimators=15; total time=   0.0s\n",
      "[CV] END max_depth=30, max_features=sqrt, min_samples_leaf=4, min_samples_split=8, n_estimators=15; total time=   0.0s\n",
      "[CV] END max_depth=30, max_features=sqrt, min_samples_leaf=8, min_samples_split=2, n_estimators=15; total time=   0.0s\n",
      "[CV] END max_depth=30, max_features=sqrt, min_samples_leaf=8, min_samples_split=2, n_estimators=15; total time=   0.0s\n",
      "[CV] END max_depth=30, max_features=sqrt, min_samples_leaf=8, min_samples_split=2, n_estimators=15; total time=   0.0s\n",
      "[CV] END max_depth=30, max_features=sqrt, min_samples_leaf=8, min_samples_split=2, n_estimators=15; total time=   0.0s\n",
      "[CV] END max_depth=30, max_features=sqrt, min_samples_leaf=8, min_samples_split=2, n_estimators=15; total time=   0.0s\n",
      "[CV] END max_depth=30, max_features=sqrt, min_samples_leaf=8, min_samples_split=4, n_estimators=15; total time=   0.0s\n",
      "[CV] END max_depth=30, max_features=sqrt, min_samples_leaf=8, min_samples_split=4, n_estimators=15; total time=   0.0s\n",
      "[CV] END max_depth=30, max_features=sqrt, min_samples_leaf=8, min_samples_split=4, n_estimators=15; total time=   0.0s\n",
      "[CV] END max_depth=30, max_features=sqrt, min_samples_leaf=8, min_samples_split=4, n_estimators=15; total time=   0.0s\n",
      "[CV] END max_depth=30, max_features=sqrt, min_samples_leaf=8, min_samples_split=4, n_estimators=15; total time=   0.0s\n",
      "[CV] END max_depth=30, max_features=sqrt, min_samples_leaf=8, min_samples_split=6, n_estimators=15; total time=   0.0s\n",
      "[CV] END max_depth=30, max_features=sqrt, min_samples_leaf=8, min_samples_split=6, n_estimators=15; total time=   0.0s\n",
      "[CV] END max_depth=30, max_features=sqrt, min_samples_leaf=8, min_samples_split=6, n_estimators=15; total time=   0.0s\n",
      "[CV] END max_depth=30, max_features=sqrt, min_samples_leaf=8, min_samples_split=6, n_estimators=15; total time=   0.0s\n",
      "[CV] END max_depth=30, max_features=sqrt, min_samples_leaf=8, min_samples_split=6, n_estimators=15; total time=   0.0s\n",
      "[CV] END max_depth=30, max_features=sqrt, min_samples_leaf=8, min_samples_split=8, n_estimators=15; total time=   0.0s\n",
      "[CV] END max_depth=30, max_features=sqrt, min_samples_leaf=8, min_samples_split=8, n_estimators=15; total time=   0.0s\n",
      "[CV] END max_depth=30, max_features=sqrt, min_samples_leaf=8, min_samples_split=8, n_estimators=15; total time=   0.0s\n"
     ]
    },
    {
     "name": "stdout",
     "output_type": "stream",
     "text": [
      "[CV] END max_depth=30, max_features=sqrt, min_samples_leaf=8, min_samples_split=8, n_estimators=15; total time=   0.0s\n",
      "[CV] END max_depth=30, max_features=sqrt, min_samples_leaf=8, min_samples_split=8, n_estimators=15; total time=   0.0s\n",
      "[CV] END max_depth=30, max_features=sqrt, min_samples_leaf=12, min_samples_split=2, n_estimators=15; total time=   0.0s\n",
      "[CV] END max_depth=30, max_features=sqrt, min_samples_leaf=12, min_samples_split=2, n_estimators=15; total time=   0.0s\n",
      "[CV] END max_depth=30, max_features=sqrt, min_samples_leaf=12, min_samples_split=2, n_estimators=15; total time=   0.0s\n",
      "[CV] END max_depth=30, max_features=sqrt, min_samples_leaf=12, min_samples_split=2, n_estimators=15; total time=   0.0s\n",
      "[CV] END max_depth=30, max_features=sqrt, min_samples_leaf=12, min_samples_split=2, n_estimators=15; total time=   0.0s\n",
      "[CV] END max_depth=30, max_features=sqrt, min_samples_leaf=12, min_samples_split=4, n_estimators=15; total time=   0.0s\n",
      "[CV] END max_depth=30, max_features=sqrt, min_samples_leaf=12, min_samples_split=4, n_estimators=15; total time=   0.0s\n",
      "[CV] END max_depth=30, max_features=sqrt, min_samples_leaf=12, min_samples_split=4, n_estimators=15; total time=   0.0s\n",
      "[CV] END max_depth=30, max_features=sqrt, min_samples_leaf=12, min_samples_split=4, n_estimators=15; total time=   0.0s\n",
      "[CV] END max_depth=30, max_features=sqrt, min_samples_leaf=12, min_samples_split=4, n_estimators=15; total time=   0.0s\n",
      "[CV] END max_depth=30, max_features=sqrt, min_samples_leaf=12, min_samples_split=6, n_estimators=15; total time=   0.0s\n",
      "[CV] END max_depth=30, max_features=sqrt, min_samples_leaf=12, min_samples_split=6, n_estimators=15; total time=   0.0s\n",
      "[CV] END max_depth=30, max_features=sqrt, min_samples_leaf=12, min_samples_split=6, n_estimators=15; total time=   0.0s\n",
      "[CV] END max_depth=30, max_features=sqrt, min_samples_leaf=12, min_samples_split=6, n_estimators=15; total time=   0.0s\n",
      "[CV] END max_depth=30, max_features=sqrt, min_samples_leaf=12, min_samples_split=6, n_estimators=15; total time=   0.0s\n",
      "[CV] END max_depth=30, max_features=sqrt, min_samples_leaf=12, min_samples_split=8, n_estimators=15; total time=   0.0s\n",
      "[CV] END max_depth=30, max_features=sqrt, min_samples_leaf=12, min_samples_split=8, n_estimators=15; total time=   0.0s\n",
      "[CV] END max_depth=30, max_features=sqrt, min_samples_leaf=12, min_samples_split=8, n_estimators=15; total time=   0.0s\n",
      "[CV] END max_depth=30, max_features=sqrt, min_samples_leaf=12, min_samples_split=8, n_estimators=15; total time=   0.0s\n",
      "[CV] END max_depth=30, max_features=sqrt, min_samples_leaf=12, min_samples_split=8, n_estimators=15; total time=   0.0s\n",
      "[CV] END max_depth=30, max_features=sqrt, min_samples_leaf=16, min_samples_split=2, n_estimators=15; total time=   0.0s\n",
      "[CV] END max_depth=30, max_features=sqrt, min_samples_leaf=16, min_samples_split=2, n_estimators=15; total time=   0.0s\n",
      "[CV] END max_depth=30, max_features=sqrt, min_samples_leaf=16, min_samples_split=2, n_estimators=15; total time=   0.0s\n",
      "[CV] END max_depth=30, max_features=sqrt, min_samples_leaf=16, min_samples_split=2, n_estimators=15; total time=   0.0s\n",
      "[CV] END max_depth=30, max_features=sqrt, min_samples_leaf=16, min_samples_split=2, n_estimators=15; total time=   0.0s\n",
      "[CV] END max_depth=30, max_features=sqrt, min_samples_leaf=16, min_samples_split=4, n_estimators=15; total time=   0.0s\n",
      "[CV] END max_depth=30, max_features=sqrt, min_samples_leaf=16, min_samples_split=4, n_estimators=15; total time=   0.0s\n",
      "[CV] END max_depth=30, max_features=sqrt, min_samples_leaf=16, min_samples_split=4, n_estimators=15; total time=   0.0s\n",
      "[CV] END max_depth=30, max_features=sqrt, min_samples_leaf=16, min_samples_split=4, n_estimators=15; total time=   0.0s\n",
      "[CV] END max_depth=30, max_features=sqrt, min_samples_leaf=16, min_samples_split=4, n_estimators=15; total time=   0.0s\n",
      "[CV] END max_depth=30, max_features=sqrt, min_samples_leaf=16, min_samples_split=6, n_estimators=15; total time=   0.0s\n",
      "[CV] END max_depth=30, max_features=sqrt, min_samples_leaf=16, min_samples_split=6, n_estimators=15; total time=   0.0s\n",
      "[CV] END max_depth=30, max_features=sqrt, min_samples_leaf=16, min_samples_split=6, n_estimators=15; total time=   0.0s\n",
      "[CV] END max_depth=30, max_features=sqrt, min_samples_leaf=16, min_samples_split=6, n_estimators=15; total time=   0.0s\n",
      "[CV] END max_depth=30, max_features=sqrt, min_samples_leaf=16, min_samples_split=6, n_estimators=15; total time=   0.0s\n",
      "[CV] END max_depth=30, max_features=sqrt, min_samples_leaf=16, min_samples_split=8, n_estimators=15; total time=   0.0s\n",
      "[CV] END max_depth=30, max_features=sqrt, min_samples_leaf=16, min_samples_split=8, n_estimators=15; total time=   0.0s\n",
      "[CV] END max_depth=30, max_features=sqrt, min_samples_leaf=16, min_samples_split=8, n_estimators=15; total time=   0.0s\n",
      "[CV] END max_depth=30, max_features=sqrt, min_samples_leaf=16, min_samples_split=8, n_estimators=15; total time=   0.0s\n",
      "[CV] END max_depth=30, max_features=sqrt, min_samples_leaf=16, min_samples_split=8, n_estimators=15; total time=   0.0s\n",
      "[CV] END max_depth=30, max_features=sqrt, min_samples_leaf=20, min_samples_split=2, n_estimators=15; total time=   0.0s\n",
      "[CV] END max_depth=30, max_features=sqrt, min_samples_leaf=20, min_samples_split=2, n_estimators=15; total time=   0.0s\n",
      "[CV] END max_depth=30, max_features=sqrt, min_samples_leaf=20, min_samples_split=2, n_estimators=15; total time=   0.0s\n",
      "[CV] END max_depth=30, max_features=sqrt, min_samples_leaf=20, min_samples_split=2, n_estimators=15; total time=   0.0s\n",
      "[CV] END max_depth=30, max_features=sqrt, min_samples_leaf=20, min_samples_split=2, n_estimators=15; total time=   0.0s\n",
      "[CV] END max_depth=30, max_features=sqrt, min_samples_leaf=20, min_samples_split=4, n_estimators=15; total time=   0.0s\n",
      "[CV] END max_depth=30, max_features=sqrt, min_samples_leaf=20, min_samples_split=4, n_estimators=15; total time=   0.0s\n",
      "[CV] END max_depth=30, max_features=sqrt, min_samples_leaf=20, min_samples_split=4, n_estimators=15; total time=   0.0s\n",
      "[CV] END max_depth=30, max_features=sqrt, min_samples_leaf=20, min_samples_split=4, n_estimators=15; total time=   0.0s\n",
      "[CV] END max_depth=30, max_features=sqrt, min_samples_leaf=20, min_samples_split=4, n_estimators=15; total time=   0.0s\n",
      "[CV] END max_depth=30, max_features=sqrt, min_samples_leaf=20, min_samples_split=6, n_estimators=15; total time=   0.0s\n",
      "[CV] END max_depth=30, max_features=sqrt, min_samples_leaf=20, min_samples_split=6, n_estimators=15; total time=   0.0s\n",
      "[CV] END max_depth=30, max_features=sqrt, min_samples_leaf=20, min_samples_split=6, n_estimators=15; total time=   0.0s\n",
      "[CV] END max_depth=30, max_features=sqrt, min_samples_leaf=20, min_samples_split=6, n_estimators=15; total time=   0.0s\n",
      "[CV] END max_depth=30, max_features=sqrt, min_samples_leaf=20, min_samples_split=6, n_estimators=15; total time=   0.0s\n",
      "[CV] END max_depth=30, max_features=sqrt, min_samples_leaf=20, min_samples_split=8, n_estimators=15; total time=   0.0s\n",
      "[CV] END max_depth=30, max_features=sqrt, min_samples_leaf=20, min_samples_split=8, n_estimators=15; total time=   0.0s\n",
      "[CV] END max_depth=30, max_features=sqrt, min_samples_leaf=20, min_samples_split=8, n_estimators=15; total time=   0.0s\n",
      "[CV] END max_depth=30, max_features=sqrt, min_samples_leaf=20, min_samples_split=8, n_estimators=15; total time=   0.0s\n",
      "[CV] END max_depth=30, max_features=sqrt, min_samples_leaf=20, min_samples_split=8, n_estimators=15; total time=   0.0s\n",
      "[CV] END max_depth=60, max_features=sqrt, min_samples_leaf=4, min_samples_split=2, n_estimators=15; total time=   0.0s\n",
      "[CV] END max_depth=60, max_features=sqrt, min_samples_leaf=4, min_samples_split=2, n_estimators=15; total time=   0.0s\n",
      "[CV] END max_depth=60, max_features=sqrt, min_samples_leaf=4, min_samples_split=2, n_estimators=15; total time=   0.0s\n",
      "[CV] END max_depth=60, max_features=sqrt, min_samples_leaf=4, min_samples_split=2, n_estimators=15; total time=   0.0s\n",
      "[CV] END max_depth=60, max_features=sqrt, min_samples_leaf=4, min_samples_split=2, n_estimators=15; total time=   0.0s\n",
      "[CV] END max_depth=60, max_features=sqrt, min_samples_leaf=4, min_samples_split=4, n_estimators=15; total time=   0.0s\n",
      "[CV] END max_depth=60, max_features=sqrt, min_samples_leaf=4, min_samples_split=4, n_estimators=15; total time=   0.0s\n"
     ]
    },
    {
     "name": "stdout",
     "output_type": "stream",
     "text": [
      "[CV] END max_depth=60, max_features=sqrt, min_samples_leaf=4, min_samples_split=4, n_estimators=15; total time=   0.0s\n",
      "[CV] END max_depth=60, max_features=sqrt, min_samples_leaf=4, min_samples_split=4, n_estimators=15; total time=   0.0s\n",
      "[CV] END max_depth=60, max_features=sqrt, min_samples_leaf=4, min_samples_split=4, n_estimators=15; total time=   0.0s\n",
      "[CV] END max_depth=60, max_features=sqrt, min_samples_leaf=4, min_samples_split=6, n_estimators=15; total time=   0.0s\n",
      "[CV] END max_depth=60, max_features=sqrt, min_samples_leaf=4, min_samples_split=6, n_estimators=15; total time=   0.0s\n",
      "[CV] END max_depth=60, max_features=sqrt, min_samples_leaf=4, min_samples_split=6, n_estimators=15; total time=   0.0s\n",
      "[CV] END max_depth=60, max_features=sqrt, min_samples_leaf=4, min_samples_split=6, n_estimators=15; total time=   0.0s\n",
      "[CV] END max_depth=60, max_features=sqrt, min_samples_leaf=4, min_samples_split=6, n_estimators=15; total time=   0.0s\n",
      "[CV] END max_depth=60, max_features=sqrt, min_samples_leaf=4, min_samples_split=8, n_estimators=15; total time=   0.0s\n",
      "[CV] END max_depth=60, max_features=sqrt, min_samples_leaf=4, min_samples_split=8, n_estimators=15; total time=   0.0s\n",
      "[CV] END max_depth=60, max_features=sqrt, min_samples_leaf=4, min_samples_split=8, n_estimators=15; total time=   0.0s\n",
      "[CV] END max_depth=60, max_features=sqrt, min_samples_leaf=4, min_samples_split=8, n_estimators=15; total time=   0.0s\n",
      "[CV] END max_depth=60, max_features=sqrt, min_samples_leaf=4, min_samples_split=8, n_estimators=15; total time=   0.0s\n",
      "[CV] END max_depth=60, max_features=sqrt, min_samples_leaf=8, min_samples_split=2, n_estimators=15; total time=   0.0s\n",
      "[CV] END max_depth=60, max_features=sqrt, min_samples_leaf=8, min_samples_split=2, n_estimators=15; total time=   0.0s\n",
      "[CV] END max_depth=60, max_features=sqrt, min_samples_leaf=8, min_samples_split=2, n_estimators=15; total time=   0.0s\n",
      "[CV] END max_depth=60, max_features=sqrt, min_samples_leaf=8, min_samples_split=2, n_estimators=15; total time=   0.0s\n",
      "[CV] END max_depth=60, max_features=sqrt, min_samples_leaf=8, min_samples_split=2, n_estimators=15; total time=   0.0s\n",
      "[CV] END max_depth=60, max_features=sqrt, min_samples_leaf=8, min_samples_split=4, n_estimators=15; total time=   0.0s\n",
      "[CV] END max_depth=60, max_features=sqrt, min_samples_leaf=8, min_samples_split=4, n_estimators=15; total time=   0.0s\n",
      "[CV] END max_depth=60, max_features=sqrt, min_samples_leaf=8, min_samples_split=4, n_estimators=15; total time=   0.0s\n",
      "[CV] END max_depth=60, max_features=sqrt, min_samples_leaf=8, min_samples_split=4, n_estimators=15; total time=   0.0s\n",
      "[CV] END max_depth=60, max_features=sqrt, min_samples_leaf=8, min_samples_split=4, n_estimators=15; total time=   0.0s\n",
      "[CV] END max_depth=60, max_features=sqrt, min_samples_leaf=8, min_samples_split=6, n_estimators=15; total time=   0.0s\n",
      "[CV] END max_depth=60, max_features=sqrt, min_samples_leaf=8, min_samples_split=6, n_estimators=15; total time=   0.0s\n",
      "[CV] END max_depth=60, max_features=sqrt, min_samples_leaf=8, min_samples_split=6, n_estimators=15; total time=   0.0s\n",
      "[CV] END max_depth=60, max_features=sqrt, min_samples_leaf=8, min_samples_split=6, n_estimators=15; total time=   0.0s\n",
      "[CV] END max_depth=60, max_features=sqrt, min_samples_leaf=8, min_samples_split=6, n_estimators=15; total time=   0.0s\n",
      "[CV] END max_depth=60, max_features=sqrt, min_samples_leaf=8, min_samples_split=8, n_estimators=15; total time=   0.0s\n",
      "[CV] END max_depth=60, max_features=sqrt, min_samples_leaf=8, min_samples_split=8, n_estimators=15; total time=   0.0s\n",
      "[CV] END max_depth=60, max_features=sqrt, min_samples_leaf=8, min_samples_split=8, n_estimators=15; total time=   0.0s\n",
      "[CV] END max_depth=60, max_features=sqrt, min_samples_leaf=8, min_samples_split=8, n_estimators=15; total time=   0.0s\n",
      "[CV] END max_depth=60, max_features=sqrt, min_samples_leaf=8, min_samples_split=8, n_estimators=15; total time=   0.0s\n",
      "[CV] END max_depth=60, max_features=sqrt, min_samples_leaf=12, min_samples_split=2, n_estimators=15; total time=   0.0s\n",
      "[CV] END max_depth=60, max_features=sqrt, min_samples_leaf=12, min_samples_split=2, n_estimators=15; total time=   0.0s\n",
      "[CV] END max_depth=60, max_features=sqrt, min_samples_leaf=12, min_samples_split=2, n_estimators=15; total time=   0.0s\n",
      "[CV] END max_depth=60, max_features=sqrt, min_samples_leaf=12, min_samples_split=2, n_estimators=15; total time=   0.0s\n",
      "[CV] END max_depth=60, max_features=sqrt, min_samples_leaf=12, min_samples_split=2, n_estimators=15; total time=   0.0s\n",
      "[CV] END max_depth=60, max_features=sqrt, min_samples_leaf=12, min_samples_split=4, n_estimators=15; total time=   0.0s\n",
      "[CV] END max_depth=60, max_features=sqrt, min_samples_leaf=12, min_samples_split=4, n_estimators=15; total time=   0.0s\n",
      "[CV] END max_depth=60, max_features=sqrt, min_samples_leaf=12, min_samples_split=4, n_estimators=15; total time=   0.0s\n",
      "[CV] END max_depth=60, max_features=sqrt, min_samples_leaf=12, min_samples_split=4, n_estimators=15; total time=   0.0s\n",
      "[CV] END max_depth=60, max_features=sqrt, min_samples_leaf=12, min_samples_split=4, n_estimators=15; total time=   0.0s\n",
      "[CV] END max_depth=60, max_features=sqrt, min_samples_leaf=12, min_samples_split=6, n_estimators=15; total time=   0.0s\n",
      "[CV] END max_depth=60, max_features=sqrt, min_samples_leaf=12, min_samples_split=6, n_estimators=15; total time=   0.0s\n",
      "[CV] END max_depth=60, max_features=sqrt, min_samples_leaf=12, min_samples_split=6, n_estimators=15; total time=   0.0s\n",
      "[CV] END max_depth=60, max_features=sqrt, min_samples_leaf=12, min_samples_split=6, n_estimators=15; total time=   0.0s\n",
      "[CV] END max_depth=60, max_features=sqrt, min_samples_leaf=12, min_samples_split=6, n_estimators=15; total time=   0.0s\n",
      "[CV] END max_depth=60, max_features=sqrt, min_samples_leaf=12, min_samples_split=8, n_estimators=15; total time=   0.0s\n",
      "[CV] END max_depth=60, max_features=sqrt, min_samples_leaf=12, min_samples_split=8, n_estimators=15; total time=   0.0s\n",
      "[CV] END max_depth=60, max_features=sqrt, min_samples_leaf=12, min_samples_split=8, n_estimators=15; total time=   0.0s\n",
      "[CV] END max_depth=60, max_features=sqrt, min_samples_leaf=12, min_samples_split=8, n_estimators=15; total time=   0.0s\n",
      "[CV] END max_depth=60, max_features=sqrt, min_samples_leaf=12, min_samples_split=8, n_estimators=15; total time=   0.0s\n",
      "[CV] END max_depth=60, max_features=sqrt, min_samples_leaf=16, min_samples_split=2, n_estimators=15; total time=   0.0s\n",
      "[CV] END max_depth=60, max_features=sqrt, min_samples_leaf=16, min_samples_split=2, n_estimators=15; total time=   0.0s\n",
      "[CV] END max_depth=60, max_features=sqrt, min_samples_leaf=16, min_samples_split=2, n_estimators=15; total time=   0.0s\n",
      "[CV] END max_depth=60, max_features=sqrt, min_samples_leaf=16, min_samples_split=2, n_estimators=15; total time=   0.0s\n",
      "[CV] END max_depth=60, max_features=sqrt, min_samples_leaf=16, min_samples_split=2, n_estimators=15; total time=   0.0s\n",
      "[CV] END max_depth=60, max_features=sqrt, min_samples_leaf=16, min_samples_split=4, n_estimators=15; total time=   0.0s\n",
      "[CV] END max_depth=60, max_features=sqrt, min_samples_leaf=16, min_samples_split=4, n_estimators=15; total time=   0.0s\n",
      "[CV] END max_depth=60, max_features=sqrt, min_samples_leaf=16, min_samples_split=4, n_estimators=15; total time=   0.0s\n",
      "[CV] END max_depth=60, max_features=sqrt, min_samples_leaf=16, min_samples_split=4, n_estimators=15; total time=   0.0s\n",
      "[CV] END max_depth=60, max_features=sqrt, min_samples_leaf=16, min_samples_split=4, n_estimators=15; total time=   0.0s\n",
      "[CV] END max_depth=60, max_features=sqrt, min_samples_leaf=16, min_samples_split=6, n_estimators=15; total time=   0.0s\n",
      "[CV] END max_depth=60, max_features=sqrt, min_samples_leaf=16, min_samples_split=6, n_estimators=15; total time=   0.0s\n",
      "[CV] END max_depth=60, max_features=sqrt, min_samples_leaf=16, min_samples_split=6, n_estimators=15; total time=   0.0s\n",
      "[CV] END max_depth=60, max_features=sqrt, min_samples_leaf=16, min_samples_split=6, n_estimators=15; total time=   0.0s\n",
      "[CV] END max_depth=60, max_features=sqrt, min_samples_leaf=16, min_samples_split=6, n_estimators=15; total time=   0.0s\n",
      "[CV] END max_depth=60, max_features=sqrt, min_samples_leaf=16, min_samples_split=8, n_estimators=15; total time=   0.0s\n",
      "[CV] END max_depth=60, max_features=sqrt, min_samples_leaf=16, min_samples_split=8, n_estimators=15; total time=   0.0s\n",
      "[CV] END max_depth=60, max_features=sqrt, min_samples_leaf=16, min_samples_split=8, n_estimators=15; total time=   0.0s\n",
      "[CV] END max_depth=60, max_features=sqrt, min_samples_leaf=16, min_samples_split=8, n_estimators=15; total time=   0.0s\n",
      "[CV] END max_depth=60, max_features=sqrt, min_samples_leaf=16, min_samples_split=8, n_estimators=15; total time=   0.0s\n",
      "[CV] END max_depth=60, max_features=sqrt, min_samples_leaf=20, min_samples_split=2, n_estimators=15; total time=   0.0s\n",
      "[CV] END max_depth=60, max_features=sqrt, min_samples_leaf=20, min_samples_split=2, n_estimators=15; total time=   0.0s\n",
      "[CV] END max_depth=60, max_features=sqrt, min_samples_leaf=20, min_samples_split=2, n_estimators=15; total time=   0.0s\n",
      "[CV] END max_depth=60, max_features=sqrt, min_samples_leaf=20, min_samples_split=2, n_estimators=15; total time=   0.0s\n",
      "[CV] END max_depth=60, max_features=sqrt, min_samples_leaf=20, min_samples_split=2, n_estimators=15; total time=   0.0s\n",
      "[CV] END max_depth=60, max_features=sqrt, min_samples_leaf=20, min_samples_split=4, n_estimators=15; total time=   0.0s\n",
      "[CV] END max_depth=60, max_features=sqrt, min_samples_leaf=20, min_samples_split=4, n_estimators=15; total time=   0.0s\n"
     ]
    },
    {
     "name": "stdout",
     "output_type": "stream",
     "text": [
      "[CV] END max_depth=60, max_features=sqrt, min_samples_leaf=20, min_samples_split=4, n_estimators=15; total time=   0.0s\n",
      "[CV] END max_depth=60, max_features=sqrt, min_samples_leaf=20, min_samples_split=4, n_estimators=15; total time=   0.0s\n",
      "[CV] END max_depth=60, max_features=sqrt, min_samples_leaf=20, min_samples_split=4, n_estimators=15; total time=   0.0s\n",
      "[CV] END max_depth=60, max_features=sqrt, min_samples_leaf=20, min_samples_split=6, n_estimators=15; total time=   0.0s\n",
      "[CV] END max_depth=60, max_features=sqrt, min_samples_leaf=20, min_samples_split=6, n_estimators=15; total time=   0.0s\n",
      "[CV] END max_depth=60, max_features=sqrt, min_samples_leaf=20, min_samples_split=6, n_estimators=15; total time=   0.0s\n",
      "[CV] END max_depth=60, max_features=sqrt, min_samples_leaf=20, min_samples_split=6, n_estimators=15; total time=   0.0s\n",
      "[CV] END max_depth=60, max_features=sqrt, min_samples_leaf=20, min_samples_split=6, n_estimators=15; total time=   0.0s\n",
      "[CV] END max_depth=60, max_features=sqrt, min_samples_leaf=20, min_samples_split=8, n_estimators=15; total time=   0.0s\n",
      "[CV] END max_depth=60, max_features=sqrt, min_samples_leaf=20, min_samples_split=8, n_estimators=15; total time=   0.0s\n",
      "[CV] END max_depth=60, max_features=sqrt, min_samples_leaf=20, min_samples_split=8, n_estimators=15; total time=   0.0s\n",
      "[CV] END max_depth=60, max_features=sqrt, min_samples_leaf=20, min_samples_split=8, n_estimators=15; total time=   0.0s\n",
      "[CV] END max_depth=60, max_features=sqrt, min_samples_leaf=20, min_samples_split=8, n_estimators=15; total time=   0.0s\n",
      "[CV] END max_depth=90, max_features=sqrt, min_samples_leaf=4, min_samples_split=2, n_estimators=15; total time=   0.0s\n",
      "[CV] END max_depth=90, max_features=sqrt, min_samples_leaf=4, min_samples_split=2, n_estimators=15; total time=   0.0s\n",
      "[CV] END max_depth=90, max_features=sqrt, min_samples_leaf=4, min_samples_split=2, n_estimators=15; total time=   0.0s\n",
      "[CV] END max_depth=90, max_features=sqrt, min_samples_leaf=4, min_samples_split=2, n_estimators=15; total time=   0.0s\n",
      "[CV] END max_depth=90, max_features=sqrt, min_samples_leaf=4, min_samples_split=2, n_estimators=15; total time=   0.0s\n",
      "[CV] END max_depth=90, max_features=sqrt, min_samples_leaf=4, min_samples_split=4, n_estimators=15; total time=   0.0s\n",
      "[CV] END max_depth=90, max_features=sqrt, min_samples_leaf=4, min_samples_split=4, n_estimators=15; total time=   0.0s\n",
      "[CV] END max_depth=90, max_features=sqrt, min_samples_leaf=4, min_samples_split=4, n_estimators=15; total time=   0.0s\n",
      "[CV] END max_depth=90, max_features=sqrt, min_samples_leaf=4, min_samples_split=4, n_estimators=15; total time=   0.0s\n",
      "[CV] END max_depth=90, max_features=sqrt, min_samples_leaf=4, min_samples_split=4, n_estimators=15; total time=   0.0s\n",
      "[CV] END max_depth=90, max_features=sqrt, min_samples_leaf=4, min_samples_split=6, n_estimators=15; total time=   0.0s\n",
      "[CV] END max_depth=90, max_features=sqrt, min_samples_leaf=4, min_samples_split=6, n_estimators=15; total time=   0.0s\n",
      "[CV] END max_depth=90, max_features=sqrt, min_samples_leaf=4, min_samples_split=6, n_estimators=15; total time=   0.0s\n",
      "[CV] END max_depth=90, max_features=sqrt, min_samples_leaf=4, min_samples_split=6, n_estimators=15; total time=   0.0s\n",
      "[CV] END max_depth=90, max_features=sqrt, min_samples_leaf=4, min_samples_split=6, n_estimators=15; total time=   0.0s\n",
      "[CV] END max_depth=90, max_features=sqrt, min_samples_leaf=4, min_samples_split=8, n_estimators=15; total time=   0.0s\n",
      "[CV] END max_depth=90, max_features=sqrt, min_samples_leaf=4, min_samples_split=8, n_estimators=15; total time=   0.0s\n",
      "[CV] END max_depth=90, max_features=sqrt, min_samples_leaf=4, min_samples_split=8, n_estimators=15; total time=   0.0s\n",
      "[CV] END max_depth=90, max_features=sqrt, min_samples_leaf=4, min_samples_split=8, n_estimators=15; total time=   0.0s\n",
      "[CV] END max_depth=90, max_features=sqrt, min_samples_leaf=4, min_samples_split=8, n_estimators=15; total time=   0.0s\n",
      "[CV] END max_depth=90, max_features=sqrt, min_samples_leaf=8, min_samples_split=2, n_estimators=15; total time=   0.0s\n",
      "[CV] END max_depth=90, max_features=sqrt, min_samples_leaf=8, min_samples_split=2, n_estimators=15; total time=   0.0s\n",
      "[CV] END max_depth=90, max_features=sqrt, min_samples_leaf=8, min_samples_split=2, n_estimators=15; total time=   0.0s\n",
      "[CV] END max_depth=90, max_features=sqrt, min_samples_leaf=8, min_samples_split=2, n_estimators=15; total time=   0.0s\n",
      "[CV] END max_depth=90, max_features=sqrt, min_samples_leaf=8, min_samples_split=2, n_estimators=15; total time=   0.0s\n",
      "[CV] END max_depth=90, max_features=sqrt, min_samples_leaf=8, min_samples_split=4, n_estimators=15; total time=   0.0s\n",
      "[CV] END max_depth=90, max_features=sqrt, min_samples_leaf=8, min_samples_split=4, n_estimators=15; total time=   0.0s\n",
      "[CV] END max_depth=90, max_features=sqrt, min_samples_leaf=8, min_samples_split=4, n_estimators=15; total time=   0.0s\n",
      "[CV] END max_depth=90, max_features=sqrt, min_samples_leaf=8, min_samples_split=4, n_estimators=15; total time=   0.0s\n",
      "[CV] END max_depth=90, max_features=sqrt, min_samples_leaf=8, min_samples_split=4, n_estimators=15; total time=   0.0s\n",
      "[CV] END max_depth=90, max_features=sqrt, min_samples_leaf=8, min_samples_split=6, n_estimators=15; total time=   0.0s\n",
      "[CV] END max_depth=90, max_features=sqrt, min_samples_leaf=8, min_samples_split=6, n_estimators=15; total time=   0.0s\n",
      "[CV] END max_depth=90, max_features=sqrt, min_samples_leaf=8, min_samples_split=6, n_estimators=15; total time=   0.0s\n",
      "[CV] END max_depth=90, max_features=sqrt, min_samples_leaf=8, min_samples_split=6, n_estimators=15; total time=   0.0s\n",
      "[CV] END max_depth=90, max_features=sqrt, min_samples_leaf=8, min_samples_split=6, n_estimators=15; total time=   0.0s\n",
      "[CV] END max_depth=90, max_features=sqrt, min_samples_leaf=8, min_samples_split=8, n_estimators=15; total time=   0.0s\n",
      "[CV] END max_depth=90, max_features=sqrt, min_samples_leaf=8, min_samples_split=8, n_estimators=15; total time=   0.0s\n",
      "[CV] END max_depth=90, max_features=sqrt, min_samples_leaf=8, min_samples_split=8, n_estimators=15; total time=   0.0s\n",
      "[CV] END max_depth=90, max_features=sqrt, min_samples_leaf=8, min_samples_split=8, n_estimators=15; total time=   0.0s\n",
      "[CV] END max_depth=90, max_features=sqrt, min_samples_leaf=8, min_samples_split=8, n_estimators=15; total time=   0.0s\n",
      "[CV] END max_depth=90, max_features=sqrt, min_samples_leaf=12, min_samples_split=2, n_estimators=15; total time=   0.0s\n",
      "[CV] END max_depth=90, max_features=sqrt, min_samples_leaf=12, min_samples_split=2, n_estimators=15; total time=   0.0s\n",
      "[CV] END max_depth=90, max_features=sqrt, min_samples_leaf=12, min_samples_split=2, n_estimators=15; total time=   0.0s\n",
      "[CV] END max_depth=90, max_features=sqrt, min_samples_leaf=12, min_samples_split=2, n_estimators=15; total time=   0.0s\n",
      "[CV] END max_depth=90, max_features=sqrt, min_samples_leaf=12, min_samples_split=2, n_estimators=15; total time=   0.0s\n",
      "[CV] END max_depth=90, max_features=sqrt, min_samples_leaf=12, min_samples_split=4, n_estimators=15; total time=   0.0s\n",
      "[CV] END max_depth=90, max_features=sqrt, min_samples_leaf=12, min_samples_split=4, n_estimators=15; total time=   0.0s\n",
      "[CV] END max_depth=90, max_features=sqrt, min_samples_leaf=12, min_samples_split=4, n_estimators=15; total time=   0.0s\n",
      "[CV] END max_depth=90, max_features=sqrt, min_samples_leaf=12, min_samples_split=4, n_estimators=15; total time=   0.0s\n",
      "[CV] END max_depth=90, max_features=sqrt, min_samples_leaf=12, min_samples_split=4, n_estimators=15; total time=   0.0s\n",
      "[CV] END max_depth=90, max_features=sqrt, min_samples_leaf=12, min_samples_split=6, n_estimators=15; total time=   0.0s\n",
      "[CV] END max_depth=90, max_features=sqrt, min_samples_leaf=12, min_samples_split=6, n_estimators=15; total time=   0.0s\n",
      "[CV] END max_depth=90, max_features=sqrt, min_samples_leaf=12, min_samples_split=6, n_estimators=15; total time=   0.0s\n",
      "[CV] END max_depth=90, max_features=sqrt, min_samples_leaf=12, min_samples_split=6, n_estimators=15; total time=   0.0s\n",
      "[CV] END max_depth=90, max_features=sqrt, min_samples_leaf=12, min_samples_split=6, n_estimators=15; total time=   0.0s\n",
      "[CV] END max_depth=90, max_features=sqrt, min_samples_leaf=12, min_samples_split=8, n_estimators=15; total time=   0.0s\n",
      "[CV] END max_depth=90, max_features=sqrt, min_samples_leaf=12, min_samples_split=8, n_estimators=15; total time=   0.0s\n",
      "[CV] END max_depth=90, max_features=sqrt, min_samples_leaf=12, min_samples_split=8, n_estimators=15; total time=   0.0s\n",
      "[CV] END max_depth=90, max_features=sqrt, min_samples_leaf=12, min_samples_split=8, n_estimators=15; total time=   0.0s\n",
      "[CV] END max_depth=90, max_features=sqrt, min_samples_leaf=12, min_samples_split=8, n_estimators=15; total time=   0.0s\n",
      "[CV] END max_depth=90, max_features=sqrt, min_samples_leaf=16, min_samples_split=2, n_estimators=15; total time=   0.0s\n",
      "[CV] END max_depth=90, max_features=sqrt, min_samples_leaf=16, min_samples_split=2, n_estimators=15; total time=   0.0s\n",
      "[CV] END max_depth=90, max_features=sqrt, min_samples_leaf=16, min_samples_split=2, n_estimators=15; total time=   0.0s\n",
      "[CV] END max_depth=90, max_features=sqrt, min_samples_leaf=16, min_samples_split=2, n_estimators=15; total time=   0.0s\n",
      "[CV] END max_depth=90, max_features=sqrt, min_samples_leaf=16, min_samples_split=2, n_estimators=15; total time=   0.0s\n",
      "[CV] END max_depth=90, max_features=sqrt, min_samples_leaf=16, min_samples_split=4, n_estimators=15; total time=   0.0s\n",
      "[CV] END max_depth=90, max_features=sqrt, min_samples_leaf=16, min_samples_split=4, n_estimators=15; total time=   0.0s\n"
     ]
    },
    {
     "name": "stdout",
     "output_type": "stream",
     "text": [
      "[CV] END max_depth=90, max_features=sqrt, min_samples_leaf=16, min_samples_split=4, n_estimators=15; total time=   0.0s\n",
      "[CV] END max_depth=90, max_features=sqrt, min_samples_leaf=16, min_samples_split=4, n_estimators=15; total time=   0.0s\n",
      "[CV] END max_depth=90, max_features=sqrt, min_samples_leaf=16, min_samples_split=4, n_estimators=15; total time=   0.0s\n",
      "[CV] END max_depth=90, max_features=sqrt, min_samples_leaf=16, min_samples_split=6, n_estimators=15; total time=   0.0s\n",
      "[CV] END max_depth=90, max_features=sqrt, min_samples_leaf=16, min_samples_split=6, n_estimators=15; total time=   0.0s\n",
      "[CV] END max_depth=90, max_features=sqrt, min_samples_leaf=16, min_samples_split=6, n_estimators=15; total time=   0.0s\n",
      "[CV] END max_depth=90, max_features=sqrt, min_samples_leaf=16, min_samples_split=6, n_estimators=15; total time=   0.0s\n",
      "[CV] END max_depth=90, max_features=sqrt, min_samples_leaf=16, min_samples_split=6, n_estimators=15; total time=   0.0s\n",
      "[CV] END max_depth=90, max_features=sqrt, min_samples_leaf=16, min_samples_split=8, n_estimators=15; total time=   0.0s\n",
      "[CV] END max_depth=90, max_features=sqrt, min_samples_leaf=16, min_samples_split=8, n_estimators=15; total time=   0.0s\n",
      "[CV] END max_depth=90, max_features=sqrt, min_samples_leaf=16, min_samples_split=8, n_estimators=15; total time=   0.0s\n",
      "[CV] END max_depth=90, max_features=sqrt, min_samples_leaf=16, min_samples_split=8, n_estimators=15; total time=   0.0s\n",
      "[CV] END max_depth=90, max_features=sqrt, min_samples_leaf=16, min_samples_split=8, n_estimators=15; total time=   0.0s\n",
      "[CV] END max_depth=90, max_features=sqrt, min_samples_leaf=20, min_samples_split=2, n_estimators=15; total time=   0.0s\n",
      "[CV] END max_depth=90, max_features=sqrt, min_samples_leaf=20, min_samples_split=2, n_estimators=15; total time=   0.0s\n",
      "[CV] END max_depth=90, max_features=sqrt, min_samples_leaf=20, min_samples_split=2, n_estimators=15; total time=   0.0s\n",
      "[CV] END max_depth=90, max_features=sqrt, min_samples_leaf=20, min_samples_split=2, n_estimators=15; total time=   0.0s\n",
      "[CV] END max_depth=90, max_features=sqrt, min_samples_leaf=20, min_samples_split=2, n_estimators=15; total time=   0.0s\n",
      "[CV] END max_depth=90, max_features=sqrt, min_samples_leaf=20, min_samples_split=4, n_estimators=15; total time=   0.0s\n",
      "[CV] END max_depth=90, max_features=sqrt, min_samples_leaf=20, min_samples_split=4, n_estimators=15; total time=   0.0s\n",
      "[CV] END max_depth=90, max_features=sqrt, min_samples_leaf=20, min_samples_split=4, n_estimators=15; total time=   0.0s\n",
      "[CV] END max_depth=90, max_features=sqrt, min_samples_leaf=20, min_samples_split=4, n_estimators=15; total time=   0.0s\n",
      "[CV] END max_depth=90, max_features=sqrt, min_samples_leaf=20, min_samples_split=4, n_estimators=15; total time=   0.0s\n",
      "[CV] END max_depth=90, max_features=sqrt, min_samples_leaf=20, min_samples_split=6, n_estimators=15; total time=   0.0s\n",
      "[CV] END max_depth=90, max_features=sqrt, min_samples_leaf=20, min_samples_split=6, n_estimators=15; total time=   0.0s\n",
      "[CV] END max_depth=90, max_features=sqrt, min_samples_leaf=20, min_samples_split=6, n_estimators=15; total time=   0.0s\n",
      "[CV] END max_depth=90, max_features=sqrt, min_samples_leaf=20, min_samples_split=6, n_estimators=15; total time=   0.0s\n",
      "[CV] END max_depth=90, max_features=sqrt, min_samples_leaf=20, min_samples_split=6, n_estimators=15; total time=   0.0s\n",
      "[CV] END max_depth=90, max_features=sqrt, min_samples_leaf=20, min_samples_split=8, n_estimators=15; total time=   0.0s\n",
      "[CV] END max_depth=90, max_features=sqrt, min_samples_leaf=20, min_samples_split=8, n_estimators=15; total time=   0.0s\n",
      "[CV] END max_depth=90, max_features=sqrt, min_samples_leaf=20, min_samples_split=8, n_estimators=15; total time=   0.0s\n",
      "[CV] END max_depth=90, max_features=sqrt, min_samples_leaf=20, min_samples_split=8, n_estimators=15; total time=   0.0s\n",
      "[CV] END max_depth=90, max_features=sqrt, min_samples_leaf=20, min_samples_split=8, n_estimators=15; total time=   0.0s\n",
      "[CV] END max_depth=200, max_features=sqrt, min_samples_leaf=4, min_samples_split=2, n_estimators=15; total time=   0.0s\n",
      "[CV] END max_depth=200, max_features=sqrt, min_samples_leaf=4, min_samples_split=2, n_estimators=15; total time=   0.0s\n",
      "[CV] END max_depth=200, max_features=sqrt, min_samples_leaf=4, min_samples_split=2, n_estimators=15; total time=   0.0s\n",
      "[CV] END max_depth=200, max_features=sqrt, min_samples_leaf=4, min_samples_split=2, n_estimators=15; total time=   0.0s\n",
      "[CV] END max_depth=200, max_features=sqrt, min_samples_leaf=4, min_samples_split=2, n_estimators=15; total time=   0.0s\n",
      "[CV] END max_depth=200, max_features=sqrt, min_samples_leaf=4, min_samples_split=4, n_estimators=15; total time=   0.0s\n",
      "[CV] END max_depth=200, max_features=sqrt, min_samples_leaf=4, min_samples_split=4, n_estimators=15; total time=   0.0s\n",
      "[CV] END max_depth=200, max_features=sqrt, min_samples_leaf=4, min_samples_split=4, n_estimators=15; total time=   0.0s\n",
      "[CV] END max_depth=200, max_features=sqrt, min_samples_leaf=4, min_samples_split=4, n_estimators=15; total time=   0.0s\n",
      "[CV] END max_depth=200, max_features=sqrt, min_samples_leaf=4, min_samples_split=4, n_estimators=15; total time=   0.0s\n",
      "[CV] END max_depth=200, max_features=sqrt, min_samples_leaf=4, min_samples_split=6, n_estimators=15; total time=   0.0s\n",
      "[CV] END max_depth=200, max_features=sqrt, min_samples_leaf=4, min_samples_split=6, n_estimators=15; total time=   0.0s\n",
      "[CV] END max_depth=200, max_features=sqrt, min_samples_leaf=4, min_samples_split=6, n_estimators=15; total time=   0.0s\n",
      "[CV] END max_depth=200, max_features=sqrt, min_samples_leaf=4, min_samples_split=6, n_estimators=15; total time=   0.0s\n",
      "[CV] END max_depth=200, max_features=sqrt, min_samples_leaf=4, min_samples_split=6, n_estimators=15; total time=   0.0s\n",
      "[CV] END max_depth=200, max_features=sqrt, min_samples_leaf=4, min_samples_split=8, n_estimators=15; total time=   0.0s\n",
      "[CV] END max_depth=200, max_features=sqrt, min_samples_leaf=4, min_samples_split=8, n_estimators=15; total time=   0.0s\n",
      "[CV] END max_depth=200, max_features=sqrt, min_samples_leaf=4, min_samples_split=8, n_estimators=15; total time=   0.0s\n",
      "[CV] END max_depth=200, max_features=sqrt, min_samples_leaf=4, min_samples_split=8, n_estimators=15; total time=   0.0s\n",
      "[CV] END max_depth=200, max_features=sqrt, min_samples_leaf=4, min_samples_split=8, n_estimators=15; total time=   0.0s\n",
      "[CV] END max_depth=200, max_features=sqrt, min_samples_leaf=8, min_samples_split=2, n_estimators=15; total time=   0.0s\n",
      "[CV] END max_depth=200, max_features=sqrt, min_samples_leaf=8, min_samples_split=2, n_estimators=15; total time=   0.0s\n",
      "[CV] END max_depth=200, max_features=sqrt, min_samples_leaf=8, min_samples_split=2, n_estimators=15; total time=   0.0s\n",
      "[CV] END max_depth=200, max_features=sqrt, min_samples_leaf=8, min_samples_split=2, n_estimators=15; total time=   0.0s\n",
      "[CV] END max_depth=200, max_features=sqrt, min_samples_leaf=8, min_samples_split=2, n_estimators=15; total time=   0.0s\n",
      "[CV] END max_depth=200, max_features=sqrt, min_samples_leaf=8, min_samples_split=4, n_estimators=15; total time=   0.0s\n",
      "[CV] END max_depth=200, max_features=sqrt, min_samples_leaf=8, min_samples_split=4, n_estimators=15; total time=   0.0s\n",
      "[CV] END max_depth=200, max_features=sqrt, min_samples_leaf=8, min_samples_split=4, n_estimators=15; total time=   0.0s\n",
      "[CV] END max_depth=200, max_features=sqrt, min_samples_leaf=8, min_samples_split=4, n_estimators=15; total time=   0.0s\n",
      "[CV] END max_depth=200, max_features=sqrt, min_samples_leaf=8, min_samples_split=4, n_estimators=15; total time=   0.0s\n",
      "[CV] END max_depth=200, max_features=sqrt, min_samples_leaf=8, min_samples_split=6, n_estimators=15; total time=   0.0s\n",
      "[CV] END max_depth=200, max_features=sqrt, min_samples_leaf=8, min_samples_split=6, n_estimators=15; total time=   0.0s\n",
      "[CV] END max_depth=200, max_features=sqrt, min_samples_leaf=8, min_samples_split=6, n_estimators=15; total time=   0.0s\n",
      "[CV] END max_depth=200, max_features=sqrt, min_samples_leaf=8, min_samples_split=6, n_estimators=15; total time=   0.0s\n",
      "[CV] END max_depth=200, max_features=sqrt, min_samples_leaf=8, min_samples_split=6, n_estimators=15; total time=   0.0s\n",
      "[CV] END max_depth=200, max_features=sqrt, min_samples_leaf=8, min_samples_split=8, n_estimators=15; total time=   0.0s\n",
      "[CV] END max_depth=200, max_features=sqrt, min_samples_leaf=8, min_samples_split=8, n_estimators=15; total time=   0.0s\n",
      "[CV] END max_depth=200, max_features=sqrt, min_samples_leaf=8, min_samples_split=8, n_estimators=15; total time=   0.0s\n",
      "[CV] END max_depth=200, max_features=sqrt, min_samples_leaf=8, min_samples_split=8, n_estimators=15; total time=   0.0s\n",
      "[CV] END max_depth=200, max_features=sqrt, min_samples_leaf=8, min_samples_split=8, n_estimators=15; total time=   0.0s\n",
      "[CV] END max_depth=200, max_features=sqrt, min_samples_leaf=12, min_samples_split=2, n_estimators=15; total time=   0.0s\n",
      "[CV] END max_depth=200, max_features=sqrt, min_samples_leaf=12, min_samples_split=2, n_estimators=15; total time=   0.0s\n",
      "[CV] END max_depth=200, max_features=sqrt, min_samples_leaf=12, min_samples_split=2, n_estimators=15; total time=   0.0s\n",
      "[CV] END max_depth=200, max_features=sqrt, min_samples_leaf=12, min_samples_split=2, n_estimators=15; total time=   0.0s\n",
      "[CV] END max_depth=200, max_features=sqrt, min_samples_leaf=12, min_samples_split=2, n_estimators=15; total time=   0.0s\n",
      "[CV] END max_depth=200, max_features=sqrt, min_samples_leaf=12, min_samples_split=4, n_estimators=15; total time=   0.0s\n"
     ]
    },
    {
     "name": "stdout",
     "output_type": "stream",
     "text": [
      "[CV] END max_depth=200, max_features=sqrt, min_samples_leaf=12, min_samples_split=4, n_estimators=15; total time=   0.0s\n",
      "[CV] END max_depth=200, max_features=sqrt, min_samples_leaf=12, min_samples_split=4, n_estimators=15; total time=   0.0s\n",
      "[CV] END max_depth=200, max_features=sqrt, min_samples_leaf=12, min_samples_split=4, n_estimators=15; total time=   0.0s\n",
      "[CV] END max_depth=200, max_features=sqrt, min_samples_leaf=12, min_samples_split=4, n_estimators=15; total time=   0.0s\n",
      "[CV] END max_depth=200, max_features=sqrt, min_samples_leaf=12, min_samples_split=6, n_estimators=15; total time=   0.0s\n",
      "[CV] END max_depth=200, max_features=sqrt, min_samples_leaf=12, min_samples_split=6, n_estimators=15; total time=   0.0s\n",
      "[CV] END max_depth=200, max_features=sqrt, min_samples_leaf=12, min_samples_split=6, n_estimators=15; total time=   0.0s\n",
      "[CV] END max_depth=200, max_features=sqrt, min_samples_leaf=12, min_samples_split=6, n_estimators=15; total time=   0.0s\n",
      "[CV] END max_depth=200, max_features=sqrt, min_samples_leaf=12, min_samples_split=6, n_estimators=15; total time=   0.0s\n",
      "[CV] END max_depth=200, max_features=sqrt, min_samples_leaf=12, min_samples_split=8, n_estimators=15; total time=   0.0s\n",
      "[CV] END max_depth=200, max_features=sqrt, min_samples_leaf=12, min_samples_split=8, n_estimators=15; total time=   0.0s\n",
      "[CV] END max_depth=200, max_features=sqrt, min_samples_leaf=12, min_samples_split=8, n_estimators=15; total time=   0.0s\n",
      "[CV] END max_depth=200, max_features=sqrt, min_samples_leaf=12, min_samples_split=8, n_estimators=15; total time=   0.0s\n",
      "[CV] END max_depth=200, max_features=sqrt, min_samples_leaf=12, min_samples_split=8, n_estimators=15; total time=   0.0s\n",
      "[CV] END max_depth=200, max_features=sqrt, min_samples_leaf=16, min_samples_split=2, n_estimators=15; total time=   0.0s\n",
      "[CV] END max_depth=200, max_features=sqrt, min_samples_leaf=16, min_samples_split=2, n_estimators=15; total time=   0.0s\n",
      "[CV] END max_depth=200, max_features=sqrt, min_samples_leaf=16, min_samples_split=2, n_estimators=15; total time=   0.0s\n",
      "[CV] END max_depth=200, max_features=sqrt, min_samples_leaf=16, min_samples_split=2, n_estimators=15; total time=   0.0s\n",
      "[CV] END max_depth=200, max_features=sqrt, min_samples_leaf=16, min_samples_split=2, n_estimators=15; total time=   0.0s\n",
      "[CV] END max_depth=200, max_features=sqrt, min_samples_leaf=16, min_samples_split=4, n_estimators=15; total time=   0.0s\n",
      "[CV] END max_depth=200, max_features=sqrt, min_samples_leaf=16, min_samples_split=4, n_estimators=15; total time=   0.0s\n",
      "[CV] END max_depth=200, max_features=sqrt, min_samples_leaf=16, min_samples_split=4, n_estimators=15; total time=   0.0s\n",
      "[CV] END max_depth=200, max_features=sqrt, min_samples_leaf=16, min_samples_split=4, n_estimators=15; total time=   0.0s\n",
      "[CV] END max_depth=200, max_features=sqrt, min_samples_leaf=16, min_samples_split=4, n_estimators=15; total time=   0.0s\n",
      "[CV] END max_depth=200, max_features=sqrt, min_samples_leaf=16, min_samples_split=6, n_estimators=15; total time=   0.0s\n",
      "[CV] END max_depth=200, max_features=sqrt, min_samples_leaf=16, min_samples_split=6, n_estimators=15; total time=   0.0s\n",
      "[CV] END max_depth=200, max_features=sqrt, min_samples_leaf=16, min_samples_split=6, n_estimators=15; total time=   0.0s\n",
      "[CV] END max_depth=200, max_features=sqrt, min_samples_leaf=16, min_samples_split=6, n_estimators=15; total time=   0.0s\n",
      "[CV] END max_depth=200, max_features=sqrt, min_samples_leaf=16, min_samples_split=6, n_estimators=15; total time=   0.0s\n",
      "[CV] END max_depth=200, max_features=sqrt, min_samples_leaf=16, min_samples_split=8, n_estimators=15; total time=   0.0s\n",
      "[CV] END max_depth=200, max_features=sqrt, min_samples_leaf=16, min_samples_split=8, n_estimators=15; total time=   0.0s\n",
      "[CV] END max_depth=200, max_features=sqrt, min_samples_leaf=16, min_samples_split=8, n_estimators=15; total time=   0.0s\n",
      "[CV] END max_depth=200, max_features=sqrt, min_samples_leaf=16, min_samples_split=8, n_estimators=15; total time=   0.0s\n",
      "[CV] END max_depth=200, max_features=sqrt, min_samples_leaf=16, min_samples_split=8, n_estimators=15; total time=   0.0s\n",
      "[CV] END max_depth=200, max_features=sqrt, min_samples_leaf=20, min_samples_split=2, n_estimators=15; total time=   0.0s\n",
      "[CV] END max_depth=200, max_features=sqrt, min_samples_leaf=20, min_samples_split=2, n_estimators=15; total time=   0.0s\n",
      "[CV] END max_depth=200, max_features=sqrt, min_samples_leaf=20, min_samples_split=2, n_estimators=15; total time=   0.0s\n",
      "[CV] END max_depth=200, max_features=sqrt, min_samples_leaf=20, min_samples_split=2, n_estimators=15; total time=   0.0s\n",
      "[CV] END max_depth=200, max_features=sqrt, min_samples_leaf=20, min_samples_split=2, n_estimators=15; total time=   0.0s\n",
      "[CV] END max_depth=200, max_features=sqrt, min_samples_leaf=20, min_samples_split=4, n_estimators=15; total time=   0.0s\n",
      "[CV] END max_depth=200, max_features=sqrt, min_samples_leaf=20, min_samples_split=4, n_estimators=15; total time=   0.0s\n",
      "[CV] END max_depth=200, max_features=sqrt, min_samples_leaf=20, min_samples_split=4, n_estimators=15; total time=   0.0s\n",
      "[CV] END max_depth=200, max_features=sqrt, min_samples_leaf=20, min_samples_split=4, n_estimators=15; total time=   0.0s\n",
      "[CV] END max_depth=200, max_features=sqrt, min_samples_leaf=20, min_samples_split=4, n_estimators=15; total time=   0.0s\n",
      "[CV] END max_depth=200, max_features=sqrt, min_samples_leaf=20, min_samples_split=6, n_estimators=15; total time=   0.0s\n",
      "[CV] END max_depth=200, max_features=sqrt, min_samples_leaf=20, min_samples_split=6, n_estimators=15; total time=   0.0s\n",
      "[CV] END max_depth=200, max_features=sqrt, min_samples_leaf=20, min_samples_split=6, n_estimators=15; total time=   0.0s\n",
      "[CV] END max_depth=200, max_features=sqrt, min_samples_leaf=20, min_samples_split=6, n_estimators=15; total time=   0.0s\n",
      "[CV] END max_depth=200, max_features=sqrt, min_samples_leaf=20, min_samples_split=6, n_estimators=15; total time=   0.0s\n",
      "[CV] END max_depth=200, max_features=sqrt, min_samples_leaf=20, min_samples_split=8, n_estimators=15; total time=   0.0s\n",
      "[CV] END max_depth=200, max_features=sqrt, min_samples_leaf=20, min_samples_split=8, n_estimators=15; total time=   0.0s\n",
      "[CV] END max_depth=200, max_features=sqrt, min_samples_leaf=20, min_samples_split=8, n_estimators=15; total time=   0.0s\n",
      "[CV] END max_depth=200, max_features=sqrt, min_samples_leaf=20, min_samples_split=8, n_estimators=15; total time=   0.0s\n",
      "[CV] END max_depth=200, max_features=sqrt, min_samples_leaf=20, min_samples_split=8, n_estimators=15; total time=   0.0s\n",
      "[CV] END max_depth=500, max_features=sqrt, min_samples_leaf=4, min_samples_split=2, n_estimators=15; total time=   0.0s\n",
      "[CV] END max_depth=500, max_features=sqrt, min_samples_leaf=4, min_samples_split=2, n_estimators=15; total time=   0.0s\n",
      "[CV] END max_depth=500, max_features=sqrt, min_samples_leaf=4, min_samples_split=2, n_estimators=15; total time=   0.0s\n",
      "[CV] END max_depth=500, max_features=sqrt, min_samples_leaf=4, min_samples_split=2, n_estimators=15; total time=   0.0s\n",
      "[CV] END max_depth=500, max_features=sqrt, min_samples_leaf=4, min_samples_split=2, n_estimators=15; total time=   0.0s\n",
      "[CV] END max_depth=500, max_features=sqrt, min_samples_leaf=4, min_samples_split=4, n_estimators=15; total time=   0.0s\n",
      "[CV] END max_depth=500, max_features=sqrt, min_samples_leaf=4, min_samples_split=4, n_estimators=15; total time=   0.0s\n",
      "[CV] END max_depth=500, max_features=sqrt, min_samples_leaf=4, min_samples_split=4, n_estimators=15; total time=   0.0s\n",
      "[CV] END max_depth=500, max_features=sqrt, min_samples_leaf=4, min_samples_split=4, n_estimators=15; total time=   0.0s\n",
      "[CV] END max_depth=500, max_features=sqrt, min_samples_leaf=4, min_samples_split=4, n_estimators=15; total time=   0.0s\n",
      "[CV] END max_depth=500, max_features=sqrt, min_samples_leaf=4, min_samples_split=6, n_estimators=15; total time=   0.0s\n",
      "[CV] END max_depth=500, max_features=sqrt, min_samples_leaf=4, min_samples_split=6, n_estimators=15; total time=   0.0s\n",
      "[CV] END max_depth=500, max_features=sqrt, min_samples_leaf=4, min_samples_split=6, n_estimators=15; total time=   0.0s\n",
      "[CV] END max_depth=500, max_features=sqrt, min_samples_leaf=4, min_samples_split=6, n_estimators=15; total time=   0.0s\n",
      "[CV] END max_depth=500, max_features=sqrt, min_samples_leaf=4, min_samples_split=6, n_estimators=15; total time=   0.0s\n",
      "[CV] END max_depth=500, max_features=sqrt, min_samples_leaf=4, min_samples_split=8, n_estimators=15; total time=   0.0s\n",
      "[CV] END max_depth=500, max_features=sqrt, min_samples_leaf=4, min_samples_split=8, n_estimators=15; total time=   0.0s\n",
      "[CV] END max_depth=500, max_features=sqrt, min_samples_leaf=4, min_samples_split=8, n_estimators=15; total time=   0.0s\n",
      "[CV] END max_depth=500, max_features=sqrt, min_samples_leaf=4, min_samples_split=8, n_estimators=15; total time=   0.0s\n",
      "[CV] END max_depth=500, max_features=sqrt, min_samples_leaf=4, min_samples_split=8, n_estimators=15; total time=   0.0s\n",
      "[CV] END max_depth=500, max_features=sqrt, min_samples_leaf=8, min_samples_split=2, n_estimators=15; total time=   0.0s\n",
      "[CV] END max_depth=500, max_features=sqrt, min_samples_leaf=8, min_samples_split=2, n_estimators=15; total time=   0.0s\n",
      "[CV] END max_depth=500, max_features=sqrt, min_samples_leaf=8, min_samples_split=2, n_estimators=15; total time=   0.0s\n",
      "[CV] END max_depth=500, max_features=sqrt, min_samples_leaf=8, min_samples_split=2, n_estimators=15; total time=   0.0s\n",
      "[CV] END max_depth=500, max_features=sqrt, min_samples_leaf=8, min_samples_split=2, n_estimators=15; total time=   0.0s\n",
      "[CV] END max_depth=500, max_features=sqrt, min_samples_leaf=8, min_samples_split=4, n_estimators=15; total time=   0.0s\n"
     ]
    },
    {
     "name": "stdout",
     "output_type": "stream",
     "text": [
      "[CV] END max_depth=500, max_features=sqrt, min_samples_leaf=8, min_samples_split=4, n_estimators=15; total time=   0.0s\n",
      "[CV] END max_depth=500, max_features=sqrt, min_samples_leaf=8, min_samples_split=4, n_estimators=15; total time=   0.0s\n",
      "[CV] END max_depth=500, max_features=sqrt, min_samples_leaf=8, min_samples_split=4, n_estimators=15; total time=   0.0s\n",
      "[CV] END max_depth=500, max_features=sqrt, min_samples_leaf=8, min_samples_split=4, n_estimators=15; total time=   0.0s\n",
      "[CV] END max_depth=500, max_features=sqrt, min_samples_leaf=8, min_samples_split=6, n_estimators=15; total time=   0.0s\n",
      "[CV] END max_depth=500, max_features=sqrt, min_samples_leaf=8, min_samples_split=6, n_estimators=15; total time=   0.0s\n",
      "[CV] END max_depth=500, max_features=sqrt, min_samples_leaf=8, min_samples_split=6, n_estimators=15; total time=   0.0s\n",
      "[CV] END max_depth=500, max_features=sqrt, min_samples_leaf=8, min_samples_split=6, n_estimators=15; total time=   0.0s\n",
      "[CV] END max_depth=500, max_features=sqrt, min_samples_leaf=8, min_samples_split=6, n_estimators=15; total time=   0.0s\n",
      "[CV] END max_depth=500, max_features=sqrt, min_samples_leaf=8, min_samples_split=8, n_estimators=15; total time=   0.0s\n",
      "[CV] END max_depth=500, max_features=sqrt, min_samples_leaf=8, min_samples_split=8, n_estimators=15; total time=   0.0s\n",
      "[CV] END max_depth=500, max_features=sqrt, min_samples_leaf=8, min_samples_split=8, n_estimators=15; total time=   0.0s\n",
      "[CV] END max_depth=500, max_features=sqrt, min_samples_leaf=8, min_samples_split=8, n_estimators=15; total time=   0.0s\n",
      "[CV] END max_depth=500, max_features=sqrt, min_samples_leaf=8, min_samples_split=8, n_estimators=15; total time=   0.0s\n",
      "[CV] END max_depth=500, max_features=sqrt, min_samples_leaf=12, min_samples_split=2, n_estimators=15; total time=   0.0s\n",
      "[CV] END max_depth=500, max_features=sqrt, min_samples_leaf=12, min_samples_split=2, n_estimators=15; total time=   0.0s\n",
      "[CV] END max_depth=500, max_features=sqrt, min_samples_leaf=12, min_samples_split=2, n_estimators=15; total time=   0.0s\n",
      "[CV] END max_depth=500, max_features=sqrt, min_samples_leaf=12, min_samples_split=2, n_estimators=15; total time=   0.0s\n",
      "[CV] END max_depth=500, max_features=sqrt, min_samples_leaf=12, min_samples_split=2, n_estimators=15; total time=   0.0s\n",
      "[CV] END max_depth=500, max_features=sqrt, min_samples_leaf=12, min_samples_split=4, n_estimators=15; total time=   0.0s\n",
      "[CV] END max_depth=500, max_features=sqrt, min_samples_leaf=12, min_samples_split=4, n_estimators=15; total time=   0.0s\n",
      "[CV] END max_depth=500, max_features=sqrt, min_samples_leaf=12, min_samples_split=4, n_estimators=15; total time=   0.0s\n",
      "[CV] END max_depth=500, max_features=sqrt, min_samples_leaf=12, min_samples_split=4, n_estimators=15; total time=   0.0s\n",
      "[CV] END max_depth=500, max_features=sqrt, min_samples_leaf=12, min_samples_split=4, n_estimators=15; total time=   0.0s\n",
      "[CV] END max_depth=500, max_features=sqrt, min_samples_leaf=12, min_samples_split=6, n_estimators=15; total time=   0.0s\n",
      "[CV] END max_depth=500, max_features=sqrt, min_samples_leaf=12, min_samples_split=6, n_estimators=15; total time=   0.0s\n",
      "[CV] END max_depth=500, max_features=sqrt, min_samples_leaf=12, min_samples_split=6, n_estimators=15; total time=   0.0s\n",
      "[CV] END max_depth=500, max_features=sqrt, min_samples_leaf=12, min_samples_split=6, n_estimators=15; total time=   0.0s\n",
      "[CV] END max_depth=500, max_features=sqrt, min_samples_leaf=12, min_samples_split=6, n_estimators=15; total time=   0.0s\n",
      "[CV] END max_depth=500, max_features=sqrt, min_samples_leaf=12, min_samples_split=8, n_estimators=15; total time=   0.0s\n",
      "[CV] END max_depth=500, max_features=sqrt, min_samples_leaf=12, min_samples_split=8, n_estimators=15; total time=   0.0s\n",
      "[CV] END max_depth=500, max_features=sqrt, min_samples_leaf=12, min_samples_split=8, n_estimators=15; total time=   0.0s\n",
      "[CV] END max_depth=500, max_features=sqrt, min_samples_leaf=12, min_samples_split=8, n_estimators=15; total time=   0.0s\n",
      "[CV] END max_depth=500, max_features=sqrt, min_samples_leaf=12, min_samples_split=8, n_estimators=15; total time=   0.0s\n",
      "[CV] END max_depth=500, max_features=sqrt, min_samples_leaf=16, min_samples_split=2, n_estimators=15; total time=   0.0s\n",
      "[CV] END max_depth=500, max_features=sqrt, min_samples_leaf=16, min_samples_split=2, n_estimators=15; total time=   0.0s\n",
      "[CV] END max_depth=500, max_features=sqrt, min_samples_leaf=16, min_samples_split=2, n_estimators=15; total time=   0.0s\n",
      "[CV] END max_depth=500, max_features=sqrt, min_samples_leaf=16, min_samples_split=2, n_estimators=15; total time=   0.0s\n",
      "[CV] END max_depth=500, max_features=sqrt, min_samples_leaf=16, min_samples_split=2, n_estimators=15; total time=   0.0s\n",
      "[CV] END max_depth=500, max_features=sqrt, min_samples_leaf=16, min_samples_split=4, n_estimators=15; total time=   0.0s\n",
      "[CV] END max_depth=500, max_features=sqrt, min_samples_leaf=16, min_samples_split=4, n_estimators=15; total time=   0.0s\n",
      "[CV] END max_depth=500, max_features=sqrt, min_samples_leaf=16, min_samples_split=4, n_estimators=15; total time=   0.0s\n",
      "[CV] END max_depth=500, max_features=sqrt, min_samples_leaf=16, min_samples_split=4, n_estimators=15; total time=   0.0s\n",
      "[CV] END max_depth=500, max_features=sqrt, min_samples_leaf=16, min_samples_split=4, n_estimators=15; total time=   0.0s\n",
      "[CV] END max_depth=500, max_features=sqrt, min_samples_leaf=16, min_samples_split=6, n_estimators=15; total time=   0.0s\n",
      "[CV] END max_depth=500, max_features=sqrt, min_samples_leaf=16, min_samples_split=6, n_estimators=15; total time=   0.0s\n",
      "[CV] END max_depth=500, max_features=sqrt, min_samples_leaf=16, min_samples_split=6, n_estimators=15; total time=   0.0s\n",
      "[CV] END max_depth=500, max_features=sqrt, min_samples_leaf=16, min_samples_split=6, n_estimators=15; total time=   0.0s\n",
      "[CV] END max_depth=500, max_features=sqrt, min_samples_leaf=16, min_samples_split=6, n_estimators=15; total time=   0.0s\n",
      "[CV] END max_depth=500, max_features=sqrt, min_samples_leaf=16, min_samples_split=8, n_estimators=15; total time=   0.0s\n",
      "[CV] END max_depth=500, max_features=sqrt, min_samples_leaf=16, min_samples_split=8, n_estimators=15; total time=   0.0s\n",
      "[CV] END max_depth=500, max_features=sqrt, min_samples_leaf=16, min_samples_split=8, n_estimators=15; total time=   0.0s\n",
      "[CV] END max_depth=500, max_features=sqrt, min_samples_leaf=16, min_samples_split=8, n_estimators=15; total time=   0.0s\n",
      "[CV] END max_depth=500, max_features=sqrt, min_samples_leaf=16, min_samples_split=8, n_estimators=15; total time=   0.0s\n",
      "[CV] END max_depth=500, max_features=sqrt, min_samples_leaf=20, min_samples_split=2, n_estimators=15; total time=   0.0s\n",
      "[CV] END max_depth=500, max_features=sqrt, min_samples_leaf=20, min_samples_split=2, n_estimators=15; total time=   0.0s\n",
      "[CV] END max_depth=500, max_features=sqrt, min_samples_leaf=20, min_samples_split=2, n_estimators=15; total time=   0.0s\n",
      "[CV] END max_depth=500, max_features=sqrt, min_samples_leaf=20, min_samples_split=2, n_estimators=15; total time=   0.0s\n",
      "[CV] END max_depth=500, max_features=sqrt, min_samples_leaf=20, min_samples_split=2, n_estimators=15; total time=   0.0s\n",
      "[CV] END max_depth=500, max_features=sqrt, min_samples_leaf=20, min_samples_split=4, n_estimators=15; total time=   0.0s\n",
      "[CV] END max_depth=500, max_features=sqrt, min_samples_leaf=20, min_samples_split=4, n_estimators=15; total time=   0.0s\n",
      "[CV] END max_depth=500, max_features=sqrt, min_samples_leaf=20, min_samples_split=4, n_estimators=15; total time=   0.0s\n",
      "[CV] END max_depth=500, max_features=sqrt, min_samples_leaf=20, min_samples_split=4, n_estimators=15; total time=   0.0s\n",
      "[CV] END max_depth=500, max_features=sqrt, min_samples_leaf=20, min_samples_split=4, n_estimators=15; total time=   0.0s\n",
      "[CV] END max_depth=500, max_features=sqrt, min_samples_leaf=20, min_samples_split=6, n_estimators=15; total time=   0.0s\n",
      "[CV] END max_depth=500, max_features=sqrt, min_samples_leaf=20, min_samples_split=6, n_estimators=15; total time=   0.0s\n",
      "[CV] END max_depth=500, max_features=sqrt, min_samples_leaf=20, min_samples_split=6, n_estimators=15; total time=   0.0s\n",
      "[CV] END max_depth=500, max_features=sqrt, min_samples_leaf=20, min_samples_split=6, n_estimators=15; total time=   0.0s\n",
      "[CV] END max_depth=500, max_features=sqrt, min_samples_leaf=20, min_samples_split=6, n_estimators=15; total time=   0.0s\n",
      "[CV] END max_depth=500, max_features=sqrt, min_samples_leaf=20, min_samples_split=8, n_estimators=15; total time=   0.0s\n",
      "[CV] END max_depth=500, max_features=sqrt, min_samples_leaf=20, min_samples_split=8, n_estimators=15; total time=   0.0s\n",
      "[CV] END max_depth=500, max_features=sqrt, min_samples_leaf=20, min_samples_split=8, n_estimators=15; total time=   0.0s\n",
      "[CV] END max_depth=500, max_features=sqrt, min_samples_leaf=20, min_samples_split=8, n_estimators=15; total time=   0.0s\n",
      "[CV] END max_depth=500, max_features=sqrt, min_samples_leaf=20, min_samples_split=8, n_estimators=15; total time=   0.0s\n",
      "[CV] END max_depth=1200, max_features=sqrt, min_samples_leaf=4, min_samples_split=2, n_estimators=15; total time=   0.0s\n",
      "[CV] END max_depth=1200, max_features=sqrt, min_samples_leaf=4, min_samples_split=2, n_estimators=15; total time=   0.0s\n",
      "[CV] END max_depth=1200, max_features=sqrt, min_samples_leaf=4, min_samples_split=2, n_estimators=15; total time=   0.0s\n",
      "[CV] END max_depth=1200, max_features=sqrt, min_samples_leaf=4, min_samples_split=2, n_estimators=15; total time=   0.0s\n",
      "[CV] END max_depth=1200, max_features=sqrt, min_samples_leaf=4, min_samples_split=2, n_estimators=15; total time=   0.0s\n"
     ]
    },
    {
     "name": "stdout",
     "output_type": "stream",
     "text": [
      "[CV] END max_depth=1200, max_features=sqrt, min_samples_leaf=4, min_samples_split=4, n_estimators=15; total time=   0.0s\n",
      "[CV] END max_depth=1200, max_features=sqrt, min_samples_leaf=4, min_samples_split=4, n_estimators=15; total time=   0.0s\n",
      "[CV] END max_depth=1200, max_features=sqrt, min_samples_leaf=4, min_samples_split=4, n_estimators=15; total time=   0.0s\n",
      "[CV] END max_depth=1200, max_features=sqrt, min_samples_leaf=4, min_samples_split=4, n_estimators=15; total time=   0.0s\n",
      "[CV] END max_depth=1200, max_features=sqrt, min_samples_leaf=4, min_samples_split=4, n_estimators=15; total time=   0.0s\n",
      "[CV] END max_depth=1200, max_features=sqrt, min_samples_leaf=4, min_samples_split=6, n_estimators=15; total time=   0.0s\n",
      "[CV] END max_depth=1200, max_features=sqrt, min_samples_leaf=4, min_samples_split=6, n_estimators=15; total time=   0.0s\n",
      "[CV] END max_depth=1200, max_features=sqrt, min_samples_leaf=4, min_samples_split=6, n_estimators=15; total time=   0.0s\n",
      "[CV] END max_depth=1200, max_features=sqrt, min_samples_leaf=4, min_samples_split=6, n_estimators=15; total time=   0.0s\n",
      "[CV] END max_depth=1200, max_features=sqrt, min_samples_leaf=4, min_samples_split=6, n_estimators=15; total time=   0.0s\n",
      "[CV] END max_depth=1200, max_features=sqrt, min_samples_leaf=4, min_samples_split=8, n_estimators=15; total time=   0.0s\n",
      "[CV] END max_depth=1200, max_features=sqrt, min_samples_leaf=4, min_samples_split=8, n_estimators=15; total time=   0.0s\n",
      "[CV] END max_depth=1200, max_features=sqrt, min_samples_leaf=4, min_samples_split=8, n_estimators=15; total time=   0.0s\n",
      "[CV] END max_depth=1200, max_features=sqrt, min_samples_leaf=4, min_samples_split=8, n_estimators=15; total time=   0.0s\n",
      "[CV] END max_depth=1200, max_features=sqrt, min_samples_leaf=4, min_samples_split=8, n_estimators=15; total time=   0.0s\n",
      "[CV] END max_depth=1200, max_features=sqrt, min_samples_leaf=8, min_samples_split=2, n_estimators=15; total time=   0.0s\n",
      "[CV] END max_depth=1200, max_features=sqrt, min_samples_leaf=8, min_samples_split=2, n_estimators=15; total time=   0.0s\n",
      "[CV] END max_depth=1200, max_features=sqrt, min_samples_leaf=8, min_samples_split=2, n_estimators=15; total time=   0.0s\n",
      "[CV] END max_depth=1200, max_features=sqrt, min_samples_leaf=8, min_samples_split=2, n_estimators=15; total time=   0.0s\n",
      "[CV] END max_depth=1200, max_features=sqrt, min_samples_leaf=8, min_samples_split=2, n_estimators=15; total time=   0.0s\n",
      "[CV] END max_depth=1200, max_features=sqrt, min_samples_leaf=8, min_samples_split=4, n_estimators=15; total time=   0.0s\n",
      "[CV] END max_depth=1200, max_features=sqrt, min_samples_leaf=8, min_samples_split=4, n_estimators=15; total time=   0.0s\n",
      "[CV] END max_depth=1200, max_features=sqrt, min_samples_leaf=8, min_samples_split=4, n_estimators=15; total time=   0.0s\n",
      "[CV] END max_depth=1200, max_features=sqrt, min_samples_leaf=8, min_samples_split=4, n_estimators=15; total time=   0.0s\n",
      "[CV] END max_depth=1200, max_features=sqrt, min_samples_leaf=8, min_samples_split=4, n_estimators=15; total time=   0.0s\n",
      "[CV] END max_depth=1200, max_features=sqrt, min_samples_leaf=8, min_samples_split=6, n_estimators=15; total time=   0.0s\n",
      "[CV] END max_depth=1200, max_features=sqrt, min_samples_leaf=8, min_samples_split=6, n_estimators=15; total time=   0.0s\n",
      "[CV] END max_depth=1200, max_features=sqrt, min_samples_leaf=8, min_samples_split=6, n_estimators=15; total time=   0.0s\n",
      "[CV] END max_depth=1200, max_features=sqrt, min_samples_leaf=8, min_samples_split=6, n_estimators=15; total time=   0.0s\n",
      "[CV] END max_depth=1200, max_features=sqrt, min_samples_leaf=8, min_samples_split=6, n_estimators=15; total time=   0.0s\n",
      "[CV] END max_depth=1200, max_features=sqrt, min_samples_leaf=8, min_samples_split=8, n_estimators=15; total time=   0.0s\n",
      "[CV] END max_depth=1200, max_features=sqrt, min_samples_leaf=8, min_samples_split=8, n_estimators=15; total time=   0.0s\n",
      "[CV] END max_depth=1200, max_features=sqrt, min_samples_leaf=8, min_samples_split=8, n_estimators=15; total time=   0.0s\n",
      "[CV] END max_depth=1200, max_features=sqrt, min_samples_leaf=8, min_samples_split=8, n_estimators=15; total time=   0.0s\n",
      "[CV] END max_depth=1200, max_features=sqrt, min_samples_leaf=8, min_samples_split=8, n_estimators=15; total time=   0.0s\n",
      "[CV] END max_depth=1200, max_features=sqrt, min_samples_leaf=12, min_samples_split=2, n_estimators=15; total time=   0.0s\n",
      "[CV] END max_depth=1200, max_features=sqrt, min_samples_leaf=12, min_samples_split=2, n_estimators=15; total time=   0.0s\n",
      "[CV] END max_depth=1200, max_features=sqrt, min_samples_leaf=12, min_samples_split=2, n_estimators=15; total time=   0.0s\n",
      "[CV] END max_depth=1200, max_features=sqrt, min_samples_leaf=12, min_samples_split=2, n_estimators=15; total time=   0.0s\n",
      "[CV] END max_depth=1200, max_features=sqrt, min_samples_leaf=12, min_samples_split=2, n_estimators=15; total time=   0.0s\n",
      "[CV] END max_depth=1200, max_features=sqrt, min_samples_leaf=12, min_samples_split=4, n_estimators=15; total time=   0.0s\n",
      "[CV] END max_depth=1200, max_features=sqrt, min_samples_leaf=12, min_samples_split=4, n_estimators=15; total time=   0.0s\n",
      "[CV] END max_depth=1200, max_features=sqrt, min_samples_leaf=12, min_samples_split=4, n_estimators=15; total time=   0.0s\n",
      "[CV] END max_depth=1200, max_features=sqrt, min_samples_leaf=12, min_samples_split=4, n_estimators=15; total time=   0.0s\n",
      "[CV] END max_depth=1200, max_features=sqrt, min_samples_leaf=12, min_samples_split=4, n_estimators=15; total time=   0.0s\n",
      "[CV] END max_depth=1200, max_features=sqrt, min_samples_leaf=12, min_samples_split=6, n_estimators=15; total time=   0.0s\n",
      "[CV] END max_depth=1200, max_features=sqrt, min_samples_leaf=12, min_samples_split=6, n_estimators=15; total time=   0.0s\n",
      "[CV] END max_depth=1200, max_features=sqrt, min_samples_leaf=12, min_samples_split=6, n_estimators=15; total time=   0.0s\n",
      "[CV] END max_depth=1200, max_features=sqrt, min_samples_leaf=12, min_samples_split=6, n_estimators=15; total time=   0.0s\n",
      "[CV] END max_depth=1200, max_features=sqrt, min_samples_leaf=12, min_samples_split=6, n_estimators=15; total time=   0.0s\n",
      "[CV] END max_depth=1200, max_features=sqrt, min_samples_leaf=12, min_samples_split=8, n_estimators=15; total time=   0.0s\n",
      "[CV] END max_depth=1200, max_features=sqrt, min_samples_leaf=12, min_samples_split=8, n_estimators=15; total time=   0.0s\n",
      "[CV] END max_depth=1200, max_features=sqrt, min_samples_leaf=12, min_samples_split=8, n_estimators=15; total time=   0.0s\n",
      "[CV] END max_depth=1200, max_features=sqrt, min_samples_leaf=12, min_samples_split=8, n_estimators=15; total time=   0.0s\n",
      "[CV] END max_depth=1200, max_features=sqrt, min_samples_leaf=12, min_samples_split=8, n_estimators=15; total time=   0.0s\n",
      "[CV] END max_depth=1200, max_features=sqrt, min_samples_leaf=16, min_samples_split=2, n_estimators=15; total time=   0.0s\n",
      "[CV] END max_depth=1200, max_features=sqrt, min_samples_leaf=16, min_samples_split=2, n_estimators=15; total time=   0.0s\n",
      "[CV] END max_depth=1200, max_features=sqrt, min_samples_leaf=16, min_samples_split=2, n_estimators=15; total time=   0.0s\n",
      "[CV] END max_depth=1200, max_features=sqrt, min_samples_leaf=16, min_samples_split=2, n_estimators=15; total time=   0.0s\n",
      "[CV] END max_depth=1200, max_features=sqrt, min_samples_leaf=16, min_samples_split=2, n_estimators=15; total time=   0.0s\n",
      "[CV] END max_depth=1200, max_features=sqrt, min_samples_leaf=16, min_samples_split=4, n_estimators=15; total time=   0.0s\n",
      "[CV] END max_depth=1200, max_features=sqrt, min_samples_leaf=16, min_samples_split=4, n_estimators=15; total time=   0.0s\n",
      "[CV] END max_depth=1200, max_features=sqrt, min_samples_leaf=16, min_samples_split=4, n_estimators=15; total time=   0.0s\n",
      "[CV] END max_depth=1200, max_features=sqrt, min_samples_leaf=16, min_samples_split=4, n_estimators=15; total time=   0.0s\n",
      "[CV] END max_depth=1200, max_features=sqrt, min_samples_leaf=16, min_samples_split=4, n_estimators=15; total time=   0.0s\n",
      "[CV] END max_depth=1200, max_features=sqrt, min_samples_leaf=16, min_samples_split=6, n_estimators=15; total time=   0.0s\n",
      "[CV] END max_depth=1200, max_features=sqrt, min_samples_leaf=16, min_samples_split=6, n_estimators=15; total time=   0.0s\n",
      "[CV] END max_depth=1200, max_features=sqrt, min_samples_leaf=16, min_samples_split=6, n_estimators=15; total time=   0.0s\n",
      "[CV] END max_depth=1200, max_features=sqrt, min_samples_leaf=16, min_samples_split=6, n_estimators=15; total time=   0.0s\n",
      "[CV] END max_depth=1200, max_features=sqrt, min_samples_leaf=16, min_samples_split=6, n_estimators=15; total time=   0.0s\n",
      "[CV] END max_depth=1200, max_features=sqrt, min_samples_leaf=16, min_samples_split=8, n_estimators=15; total time=   0.0s\n",
      "[CV] END max_depth=1200, max_features=sqrt, min_samples_leaf=16, min_samples_split=8, n_estimators=15; total time=   0.0s\n",
      "[CV] END max_depth=1200, max_features=sqrt, min_samples_leaf=16, min_samples_split=8, n_estimators=15; total time=   0.0s\n",
      "[CV] END max_depth=1200, max_features=sqrt, min_samples_leaf=16, min_samples_split=8, n_estimators=15; total time=   0.0s\n",
      "[CV] END max_depth=1200, max_features=sqrt, min_samples_leaf=16, min_samples_split=8, n_estimators=15; total time=   0.0s\n",
      "[CV] END max_depth=1200, max_features=sqrt, min_samples_leaf=20, min_samples_split=2, n_estimators=15; total time=   0.0s\n"
     ]
    },
    {
     "name": "stdout",
     "output_type": "stream",
     "text": [
      "[CV] END max_depth=1200, max_features=sqrt, min_samples_leaf=20, min_samples_split=2, n_estimators=15; total time=   0.0s\n",
      "[CV] END max_depth=1200, max_features=sqrt, min_samples_leaf=20, min_samples_split=2, n_estimators=15; total time=   0.0s\n",
      "[CV] END max_depth=1200, max_features=sqrt, min_samples_leaf=20, min_samples_split=2, n_estimators=15; total time=   0.0s\n",
      "[CV] END max_depth=1200, max_features=sqrt, min_samples_leaf=20, min_samples_split=2, n_estimators=15; total time=   0.0s\n",
      "[CV] END max_depth=1200, max_features=sqrt, min_samples_leaf=20, min_samples_split=4, n_estimators=15; total time=   0.0s\n",
      "[CV] END max_depth=1200, max_features=sqrt, min_samples_leaf=20, min_samples_split=4, n_estimators=15; total time=   0.0s\n",
      "[CV] END max_depth=1200, max_features=sqrt, min_samples_leaf=20, min_samples_split=4, n_estimators=15; total time=   0.0s\n",
      "[CV] END max_depth=1200, max_features=sqrt, min_samples_leaf=20, min_samples_split=4, n_estimators=15; total time=   0.0s\n",
      "[CV] END max_depth=1200, max_features=sqrt, min_samples_leaf=20, min_samples_split=4, n_estimators=15; total time=   0.0s\n",
      "[CV] END max_depth=1200, max_features=sqrt, min_samples_leaf=20, min_samples_split=6, n_estimators=15; total time=   0.0s\n",
      "[CV] END max_depth=1200, max_features=sqrt, min_samples_leaf=20, min_samples_split=6, n_estimators=15; total time=   0.0s\n",
      "[CV] END max_depth=1200, max_features=sqrt, min_samples_leaf=20, min_samples_split=6, n_estimators=15; total time=   0.0s\n",
      "[CV] END max_depth=1200, max_features=sqrt, min_samples_leaf=20, min_samples_split=6, n_estimators=15; total time=   0.0s\n",
      "[CV] END max_depth=1200, max_features=sqrt, min_samples_leaf=20, min_samples_split=6, n_estimators=15; total time=   0.0s\n",
      "[CV] END max_depth=1200, max_features=sqrt, min_samples_leaf=20, min_samples_split=8, n_estimators=15; total time=   0.0s\n",
      "[CV] END max_depth=1200, max_features=sqrt, min_samples_leaf=20, min_samples_split=8, n_estimators=15; total time=   0.0s\n",
      "[CV] END max_depth=1200, max_features=sqrt, min_samples_leaf=20, min_samples_split=8, n_estimators=15; total time=   0.0s\n",
      "[CV] END max_depth=1200, max_features=sqrt, min_samples_leaf=20, min_samples_split=8, n_estimators=15; total time=   0.0s\n",
      "[CV] END max_depth=1200, max_features=sqrt, min_samples_leaf=20, min_samples_split=8, n_estimators=15; total time=   0.0s\n"
     ]
    }
   ],
   "source": [
    "from sklearn.model_selection import GridSearchCV\n",
    "\n",
    "np.random.seed(42)\n",
    "\n",
    "# split into X & y\n",
    "X = heart_disease_shuffled.drop(\"target\", axis=1)\n",
    "y = heart_disease_shuffled[\"target\"]\n",
    "\n",
    "# split into train and test sets\n",
    "X_train, X_test, y_train, y_test = train_test_split(X, y, test_size=0.2)\n",
    "\n",
    "# Instatiate RandomForestClassifier\n",
    "#  “n_jobs” to -1 when using a CPU and 1 when using a GPU\n",
    "clf = RandomForestClassifier(n_jobs=1)\n",
    "\n",
    "# setup RandomizeSearchCV\n",
    "gs_clf = GridSearchCV(estimator=clf,\n",
    "                      param_grid=grid_2,\n",
    "                      cv=5, # 5-fold cross-validation\n",
    "                      verbose=2) # print out results\n",
    "\n",
    "# Fit the RandomizedSearchCV version of clf\n",
    "gs_clf.fit(X_train, y_train);"
   ]
  },
  {
   "cell_type": "code",
   "execution_count": 144,
   "id": "acf4cf0b",
   "metadata": {},
   "outputs": [
    {
     "data": {
      "text/plain": [
       "{'max_depth': 90,\n",
       " 'max_features': 'sqrt',\n",
       " 'min_samples_leaf': 20,\n",
       " 'min_samples_split': 2,\n",
       " 'n_estimators': 15}"
      ]
     },
     "execution_count": 144,
     "metadata": {},
     "output_type": "execute_result"
    }
   ],
   "source": [
    "gs_clf.best_params_"
   ]
  },
  {
   "cell_type": "code",
   "execution_count": 145,
   "id": "83dbe8e6",
   "metadata": {},
   "outputs": [
    {
     "name": "stdout",
     "output_type": "stream",
     "text": [
      "Acc: 83.61%\n",
      "Precision: 0.76\n",
      "Recall: 0.93\n",
      "F1 score: 0.84\n"
     ]
    }
   ],
   "source": [
    "gs_y_preds = gs_clf.predict(X_test)\n",
    "\n",
    "# evaluate the predictions\n",
    "gs_metrics = evaluate_preds(y_test, gs_y_preds)"
   ]
  },
  {
   "cell_type": "markdown",
   "id": "bd5ee523",
   "metadata": {},
   "source": [
    "***compare `baseline`, `byHand`, `randomsearchCV` and `gridsearchCV` metrics***"
   ]
  },
  {
   "cell_type": "code",
   "execution_count": 146,
   "id": "541bdafb",
   "metadata": {
    "scrolled": false
   },
   "outputs": [
    {
     "data": {
      "image/png": "[encoded data removed]",
      "text/plain": [
       "<Figure size 1000x800 with 1 Axes>"
      ]
     },
     "metadata": {},
     "output_type": "display_data"
    }
   ],
   "source": [
    "compare_metrics = pd.DataFrame({\"baseline\": baseline_metrics,\n",
    "                                \"clf_2\": clf_2_metrics,\n",
    "                                \"clf_3\": clf_3_metrics,\n",
    "                                \"random search\": rs_metrics,\n",
    "                                \"grid search\": gs_metrics})\n",
    "\n",
    "compare_metrics.plot.bar(figsize=(10, 8));"
   ]
  },
  {
   "cell_type": "markdown",
   "id": "64292a06",
   "metadata": {},
   "source": [
    "### Quick Tip Correlation Analysis"
   ]
  },
  {
   "cell_type": "markdown",
   "id": "76916ae3",
   "metadata": {},
   "source": [
    "> In a hyperparameter tuning sense, there may be a better set we could find through more extensive searching with RandomizedSearchCV and GridSearchCV but it's likely these improvements will be marginal.\n",
    "\n",
    "***A few next ideas you could try:***\n",
    "\n",
    "* Collecting more data - Based on the results our models are getting now, it seems like they're finding some patterns. Collecting more data may improve a models ability to find patterns. However, your ability to do this will largely depend on the project you're working on.\n",
    "* Try a more advanced model - Although our tuned Random Forest model is doing pretty well, a more advanced ensemble method such as `XGBoost` or `CatBoost` might perform better."
   ]
  },
  {
   "cell_type": "markdown",
   "id": "0bb11f67",
   "metadata": {},
   "source": [
    "**CatBoost**"
   ]
  },
  {
   "cell_type": "code",
   "execution_count": 156,
   "id": "275505d3",
   "metadata": {
    "scrolled": true
   },
   "outputs": [
    {
     "name": "stdout",
     "output_type": "stream",
     "text": [
      "0:\tlearn: 0.6736525\ttotal: 13.8ms\tremaining: 606ms\n",
      "1:\tlearn: 0.6624411\ttotal: 37.9ms\tremaining: 815ms\n",
      "2:\tlearn: 0.6387086\ttotal: 39.4ms\tremaining: 552ms\n",
      "3:\tlearn: 0.6261675\ttotal: 83.6ms\tremaining: 857ms\n",
      "4:\tlearn: 0.6080305\ttotal: 85.6ms\tremaining: 685ms\n",
      "5:\tlearn: 0.5892769\ttotal: 91.2ms\tremaining: 593ms\n",
      "6:\tlearn: 0.5691822\ttotal: 92.6ms\tremaining: 503ms\n",
      "7:\tlearn: 0.5600740\ttotal: 137ms\tremaining: 635ms\n",
      "8:\tlearn: 0.5527363\ttotal: 218ms\tremaining: 872ms\n",
      "9:\tlearn: 0.5413063\ttotal: 223ms\tremaining: 782ms\n",
      "10:\tlearn: 0.5259595\ttotal: 224ms\tremaining: 692ms\n",
      "11:\tlearn: 0.5115339\ttotal: 227ms\tremaining: 625ms\n",
      "12:\tlearn: 0.5045568\ttotal: 309ms\tremaining: 761ms\n",
      "13:\tlearn: 0.4976245\ttotal: 350ms\tremaining: 775ms\n",
      "14:\tlearn: 0.4920891\ttotal: 503ms\tremaining: 1s\n",
      "15:\tlearn: 0.4798252\ttotal: 504ms\tremaining: 914ms\n",
      "16:\tlearn: 0.4728723\ttotal: 515ms\tremaining: 849ms\n",
      "17:\tlearn: 0.4664055\ttotal: 521ms\tremaining: 781ms\n",
      "18:\tlearn: 0.4599603\ttotal: 599ms\tremaining: 820ms\n",
      "19:\tlearn: 0.4547917\ttotal: 751ms\tremaining: 939ms\n",
      "20:\tlearn: 0.4499363\ttotal: 1.08s\tremaining: 1.24s\n",
      "21:\tlearn: 0.4441477\ttotal: 1.1s\tremaining: 1.15s\n",
      "22:\tlearn: 0.4388183\ttotal: 1.12s\tremaining: 1.07s\n",
      "23:\tlearn: 0.4341126\ttotal: 1.46s\tremaining: 1.28s\n",
      "24:\tlearn: 0.4203193\ttotal: 1.46s\tremaining: 1.17s\n",
      "25:\tlearn: 0.4149067\ttotal: 1.47s\tremaining: 1.07s\n",
      "26:\tlearn: 0.4043480\ttotal: 1.47s\tremaining: 982ms\n",
      "27:\tlearn: 0.4003349\ttotal: 1.78s\tremaining: 1.08s\n",
      "28:\tlearn: 0.3958634\ttotal: 1.79s\tremaining: 989ms\n",
      "29:\tlearn: 0.3886366\ttotal: 1.8s\tremaining: 903ms\n",
      "30:\tlearn: 0.3846302\ttotal: 1.89s\tremaining: 852ms\n",
      "31:\tlearn: 0.3806416\ttotal: 2.26s\tremaining: 918ms\n",
      "32:\tlearn: 0.3764120\ttotal: 2.35s\tremaining: 853ms\n",
      "33:\tlearn: 0.3718260\ttotal: 2.37s\tremaining: 768ms\n",
      "34:\tlearn: 0.3685615\ttotal: 2.75s\tremaining: 786ms\n",
      "35:\tlearn: 0.3644988\ttotal: 2.85s\tremaining: 711ms\n",
      "36:\tlearn: 0.3609119\ttotal: 3.22s\tremaining: 697ms\n",
      "37:\tlearn: 0.3576512\ttotal: 3.55s\tremaining: 654ms\n",
      "38:\tlearn: 0.3543215\ttotal: 3.6s\tremaining: 554ms\n",
      "39:\tlearn: 0.3501767\ttotal: 3.65s\tremaining: 456ms\n",
      "40:\tlearn: 0.3467952\ttotal: 3.7s\tremaining: 361ms\n",
      "41:\tlearn: 0.3397848\ttotal: 3.7s\tremaining: 264ms\n",
      "42:\tlearn: 0.3336837\ttotal: 3.7s\tremaining: 172ms\n",
      "43:\tlearn: 0.3307579\ttotal: 3.89s\tremaining: 88.5ms\n",
      "44:\tlearn: 0.3274111\ttotal: 4.26s\tremaining: 0us\n"
     ]
    }
   ],
   "source": [
    "from catboost import CatBoostClassifier, Pool\n",
    "from sklearn.model_selection import GridSearchCV\n",
    "\n",
    "np.random.seed(42)\n",
    "\n",
    "# split into X & y\n",
    "X = heart_disease_shuffled.drop(\"target\", axis=1)\n",
    "y = heart_disease_shuffled[\"target\"]\n",
    "\n",
    "# split into train and test sets\n",
    "X_train, X_test, y_train, y_test = train_test_split(X, y, test_size=0.2)\n",
    "\n",
    "# # Instatiate RandomForestClassifier\n",
    "# #  “n_jobs” to -1 when using a CPU and 1 when using a GPU\n",
    "# clf = RandomForestClassifier(n_jobs=1)\n",
    "\n",
    "# setup CatBoost\n",
    "catbost_clf = CatBoostClassifier(iterations=45,\n",
    "                           depth=16,\n",
    "                           learning_rate=0.1,\n",
    "                           loss_function='Logloss',\n",
    "                           verbose=True)\n",
    "\n",
    "# Fit the CatBoost version of clf\n",
    "catbost_clf.fit(X_train, y_train);"
   ]
  },
  {
   "cell_type": "code",
   "execution_count": 157,
   "id": "91f5929c",
   "metadata": {
    "scrolled": true
   },
   "outputs": [
    {
     "name": "stdout",
     "output_type": "stream",
     "text": [
      "Acc: 88.52%\n",
      "Precision: 0.82\n",
      "Recall: 0.96\n",
      "F1 score: 0.89\n"
     ]
    }
   ],
   "source": [
    "catbost_y_preds = catbost_clf.predict(X_test)\n",
    "\n",
    "# evaluate the predictions\n",
    "catbost_metrics = evaluate_preds(y_test, catbost_y_preds)"
   ]
  },
  {
   "cell_type": "code",
   "execution_count": 158,
   "id": "71955e6f",
   "metadata": {},
   "outputs": [
    {
     "data": {
      "image/png": "[encoded data removed]",
      "text/plain": [
       "<Figure size 1000x800 with 1 Axes>"
      ]
     },
     "metadata": {},
     "output_type": "display_data"
    }
   ],
   "source": [
    "compare_metrics = pd.DataFrame({\"baseline\": baseline_metrics,\n",
    "                                \"clf_2\": clf_2_metrics,\n",
    "                                \"clf_3\": clf_3_metrics,\n",
    "                                \"random search\": rs_metrics,\n",
    "                                \"grid search\": gs_metrics,\n",
    "                                \"catboost\": catbost_metrics})\n",
    "\n",
    "compare_metrics.plot.bar(figsize=(10, 8));"
   ]
  },
  {
   "cell_type": "markdown",
   "id": "680d046d",
   "metadata": {},
   "source": [
    "### Saving And Loading A Model\n",
    "\n",
    "**two ways to save and load machine learning models:**\n",
    "\n",
    "* with python's `pickle`module\n",
    "* with the `joblib`module\n",
    "\n",
    "***Pickle***"
   ]
  },
  {
   "cell_type": "code",
   "execution_count": 159,
   "id": "9ee73079",
   "metadata": {},
   "outputs": [],
   "source": [
    "import pickle\n",
    "\n",
    "# save an existing model to file\n",
    "pickle.dump(catbost_clf, open(\"models/catboost_randomforest_classification_model_1.pkl\", \"wb\"))"
   ]
  },
  {
   "cell_type": "code",
   "execution_count": 160,
   "id": "9b55c186",
   "metadata": {},
   "outputs": [],
   "source": [
    "# load a saved model\n",
    "loaded_pickle_model = pickle.load(open(\"models/catboost_randomforest_classification_model_1.pkl\", \"rb\"))"
   ]
  },
  {
   "cell_type": "code",
   "execution_count": 161,
   "id": "2cf2f1cf",
   "metadata": {},
   "outputs": [
    {
     "name": "stdout",
     "output_type": "stream",
     "text": [
      "Acc: 88.52%\n",
      "Precision: 0.82\n",
      "Recall: 0.96\n",
      "F1 score: 0.89\n"
     ]
    },
    {
     "data": {
      "text/plain": [
       "{'accuracy': 0.89, 'precision': 0.82, 'recall': 0.96, 'f1': 0.89}"
      ]
     },
     "execution_count": 161,
     "metadata": {},
     "output_type": "execute_result"
    }
   ],
   "source": [
    "# make some predictions\n",
    "pickle_y_preds = loaded_pickle_model.predict(X_test)\n",
    "evaluate_preds(y_test, pickle_y_preds)"
   ]
  },
  {
   "cell_type": "markdown",
   "id": "e18c2e4f",
   "metadata": {},
   "source": [
    "### Saving And Loading A Model 2\n",
    "\n",
    "***joblib***"
   ]
  },
  {
   "cell_type": "code",
   "execution_count": 162,
   "id": "45748d0d",
   "metadata": {},
   "outputs": [
    {
     "data": {
      "text/plain": [
       "['models/catboost_randomforest_classification_model_1.joblib']"
      ]
     },
     "execution_count": 162,
     "metadata": {},
     "output_type": "execute_result"
    }
   ],
   "source": [
    "from joblib import dump, load\n",
    "\n",
    "# save model to file\n",
    "dump(catbost_clf, filename=\"models/catboost_randomforest_classification_model_1.joblib\")"
   ]
  },
  {
   "cell_type": "code",
   "execution_count": 163,
   "id": "44c6576b",
   "metadata": {},
   "outputs": [],
   "source": [
    "# import a saved joblib model\n",
    "loaded_job_model = load(filename=\"models/catboost_randomforest_classification_model_1.joblib\")"
   ]
  },
  {
   "cell_type": "code",
   "execution_count": 164,
   "id": "257a398b",
   "metadata": {},
   "outputs": [
    {
     "name": "stdout",
     "output_type": "stream",
     "text": [
      "Acc: 88.52%\n",
      "Precision: 0.82\n",
      "Recall: 0.96\n",
      "F1 score: 0.89\n"
     ]
    },
    {
     "data": {
      "text/plain": [
       "{'accuracy': 0.89, 'precision': 0.82, 'recall': 0.96, 'f1': 0.89}"
      ]
     },
     "execution_count": 164,
     "metadata": {},
     "output_type": "execute_result"
    }
   ],
   "source": [
    "# make and evaluate joblib predictions\n",
    "joblib_y_preds = loaded_job_model.predict(X_test)\n",
    "evaluate_preds(y_test, joblib_y_preds)"
   ]
  },
  {
   "cell_type": "markdown",
   "id": "2b290129",
   "metadata": {},
   "source": [
    "***According to Documentation, use `joblib`***"
   ]
  },
  {
   "cell_type": "code",
   "execution_count": null,
   "id": "490fee69",
   "metadata": {},
   "outputs": [],
   "source": []
  }
 ],
 "metadata": {
  "kernelspec": {
   "display_name": "Python 3 (ipykernel)",
   "language": "python",
   "name": "python3"
  },
  "language_info": {
   "codemirror_mode": {
    "name": "ipython",
    "version": 3
   },
   "file_extension": ".py",
   "mimetype": "text/x-python",
   "name": "python",
   "nbconvert_exporter": "python",
   "pygments_lexer": "ipython3",
   "version": "3.10.6"
  },
  "toc": {
   "base_numbering": 1,
   "nav_menu": {},
   "number_sections": true,
   "sideBar": true,
   "skip_h1_title": false,
   "title_cell": "Table of Contents",
   "title_sidebar": "Contents",
   "toc_cell": false,
   "toc_position": {
    "height": "calc(100% - 180px)",
    "left": "10px",
    "top": "150px",
    "width": "288px"
   },
   "toc_section_display": true,
   "toc_window_display": true
  },
  "varInspector": {
   "cols": {
    "lenName": 16,
    "lenType": 16,
    "lenVar": 40
   },
   "kernels_config": {
    "python": {
     "delete_cmd_postfix": "",
     "delete_cmd_prefix": "del ",
     "library": "var_list.py",
     "varRefreshCmd": "print(var_dic_list())"
    },
    "r": {
     "delete_cmd_postfix": ") ",
     "delete_cmd_prefix": "rm(",
     "library": "var_list.r",
     "varRefreshCmd": "cat(var_dic_list()) "
    }
   },
   "types_to_exclude": [
    "module",
    "function",
    "builtin_function_or_method",
    "instance",
    "_Feature"
   ],
   "window_display": false
  }
 },
 "nbformat": 4,
 "nbformat_minor": 5
}
